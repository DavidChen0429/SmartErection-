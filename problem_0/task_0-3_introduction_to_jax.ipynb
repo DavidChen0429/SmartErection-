{
 "cells": [
  {
   "cell_type": "markdown",
   "id": "ac408b5e",
   "metadata": {
    "deletable": false,
    "editable": false,
    "nbgrader": {
     "cell_type": "markdown",
     "checksum": "a96d02d6346fa7399cf6da0111ce0937",
     "grade": false,
     "grade_id": "cell-b00828259c8e42e8",
     "locked": true,
     "schema_version": 3,
     "solution": false,
     "task": false
    }
   },
   "source": [
    "# RO47019: Intelligent Control Systems Practical Assignment\n",
    "* Period: 2022-2023, Q3\n",
    "* Course homepage: https://brightspace.tudelft.nl/d2l/home/500969\n",
    "* Instructor: Cosimo Della Santina (C.DellaSantina@tudelft.nl)\n",
    "* Teaching assistant: Ruben Martin Rodriguez (R.MartinRodriguez@student.tudelft.nl)\n",
    "* (c) TU Delft, 2023\n",
    "\n",
    "Make sure you fill in any place that says `YOUR CODE HERE` or `YOUR ANSWER HERE`. Remove `raise NotImplementedError()` afterwards. Moreover, if you see an empty cell, please DO NOT delete it, instead run that cell as you would run all other cells. Please fill in your name(s) and other required details below:"
   ]
  },
  {
   "cell_type": "code",
   "execution_count": 1,
   "id": "4f9e220c",
   "metadata": {},
   "outputs": [],
   "source": [
    "# Please fill in your names, student numbers, netID, and emails below.\n",
    "STUDENT_1_NAME = \"Zekai Chen\"\n",
    "STUDENT_1_STUDENT_NUMBER = \"5705762\"\n",
    "STUDENT_1_NETID = \"zchen12\"\n",
    "STUDENT_1_EMAIL = \"Z.Chen-58@student.tudelft.nl\""
   ]
  },
  {
   "cell_type": "code",
   "execution_count": 2,
   "id": "8ba32571",
   "metadata": {
    "deletable": false,
    "editable": false,
    "nbgrader": {
     "cell_type": "code",
     "checksum": "042927213b84aa368aa3ea72caa4cb60",
     "grade": true,
     "grade_id": "cell-9f148ec62e0de49c",
     "locked": true,
     "points": 0,
     "schema_version": 3,
     "solution": false,
     "task": false
    }
   },
   "outputs": [],
   "source": [
    "# Note: this block is a check that you have filled in the above information.\n",
    "# It will throw an AssertionError until all fields are filled\n",
    "assert STUDENT_1_NAME != \"\"\n",
    "assert STUDENT_1_STUDENT_NUMBER != \"\"\n",
    "assert STUDENT_1_NETID != \"\"\n",
    "assert STUDENT_1_EMAIL != \"\""
   ]
  },
  {
   "cell_type": "markdown",
   "id": "af317a94",
   "metadata": {
    "deletable": false,
    "editable": false,
    "nbgrader": {
     "cell_type": "markdown",
     "checksum": "e76ef40fcc3f08a0484661497162a1a9",
     "grade": false,
     "grade_id": "cell-4ea391677951116c",
     "locked": true,
     "schema_version": 3,
     "solution": false,
     "task": false
    }
   },
   "source": [
    "### General announcements\n",
    "\n",
    "* Do *not* share your solutions, and do *not* copy solutions from others. By submitting your solutions, you claim that you alone are responsible for this code.\n",
    "\n",
    "* Do *not* email questions directly, since we want to provide everybody with the same information and avoid repeating the same answers. Instead, please post your questions regarding this assignment in the correct support forum on Brightspace, this way everybody can benefit from the response. If you do have a particular question that you want to ask directly, please use the scheduled Q&A hours to ask the TA.\n",
    "\n",
    "* There is a strict deadline for each assignment. Students are responsible to ensure that they have uploaded their work in time. So, please double check that your upload succeeded to the Brightspace and avoid any late penalties.\n",
    "\n",
    "* This [Jupyter notebook](https://jupyter.org/) uses `nbgrader` to help us with automated tests. `nbgrader` will make various cells in this notebook \"uneditable\" or \"unremovable\" and gives them a special id in the cell metadata. This way, when we run our checks, the system will check the existence of the cell ids and verify the number of points and which checks must be run. While there are ways that you can edit the metadata and work around the restrictions to delete or modify these special cells, you should not do that since then our nbgrader backend will not be able to parse your notebook and give you points for the assignment. You are free to add additional cells, but if you find a cell that you cannot modify or remove, please know that this is on purpose.\n",
    "\n",
    "* This notebook will have in various places a line that throws a `NotImplementedError` exception. These are locations where the assignment requires you to adapt the code! These lines are just there as a reminder for youthat you have not yet adapted that particular piece of code, especially when you execute all the cells. Once your solution code replaced these lines, it should accordingly *not* throw any exceptions anymore.\n",
    "\n",
    "Before you turn this problem in, make sure everything runs as expected. First, **restart the kernel** (in the menubar, select Kernel$\\rightarrow$Restart) and then **run all cells** (in the menubar, select Cell$\\rightarrow$Run All)."
   ]
  },
  {
   "cell_type": "code",
   "execution_count": null,
   "id": "3c956945",
   "metadata": {},
   "outputs": [],
   "source": []
  },
  {
   "cell_type": "markdown",
   "id": "bfe18e81",
   "metadata": {},
   "source": [
    "# Task 0.3 - Introduction to JAX + Flax (0p)\n",
    "  \n",
    "**Author:** Phillip Lippe, University of Amsterdam\n",
    "\n",
    "**The completion of this assignment is completely voluntarily and you will not be graded for any of the contents in this notebook.**\n",
    "\n",
    "This notebook is adapted from the [JAX tutorial](https://uvadlc-notebooks.readthedocs.io/en/latest/tutorial_notebooks/JAX/tutorial2/Introduction_to_JAX.html) for the Deep Learning course at the University of Amsterdam. Copyright belongs to Phillip Lippe / University of Amsterdam."
   ]
  },
  {
   "cell_type": "markdown",
   "id": "db2b100c",
   "metadata": {},
   "source": [
    "Welcome to our JAX tutorial for the Deep Learning course at the University of Amsterdam! The following notebook is meant to give a short introduction to JAX, including writing and training your own neural networks with [Flax](https://flax.readthedocs.io/en/latest/). But why should you learn JAX, if there are already so many other deep learning frameworks like [PyTorch](https://pytorch.org/) and [TensorFlow](https://www.tensorflow.org/)? The short answer: because it can be extremely fast. For instance, a small GoogleNet on CIFAR10, which we discuss in detail in [Tutorial 5](https://uvadlc-notebooks.readthedocs.io/en/latest/tutorial_notebooks/JAX/tutorial5/Inception_ResNet_DenseNet.html), can be trained in JAX 3x faster than in PyTorch with a similar setup. Note that for larger models, larger batch sizes, or smaller GPUs, a considerably smaller speedup is expected, and the code has not been designed for benchmarking. Nonetheless, JAX enables this speedup by compiling functions and numerical programs for accelerators (GPU/TPU) *just in time*, finding the optimal utilization of the hardware. Frameworks with dynamic computation graphs like PyTorch cannot achieve the same efficiency, since they cannot anticipate the next operations before the user calls them. For example, in an Inception block of GoogleNet, we apply multiple convolutional layers in parallel on the same input. JAX can optimize the execution of this layer by compiling the whole forward pass for the available accelerator and fusing operations where possible, reducing memory access and speeding up execution. In contrast, when calling the first convolutional layer in PyTorch, the framework does not know that multiple convolutions on the same feature map will follow. It sends each operation one by one to the GPU, and can only adapt the execution after seeing the next Python calls. Hence, JAX can make more efficient use of the GPU than, for instance, PyTorch. \n",
    "\n",
    "However, everything comes with a price. In order to efficiently compile programs just-in-time in JAX, the functions need to be written with certain constraints. Firstly, the functions are not allowed to have side-effects, meaning that they are not allowed to affect any variable outside of their namespaces. For instance, in-place operations affect a variable even outside of the function. Moreover, stochastic operations such as `torch.rand(...)` change the global state of pseudo random number generators, which is not allowed in functional JAX (we will see later how JAX handles random number generation). Secondly, JAX compiles the functions based on anticipated shapes of all arrays/tensors in the function. This becomes problematic if the shapes or the program flow within the function depends on the values of the tensor. For instance, in the operation `y = x[x>3]`, the shape of `y` depends on how many values of `x` are greater than 3. We will discuss more of these constraints in this notebook. Still, in most common cases of training neural networks, it is straightforward to write functions within these constraints.\n",
    "\n",
    "This tutorial is heavily inspired by many great JAX tutorials before, and a (non-exclusive) list of them are:\n",
    "\n",
    "* [JAX 101](https://jax.readthedocs.io/en/latest/jax-101/index.html) with many subtutorials on individual parts of JAX\n",
    "* [JAX - The Sharp Bits](https://jax.readthedocs.io/en/latest/notebooks/Common_Gotchas_in_JAX.html) discusses the constraints of JAX and how to overcome them\n",
    "* [Jax for the Impatient](https://flax.readthedocs.io/en/latest/notebooks/jax_for_the_impatient.html) for a quick intro to JAX with focus on deep learning\n",
    "* [Flax Basics](https://flax.readthedocs.io/en/latest/notebooks/flax_basics.html) as introduction to the Flax framework\n",
    "\n",
    "Throughout this tutorial, we will draw comparisons to PyTorch and also use its data loading library (see our [PyTorch tutorial](https://uvadlc-notebooks.readthedocs.io/en/latest/tutorial_notebooks/tutorial2/Introduction_to_PyTorch.html) for a refresher). JAX is not meant to 'redefine the wheel', so we can combine it framework-agnostic parts from PyTorch (e.g., data loading) and TensorFlow (e.g., logging in TensorBoard). Further, we use [Flax](https://flax.readthedocs.io/en/latest/) as a neural network library in JAX, and [Optax](https://optax.readthedocs.io/en/latest/index.html) to implement common deep learning optimizers. More on them later in the notebook. First, let's get started with some basic JAX operations."
   ]
  },
  {
   "cell_type": "code",
   "execution_count": 3,
   "id": "27bcf9b4",
   "metadata": {},
   "outputs": [],
   "source": [
    "## Standard libraries\n",
    "import os\n",
    "import math\n",
    "import numpy as np\n",
    "import time\n",
    "\n",
    "## Imports for plotting\n",
    "import matplotlib.pyplot as plt\n",
    "\n",
    "%matplotlib inline\n",
    "import matplotlib_inline.backend_inline\n",
    "\n",
    "matplotlib_inline.backend_inline.set_matplotlib_formats(\"svg\", \"pdf\")  # For export\n",
    "from matplotlib.colors import to_rgba\n",
    "import seaborn as sns\n",
    "\n",
    "sns.set()\n",
    "\n",
    "## Progress bar\n",
    "from tqdm.auto import tqdm"
   ]
  },
  {
   "cell_type": "markdown",
   "id": "596fdb56",
   "metadata": {},
   "source": [
    "## JAX as NumPy on accelerators\n",
    "\n",
    "Every deep learning framework has its own API for dealing with data arrays. For example, PyTorch uses `torch.Tensor` as data arrays on which it defines several operations like matrix multiplication, taking the mean of the elements, etc. In JAX, this basic API strongly resembles the one of [NumPy](https://numpy.org/), and even has the same name in JAX (`jax.numpy`). So, for now, let's think of JAX as NumPy that runs on accelerators. As a first step, let's import JAX and its NumPy API:"
   ]
  },
  {
   "cell_type": "code",
   "execution_count": 4,
   "id": "49e7ef6d",
   "metadata": {},
   "outputs": [
    {
     "name": "stdout",
     "output_type": "stream",
     "text": [
      "Using jax 0.4.6\n"
     ]
    }
   ],
   "source": [
    "import jax\n",
    "import jax.numpy as jnp\n",
    "\n",
    "print(\"Using jax\", jax.__version__)"
   ]
  },
  {
   "cell_type": "markdown",
   "id": "ef489888",
   "metadata": {},
   "source": [
    "At the current time of writing (January 2023), the newest JAX version is `0.4.x` which supports most of the common NumPy functionalities. The NumPy API of JAX is usually imported as `jnp`, to keep a resemblance to NumPy's import as `np`. In the following subsections, we will discuss the main differences between the classical NumPy API and the one of JAX."
   ]
  },
  {
   "cell_type": "markdown",
   "id": "59bc5499",
   "metadata": {},
   "source": [
    "### Device Arrays\n",
    "\n",
    "As a first test, let's create some arbitrary arrays like we would do in NumPy. For instance, let's create an array of zeros with shape `[2,5]`:"
   ]
  },
  {
   "cell_type": "code",
   "execution_count": 5,
   "id": "c564f925",
   "metadata": {},
   "outputs": [
    {
     "name": "stderr",
     "output_type": "stream",
     "text": [
      "No GPU/TPU found, falling back to CPU. (Set TF_CPP_MIN_LOG_LEVEL=0 and rerun for more info.)\n"
     ]
    },
    {
     "name": "stdout",
     "output_type": "stream",
     "text": [
      "[[0. 0. 0. 0. 0.]\n",
      " [0. 0. 0. 0. 0.]]\n"
     ]
    }
   ],
   "source": [
    "a = jnp.zeros((2, 5), dtype=jnp.float32)\n",
    "print(a)"
   ]
  },
  {
   "cell_type": "markdown",
   "id": "516bc6fe",
   "metadata": {},
   "source": [
    "Similarly, we can create an array with values of 0 to 5 by using `arange`:"
   ]
  },
  {
   "cell_type": "code",
   "execution_count": 6,
   "id": "ee5bd836",
   "metadata": {},
   "outputs": [
    {
     "name": "stdout",
     "output_type": "stream",
     "text": [
      "[0 1 2 3 4 5]\n"
     ]
    }
   ],
   "source": [
    "b = jnp.arange(6)\n",
    "print(b)"
   ]
  },
  {
   "cell_type": "markdown",
   "id": "77f8dab4",
   "metadata": {},
   "source": [
    "You might now wonder whether the arrays `a` and `b` are simply NumPy arrays. To check that, let's print out the class of `b`:"
   ]
  },
  {
   "cell_type": "code",
   "execution_count": 7,
   "id": "72ecee4a",
   "metadata": {},
   "outputs": [
    {
     "data": {
      "text/plain": [
       "jaxlib.xla_extension.ArrayImpl"
      ]
     },
     "execution_count": 7,
     "metadata": {},
     "output_type": "execute_result"
    }
   ],
   "source": [
    "b.__class__"
   ]
  },
  {
   "cell_type": "markdown",
   "id": "759b97ec",
   "metadata": {},
   "source": [
    "Instead of a simple NumPy array, it shows the type `DeviceArray` which is what JAX uses to represent arrays. In contrast to NumPy, JAX can execute the same code on different backends – CPU, GPU and TPU. A `DeviceArray` therefore represents an array which is on one of the backends. Similar to PyTorch, we can check the device of an array by calling `.device()`:"
   ]
  },
  {
   "cell_type": "code",
   "execution_count": 8,
   "id": "1830458e",
   "metadata": {},
   "outputs": [
    {
     "data": {
      "text/plain": [
       "CpuDevice(id=0)"
      ]
     },
     "execution_count": 8,
     "metadata": {},
     "output_type": "execute_result"
    }
   ],
   "source": [
    "b.device()"
   ]
  },
  {
   "attachments": {},
   "cell_type": "markdown",
   "id": "426ebefc",
   "metadata": {},
   "source": [
    "\n",
    "In order to change the device of an array, we can use `jax.device_get`:"
   ]
  },
  {
   "cell_type": "code",
   "execution_count": 9,
   "id": "b96105d4",
   "metadata": {},
   "outputs": [
    {
     "name": "stdout",
     "output_type": "stream",
     "text": [
      "<class 'numpy.ndarray'>\n"
     ]
    }
   ],
   "source": [
    "b_cpu = jax.device_get(b)\n",
    "print(b_cpu.__class__)"
   ]
  },
  {
   "cell_type": "markdown",
   "id": "1e768a4d",
   "metadata": {},
   "source": [
    "Unsurprisingly, a simple CPU-based array is nothing else than a NumPy array, which allows for a simple conversion between the two frameworks! To explicitly push a NumPy array to the accelerator, you can use `jax.device_put`:"
   ]
  },
  {
   "cell_type": "code",
   "execution_count": 10,
   "id": "dd15f4ba",
   "metadata": {},
   "outputs": [
    {
     "name": "stdout",
     "output_type": "stream",
     "text": [
      "Device put: <class 'jaxlib.xla_extension.ArrayImpl'> on TFRT_CPU_0\n"
     ]
    }
   ],
   "source": [
    "b_gpu = jax.device_put(b_cpu)\n",
    "print(f\"Device put: {b_gpu.__class__} on {b_gpu.device()}\")"
   ]
  },
  {
   "cell_type": "markdown",
   "id": "7db34d2f",
   "metadata": {},
   "source": [
    "Nicely enough, JAX will handle any device clash itself when you try to perform operations on a NumPy array and a DeviceArray by modeling the output as DeviceArray again:"
   ]
  },
  {
   "cell_type": "code",
   "execution_count": 11,
   "id": "3828e734",
   "metadata": {},
   "outputs": [
    {
     "data": {
      "text/plain": [
       "Array([ 0,  2,  4,  6,  8, 10], dtype=int32)"
      ]
     },
     "execution_count": 11,
     "metadata": {},
     "output_type": "execute_result"
    }
   ],
   "source": [
    "b_cpu + b_gpu"
   ]
  },
  {
   "cell_type": "markdown",
   "id": "13dcc6f1",
   "metadata": {},
   "source": [
    "Finally, we can also print all our available devices using `jax.devices()`:"
   ]
  },
  {
   "cell_type": "code",
   "execution_count": 12,
   "id": "1e7f736d",
   "metadata": {},
   "outputs": [
    {
     "data": {
      "text/plain": [
       "[CpuDevice(id=0)]"
      ]
     },
     "execution_count": 12,
     "metadata": {},
     "output_type": "execute_result"
    }
   ],
   "source": [
    "jax.devices()"
   ]
  },
  {
   "cell_type": "markdown",
   "id": "dc77f50e",
   "metadata": {},
   "source": [
    "A technical detail of running operations on DeviceArrays is that when a JAX function is called, the corresponding operation takes place asynchronously on the accelerator when possible. For instance, if we call `out = jnp.matmul(b, b)`, JAX first returns a placeholder array for `out` which may not be filled with the values as soon as the function calls finishes. This way, Python will not block the execution of follow-up statements, but instead only does it whenever we strictly need the value of `out`, for instance for printing or putting it on CPU. PyTorch uses a very similar principle to allow asynchronous computation. For more details, see [JAX - Asynchronous Dispatch](https://jax.readthedocs.io/en/latest/async_dispatch.html)."
   ]
  },
  {
   "cell_type": "markdown",
   "id": "1f1d99b6",
   "metadata": {},
   "source": [
    "### Immutable tensors\n",
    "\n",
    "When we would like to change a NumPy array in-place, like replacing the first element of `b` with `1` instead of `0`, we could simply write `b[0]=1`. However, in JAX, this is not possible. A `DeviceArray` object is *immutable*, which means that no in-place operations are possible. The reason for this goes back to our discussion in the introduction: JAX requires programs to be \"pure\" functions, i.e. no effects on variables outside of the function are allowed. Allowing in-place operations of variables would make the program analysis for JAX's just-in-time compilation difficult. Instead, we can use the expression `b.at[0].set(1)` which, analogous to the in-place operation, returns a new array which is identical to `b`, except that its value at the first position is 1. Let's try that out below:"
   ]
  },
  {
   "cell_type": "code",
   "execution_count": 72,
   "id": "e857ecdd",
   "metadata": {},
   "outputs": [
    {
     "name": "stdout",
     "output_type": "stream",
     "text": [
      "(6,)\n",
      "Original array: [0 1 2 3 4 5]\n",
      "Changed array: [1 1 2 3 4 5]\n"
     ]
    }
   ],
   "source": [
    "b_new = b.at[0].set(1)\n",
    "print(b_new.shape)\n",
    "print(\"Original array:\", b)\n",
    "print(\"Changed array:\", b_new)"
   ]
  },
  {
   "cell_type": "markdown",
   "id": "350bbb40",
   "metadata": {},
   "source": [
    "However, we said that JAX is very efficient. Isn't creating a new array in this case the opposite? While it is indeed less efficient, it can made much more efficient with JAX's just-in-time compilation. The compiler can recognize unnecessary array duplications, and replace them with in-place operations again. More on the just-in-time compilation later! "
   ]
  },
  {
   "cell_type": "markdown",
   "id": "0910f0a3",
   "metadata": {},
   "source": [
    "### Pseudo Random Numbers in JAX\n",
    "\n",
    "In machine learning, we come across several situations where we need to generate pseudo random numbers: randomly shuffling a dataset, sampling a dropout mask for regularization, training a VAE by sampling from the approximate posterior, etc. In libraries like NumPy and PyTorch, the random number generator are controlled by a seed, which we set initially to obtain the same samples every time we run the code (this is why the numbers are not truly random, hence \"pseudo\"-random). However, if we call `np.random.normal()` 5 times consecutively, we will get 5 different numbers since every execution changes the state/seed of the pseudo random number generation (PRNG). In JAX, if we would try to generate a random number with this approach, a function creating pseudo-random number would have an effect outside of it. To prevent this, JAX takes a different approach by explicitly passing and iterating the PRNG state. First, let's create a PRNG for the seed 42:"
   ]
  },
  {
   "cell_type": "code",
   "execution_count": 14,
   "id": "d64c5f0b",
   "metadata": {},
   "outputs": [],
   "source": [
    "rng = jax.random.PRNGKey(42)"
   ]
  },
  {
   "cell_type": "markdown",
   "id": "775949c4",
   "metadata": {},
   "source": [
    "Now, we can use this PRNG state to generate random numbers. Since with this state, the random number generation becomes deterministic, we sample the same number every time. This is not the case in NumPy if we set the seed once before both operations:"
   ]
  },
  {
   "cell_type": "code",
   "execution_count": 15,
   "id": "88ddffce",
   "metadata": {},
   "outputs": [
    {
     "name": "stdout",
     "output_type": "stream",
     "text": [
      "JAX - Random number 1: -0.18471177\n",
      "JAX - Random number 2: -0.18471177\n",
      "NumPy - Random number 1: 0.4967141530112327\n",
      "NumPy - Random number 2: -0.13826430117118466\n"
     ]
    }
   ],
   "source": [
    "# A non-desirable way of generating pseudo-random numbers...\n",
    "jax_random_number_1 = jax.random.normal(rng)\n",
    "jax_random_number_2 = jax.random.normal(rng)\n",
    "print(\"JAX - Random number 1:\", jax_random_number_1)\n",
    "print(\"JAX - Random number 2:\", jax_random_number_2)\n",
    "\n",
    "# Typical random numbers in NumPy\n",
    "np.random.seed(42)\n",
    "np_random_number_1 = np.random.normal()\n",
    "np_random_number_2 = np.random.normal()\n",
    "print(\"NumPy - Random number 1:\", np_random_number_1)\n",
    "print(\"NumPy - Random number 2:\", np_random_number_2)"
   ]
  },
  {
   "cell_type": "markdown",
   "id": "d60e59d3",
   "metadata": {},
   "source": [
    "Usually, we want to have a behavior like NumPy where we get a different random number every time we sample. To achieve this, we can *split* the PRNG state to get usable subkeys every time we need a new pseudo-random number. We can do this with `jax.random.split(...)`:"
   ]
  },
  {
   "cell_type": "code",
   "execution_count": 16,
   "id": "be3d64de",
   "metadata": {},
   "outputs": [
    {
     "name": "stdout",
     "output_type": "stream",
     "text": [
      "JAX new - Random number 1: 0.107961535\n",
      "JAX new - Random number 2: -1.2226542\n"
     ]
    }
   ],
   "source": [
    "rng, subkey1, subkey2 = jax.random.split(rng, num=3)  # We create 3 new keys\n",
    "jax_random_number_1 = jax.random.normal(subkey1)\n",
    "jax_random_number_2 = jax.random.normal(subkey2)\n",
    "print(\"JAX new - Random number 1:\", jax_random_number_1)\n",
    "print(\"JAX new - Random number 2:\", jax_random_number_2)"
   ]
  },
  {
   "cell_type": "markdown",
   "id": "aebc39d0",
   "metadata": {},
   "source": [
    "Every time you run this cell, you will obtain different random numbers for both operations since we create new PRNG states before sampling. In general, you want to split the PRNG key every time before generating a pseudo-number, to prevent accidentally obtaining the exact same numbers (for instance, sampling the exact same dropout mask every time you run the network makes dropout itself quite useless...). For a deeper dive into the ideas behind the random number generation in JAX, see JAX's tutorial on [Pseudo Random Numbers](https://jax.readthedocs.io/en/latest/jax-101/05-random-numbers.html)."
   ]
  },
  {
   "cell_type": "markdown",
   "id": "b4543cda",
   "metadata": {},
   "source": [
    "## Function transformations with Jaxpr\n",
    "\n",
    "Rosalia Schneider and Vladimir Mikulik summarize the key points of JAX in the [JAX 101 tutorial](https://jax.readthedocs.io/en/latest/jax-101/01-jax-basics.html) as follows: \n",
    "\n",
    "> The most important difference, and in some sense the root of all the rest, is that JAX is designed to be functional, as in functional programming. The reason behind this is that the kinds of program transformations that JAX enables are much more feasible in functional-style programs. [...] The important feature of functional programming to grok when working with JAX is very simple: don’t write code with side-effects.\n",
    "\n",
    "Essentially, we want to write our main code of JAX in functions that do not affect anything else besides its outputs. For instance, we do not want to change input arrays in-place, or access global variables. While this might seem limiting at first, you get used to this quite quickly and most JAX functions that need to fulfill these constraints can be written this way without problems. Note that not all possible functions in training a neural network need to fulfill the constraints. For instance, loading or saving of models, the logging, or the data generation can be done in naive functions. Only the network execution, which we want to do very efficiently on our accelerator (GPU or TPU), should strictly follow these constraints.\n",
    "\n",
    "What does make JAX functions so special, and how can we think about them? A good way of gaining understanding in how JAX handles function is to understand its intermediate representation: jaxpr. Conceptually, you can think of any operation that JAX does on a function, as first trace-specializing the Python function to be transformed into a small and well-behaved intermediate form. This means that we check which operations are performed on which array, and what shapes the arrays are. Based on this representation, JAX then interprets the function with transformation-specific interpretation rules, which includes automatic differentiation or compiling a function in XLA to efficiently use the accelerator.\n",
    "\n",
    "To illustrate this intermediate representation, let's consider the same simple function we used in the [PyTorch tutorial](https://uvadlc-notebooks.readthedocs.io/en/latest/tutorial_notebooks/tutorial2/Introduction_to_PyTorch.html) to discuss the concept of dynamic computation graphs:\n",
    "\n",
    "$$ y = \\frac{1}{|x|}\\sum_{i}\\left[\\left(x_i+2\\right)^2+3\\right]$$\n",
    "\n",
    "Using common NumPy operations in JAX, we can write it as follows:"
   ]
  },
  {
   "cell_type": "code",
   "execution_count": 17,
   "id": "71064b84",
   "metadata": {},
   "outputs": [
    {
     "name": "stdout",
     "output_type": "stream",
     "text": [
      "Input [0. 1. 2.]\n",
      "Output 12.666667\n"
     ]
    }
   ],
   "source": [
    "def simple_graph(x):\n",
    "    x = x + 2\n",
    "    x = x**2\n",
    "    x = x + 3\n",
    "    y = x.mean()\n",
    "    return y\n",
    "\n",
    "\n",
    "inp = jnp.arange(3, dtype=jnp.float32)\n",
    "print(\"Input\", inp)\n",
    "print(\"Output\", simple_graph(inp))"
   ]
  },
  {
   "cell_type": "markdown",
   "id": "bad49df6",
   "metadata": {},
   "source": [
    "To view the jaxpr representation of this function, we can use `jax.make_jaxpr`. Since the tracing depends on the shape of the input, we need to pass an input to the function (here of shape `[3]`):"
   ]
  },
  {
   "cell_type": "code",
   "execution_count": 18,
   "id": "a0323430",
   "metadata": {},
   "outputs": [
    {
     "data": {
      "text/plain": [
       "{ lambda ; a:f32[3]. let\n",
       "    b:f32[3] = add a 2.0\n",
       "    c:f32[3] = integer_pow[y=2] b\n",
       "    d:f32[3] = add c 3.0\n",
       "    e:f32[] = reduce_sum[axes=(0,)] d\n",
       "    f:f32[] = div e 3.0\n",
       "  in (f,) }"
      ]
     },
     "execution_count": 18,
     "metadata": {},
     "output_type": "execute_result"
    }
   ],
   "source": [
    "jax.make_jaxpr(simple_graph)(inp)"
   ]
  },
  {
   "cell_type": "markdown",
   "id": "d5409ffb",
   "metadata": {},
   "source": [
    "A jaxpr representation follows the structure:\n",
    "\n",
    "```python\n",
    "jaxpr ::= { lambda Var* ; Var+.\n",
    "            let Eqn*\n",
    "            in  [Expr+] }\n",
    "```\n",
    "where `Var*` are constants and `Var+` are input arguments. In the cell above, this is `a:f32[3]`, i.e. an array of shape 3 with type `jnp.float32` (`inp`). The list of equations, `Eqn*`, define the intermediate results of the function. You can see that each operation in `simple_graph` is translated to a corresponding equation, like `x = x + 2` is translated to `b:f32[3] = add a 2.0`. Furthermore, you see the specialization of the operations on the input shape, like `x.mean()` being replacing in `e` and `f` with summing and dividing by 3. Finally, `Expr+` in the jaxpr representation are the outputs of the functions. In the example, this is `f`, i.e. the final result of the function.\n",
    "Based on these atomic operations, JAX offers all kind of function transformations, of which we will discuss the most important ones later in this section. \n",
    "Hence, you can consider the jaxpr representation is an intermediate compilation stage of JAX. What happens if we actually try to look at the jaxpr representation of a function with side-effect? Let's consider the following function, which, as an illustrative example, appends the input to a global list:"
   ]
  },
  {
   "cell_type": "code",
   "execution_count": 19,
   "id": "a714bb61",
   "metadata": {},
   "outputs": [
    {
     "data": {
      "text/plain": [
       "{ lambda ; a:f32[3]. let\n",
       "    b:f32[3] = integer_pow[y=2] a\n",
       "    c:f32[] = reduce_sum[axes=(0,)] b\n",
       "    d:f32[] = sqrt c\n",
       "  in (d,) }"
      ]
     },
     "execution_count": 19,
     "metadata": {},
     "output_type": "execute_result"
    }
   ],
   "source": [
    "global_list = []\n",
    "\n",
    "\n",
    "# Invalid function with side-effect\n",
    "def norm(x):\n",
    "    global_list.append(x)\n",
    "    x = x**2\n",
    "    n = x.sum()\n",
    "    n = jnp.sqrt(n)\n",
    "    return n\n",
    "\n",
    "\n",
    "jax.make_jaxpr(norm)(inp)"
   ]
  },
  {
   "cell_type": "markdown",
   "id": "3dd631c2",
   "metadata": {},
   "source": [
    "As you can see, the jaxpr representation of the function does not contain any operation for `global_list.append(x)`. This is because jaxpr only understand side-effect-free code, and cannot represent such effects. Thus, we need to stick with pure functions without any side effects, to prevent any unwanted errors in our functions. If you are interested in learning more about the jaxpr representation, check out the JAX [documentation](https://jax.readthedocs.io/en/latest/jaxpr.html) on it. But for this tutorial, we just need the basics as discussed above."
   ]
  },
  {
   "cell_type": "markdown",
   "id": "1ccd928e",
   "metadata": {},
   "source": [
    "### Automatic differentiation\n",
    "\n",
    "The intermediate jaxpr representation defines a computation graph, on which we can perform an essential operation of deep learning framework: automatic differentiation. In frameworks like PyTorch with a dynamic computation graph, we would compute the gradients based on the loss tensor itself, e.g. by calling `loss.backward()`. However, JAX directly works with functions. Instead of backpropagating gradients through tensors, JAX takes as input a function, and outputs another function which directly calculates the gradients for it. While this might seem quite different to what you are used to from other frameworks, it is quite intuitive: your gradient of parameters is really a function of parameters and data.\n",
    "\n",
    "The transformation that allows us to do this is `jax.grad`, which takes as input the function, and returns another function representing the gradient calculation of the (first) input with respect to the output:"
   ]
  },
  {
   "cell_type": "code",
   "execution_count": 20,
   "id": "fd3f3ba9",
   "metadata": {},
   "outputs": [
    {
     "name": "stdout",
     "output_type": "stream",
     "text": [
      "Gradient [1.3333334 2.        2.6666667]\n"
     ]
    }
   ],
   "source": [
    "grad_function = jax.grad(simple_graph)\n",
    "gradients = grad_function(inp)\n",
    "print(\"Gradient\", gradients)"
   ]
  },
  {
   "cell_type": "markdown",
   "id": "7951a63f",
   "metadata": {},
   "source": [
    "The gradient we get here is exactly the one we would obtain when doing the calculation by hand. Moreover, we can also print the jaxpr representation of the gradient function:"
   ]
  },
  {
   "cell_type": "code",
   "execution_count": 21,
   "id": "cc3d85b0",
   "metadata": {},
   "outputs": [
    {
     "data": {
      "text/plain": [
       "{ lambda ; a:f32[3]. let\n",
       "    b:f32[3] = add a 2.0\n",
       "    c:f32[3] = integer_pow[y=2] b\n",
       "    d:f32[3] = integer_pow[y=1] b\n",
       "    e:f32[3] = mul 2.0 d\n",
       "    f:f32[3] = add c 3.0\n",
       "    g:f32[] = reduce_sum[axes=(0,)] f\n",
       "    _:f32[] = div g 3.0\n",
       "    h:f32[] = div 1.0 3.0\n",
       "    i:f32[3] = broadcast_in_dim[broadcast_dimensions=() shape=(3,)] h\n",
       "    j:f32[3] = mul i e\n",
       "  in (j,) }"
      ]
     },
     "execution_count": 21,
     "metadata": {},
     "output_type": "execute_result"
    }
   ],
   "source": [
    "jax.make_jaxpr(grad_function)(inp)"
   ]
  },
  {
   "cell_type": "markdown",
   "id": "fb8ee5ae",
   "metadata": {},
   "source": [
    "This shows an unique property of JAX: we can print out the exact computation graph for determining the gradients. Compared to the original function, you can see new equations like `d:f32[3] = integer_pow[y=1] b` and `e:f32[3] = mul 2.0 d`, which model the intermediate gradient of $\\partial b_i^2/\\partial b_i = 2b_i$. Furthermore, the return value `j` is the multiplication of `e` with $1/3$, which maps to the gradient being:\n",
    "\n",
    "$$ \\frac{\\partial y}{\\partial x_i} = \\frac{2}{3}(x_i + 2)$$\n",
    "\n",
    "Hence, we can not only use JAX to estimate the gradients at a certain input value, but actually return the analytical gradient function which is quite a nice feature and highlights the properties of JAX!"
   ]
  },
  {
   "cell_type": "markdown",
   "id": "07ca4428",
   "metadata": {},
   "source": [
    "Often, we do not only want the gradients, but also the actual output of the function, for instance for logging the loss. This can be efficiently done using `jax.value_and_grad`:"
   ]
  },
  {
   "cell_type": "code",
   "execution_count": 22,
   "id": "bf220dd8",
   "metadata": {},
   "outputs": [
    {
     "data": {
      "text/plain": [
       "(Array(12.666667, dtype=float32),\n",
       " Array([1.3333334, 2.       , 2.6666667], dtype=float32))"
      ]
     },
     "execution_count": 22,
     "metadata": {},
     "output_type": "execute_result"
    }
   ],
   "source": [
    "val_grad_function = jax.value_and_grad(simple_graph)\n",
    "val_grad_function(inp)"
   ]
  },
  {
   "cell_type": "markdown",
   "id": "a6f9fe03",
   "metadata": {},
   "source": [
    "Further, we can specialize the gradient function to consider multiple input arguments, and add extra outputs that we may not want to differentiate (for instance the accuracy in classification). We will visit the most important ones in the network training later in this section, and refer to other great resources for more details ([JAX Quickstart](https://jax.readthedocs.io/en/latest/notebooks/quickstart.html#taking-derivatives-with-grad), [Autodiff cookbook](https://jax.readthedocs.io/en/latest/notebooks/autodiff_cookbook.html), [Advanced autodiff](https://jax.readthedocs.io/en/latest/jax-101/04-advanced-autodiff.html)).\n",
    "\n",
    "To train neural networks, we need to determine the gradient for every parameter in the network with respect to the loss. Listing all parameters as input arguments quickly gets annoying and infeasible. JAX offers an elegant data structure to summarize all parameters: a pytree ([documentation](https://jax.readthedocs.io/en/latest/pytrees.html)). A pytree is a container-like object which structures its elements as a tree. For instance, a linear neural network might have its parameters organized similar to:\n",
    "\n",
    "```python\n",
    "params = {\n",
    "    'linear1': {\n",
    "        'weights': ...,\n",
    "        'bias': ...\n",
    "    },\n",
    "    ...\n",
    "}\n",
    "```\n",
    "JAX offers functions to process pytrees efficiently, such as obtaining all leafs (i.e. all parameters in a network) or applying a function on each element. We will come back to these structures when training a full network."
   ]
  },
  {
   "cell_type": "markdown",
   "id": "ba40a111",
   "metadata": {},
   "source": [
    "### Speeding up computation with Just-In-Time compilation\n",
    "\n",
    "Interestingly, from the previous code cell, you can see in the jaxpr representation of the gradient function that calculating the array `f` and scalar `g` are unnecessary. Intuitively, the gradient of taking the mean is independent of the actual output of the mean, hence we could drop `f` and `g` without any drawback. Finding such cases to improve efficiency and optimizing the code to take full advantage of the available accelerator hardware is one of the big selling points of JAX. It achieves that by *compiling functions just-in-time* with [XLA](https://www.tensorflow.org/xla) (Accelerated Linear Algebra), using their jaxpr representation. Thereby, XLA fuses operations to reduce execution time of short-lived operations and eliminates intermediate storage buffers where not needed. For more details, see the [XLA documentation](https://docs.w3cub.com/tensorflow~guide/performance/xla/index). \n",
    "\n",
    "To compile a function, JAX provides the `jax.jit` transformation. We can either apply the transformation directly on a function (as we will do in the next cell), or use the decorator `@jax.jit` before a function."
   ]
  },
  {
   "cell_type": "code",
   "execution_count": 23,
   "id": "861f1cfb",
   "metadata": {},
   "outputs": [],
   "source": [
    "jitted_function = jax.jit(simple_graph)"
   ]
  },
  {
   "cell_type": "markdown",
   "id": "b482467e",
   "metadata": {},
   "source": [
    "The `jitted_function` takes the same input arguments as the original function `simple_graph`. Since the jaxpr representation of a function depends on the input shape, the compilation is started once we put the first input in. However, note that this also means that for every different shape we want to run the function, a new XLA compilation is needed. This is why it is recommended to use padding in cases where your input shape strongly varies (we revisit this topic in the final section of this tutorial). For now, let's create an array with 1000 random values, on which we apply the jitted function:"
   ]
  },
  {
   "cell_type": "code",
   "execution_count": 24,
   "id": "f568e7ae",
   "metadata": {},
   "outputs": [],
   "source": [
    "# Create a new random subkey for generating new random values\n",
    "rng, normal_rng = jax.random.split(rng)\n",
    "large_input = jax.random.normal(normal_rng, (1000,))\n",
    "# Run the jitted function once to start compilation\n",
    "_ = jitted_function(large_input)"
   ]
  },
  {
   "cell_type": "markdown",
   "id": "fdfcfabe",
   "metadata": {},
   "source": [
    "The output is not any different from what you would get from the non-jitted function. However, how is it about the runtime? Let's time both the original and the jitted function. Due to the asynchronous execution on the GPU, we add `.block_until_ready()` on the output, which blocks the Python execution until the accelerator (here GPU) finished computing the result and hence get an accurate time estimate."
   ]
  },
  {
   "cell_type": "code",
   "execution_count": 25,
   "id": "5115b24d",
   "metadata": {},
   "outputs": [
    {
     "name": "stdout",
     "output_type": "stream",
     "text": [
      "172 µs ± 4.63 µs per loop (mean ± std. dev. of 7 runs, 10,000 loops each)\n"
     ]
    }
   ],
   "source": [
    "%%timeit\n",
    "simple_graph(large_input).block_until_ready()"
   ]
  },
  {
   "cell_type": "code",
   "execution_count": 26,
   "id": "593fae73",
   "metadata": {},
   "outputs": [
    {
     "name": "stdout",
     "output_type": "stream",
     "text": [
      "5.33 µs ± 19.2 ns per loop (mean ± std. dev. of 7 runs, 100,000 loops each)\n"
     ]
    }
   ],
   "source": [
    "%%timeit\n",
    "jitted_function(large_input).block_until_ready()"
   ]
  },
  {
   "cell_type": "markdown",
   "id": "dc0d7d8d",
   "metadata": {},
   "source": [
    "We see that the compiled function is almost 10-15x faster! This is quite an improvement in performance, and shows the potential of compiling functions with XLA. Furthermore, we can also apply multiple transformations on the same function in JAX, such as applying `jax.jit` on a gradient function:"
   ]
  },
  {
   "cell_type": "code",
   "execution_count": 27,
   "id": "ac7991b2",
   "metadata": {},
   "outputs": [],
   "source": [
    "jitted_grad_function = jax.jit(grad_function)\n",
    "_ = jitted_grad_function(large_input)  # Apply once to compile"
   ]
  },
  {
   "cell_type": "markdown",
   "id": "aeec0d3d",
   "metadata": {},
   "source": [
    "Let's time the functions once more:"
   ]
  },
  {
   "cell_type": "code",
   "execution_count": 28,
   "id": "84e68aa8",
   "metadata": {},
   "outputs": [
    {
     "name": "stdout",
     "output_type": "stream",
     "text": [
      "4.26 ms ± 76.8 µs per loop (mean ± std. dev. of 7 runs, 100 loops each)\n"
     ]
    }
   ],
   "source": [
    "%%timeit\n",
    "grad_function(large_input).block_until_ready()"
   ]
  },
  {
   "cell_type": "code",
   "execution_count": 29,
   "id": "14388264",
   "metadata": {},
   "outputs": [
    {
     "name": "stdout",
     "output_type": "stream",
     "text": [
      "4.82 µs ± 183 ns per loop (mean ± std. dev. of 7 runs, 100,000 loops each)\n"
     ]
    }
   ],
   "source": [
    "%%timeit\n",
    "jitted_grad_function(large_input).block_until_ready()"
   ]
  },
  {
   "cell_type": "markdown",
   "id": "04e7e67e",
   "metadata": {},
   "source": [
    "Once more, the jitted function is much faster than the original one. Intuitively, this shows the potential speed up we can gain by using `jax.jit` to compile the whole training step of a network. Generally, we want to jit the largest possible chunk of computation to give the compiler maximum freedom. \n",
    "\n",
    "There are situations in which applying jit to a function is not straight-forward, for instance, if an input argument cannot be traced, or you need to use loops that depend on input arguments. To keep the tutorial simple, and since most neural network training functions do not run into these issues, we do not discuss such special cases here. Instead, we refer to the section on just-in-time compilation in the great tutorials of [JAX 101 Tutorial](https://jax.readthedocs.io/en/latest/jax-101/02-jitting.html), [JAX Quickstart](https://jax.readthedocs.io/en/latest/notebooks/quickstart.html#using-jit-to-speed-up-functions), and [Thinking in JAX](https://jax.readthedocs.io/en/latest/notebooks/thinking_in_jax.html#to-jit-or-not-to-jit)."
   ]
  },
  {
   "cell_type": "markdown",
   "id": "b82f544e",
   "metadata": {},
   "source": [
    "## Implementing a Neural Network with Flax\n",
    "\n",
    "With having reviewed the basics of JAX, we are now ready to implement our own neural network. Technically, we could implement our own neural network from scratch with JAX (see [here](https://jax.readthedocs.io/en/latest/notebooks/Neural_Network_and_Data_Loading.html) for an example), but we do not really want to do that every time. Similarly to PyTorch's `torch.nn` package, there exist neural network libraries based on JAX which provide such basic functionality. A (non-exclusive) collection of them are:\n",
    "\n",
    "* [Flax](https://flax.readthedocs.io/en/latest/index.html), started by the Google Brain Team, focuses on flexibility and clarity.\n",
    "* [Haiku](https://dm-haiku.readthedocs.io/en/latest/), from DeepMind, focuses on simplicity and compositionality.\n",
    "* [Trax](https://github.com/google/trax), maintained by the Google Brain Team, provides solutions for common training tasks\n",
    "* [Equinox](https://github.com/patrick-kidger/equinox), created by Patrick Kidger and Cristian Garcia, implements neural networks as callable PyTrees\n",
    "* [Jraph](https://github.com/deepmind/jraph), from DeepMind, is a graph neural network library (similar to PyTorch Geometric)\n",
    "\n",
    "For this tutorial series, we will use Flax due to its flexibility, intuitive API, and larger community. However, this should not mean that the other libraries are necessarily worse, and we recommend giving them a try as well to find the best library for yourself!\n",
    "\n",
    "We will introduce the libraries and all additional parts you might need to train a neural network in Flax, using a simple example classifier on a simple yet well known example: XOR. Given two binary inputs $x_1$ and $x_2$, the label to predict is $1$ if either $x_1$ or $x_2$ is $1$ while the other is $0$, or the label is $0$ in all other cases. The example became famous by the fact that a single neuron, i.e. a linear classifier, cannot learn this simple function. Hence, we will learn how to build a small neural network that can learn this function. \n",
    "To make it a little bit more interesting, we move the XOR into continuous space and introduce some gaussian noise on the binary inputs. Our desired separation of an XOR dataset could look as follows:\n",
    "\n",
    "<center style=\"width: 100%\"><img src=\"assets/continuous_xor.svg\" width=\"350px\"></center>"
   ]
  },
  {
   "cell_type": "markdown",
   "id": "507f9a04",
   "metadata": {},
   "source": [
    "### The model\n",
    "\n",
    "The package `flax.linen` defines a series of useful classes like linear networks layers, convolutions, activation functions etc. A full list can be found [here](https://flax.readthedocs.io/en/latest/flax.linen.html). In case you need a certain network layer, check the documentation of the package first before writing the layer yourself as the package likely contains the code for it already. We import it below:"
   ]
  },
  {
   "cell_type": "code",
   "execution_count": 30,
   "id": "5ae8e998",
   "metadata": {},
   "outputs": [
    {
     "name": "stderr",
     "output_type": "stream",
     "text": [
      "/home/zcdc/anaconda3/envs/ics/lib/python3.10/site-packages/flax/core/frozen_dict.py:169: FutureWarning: jax.tree_util.register_keypaths is deprecated, and will be removed in a future release. Please use `register_pytree_with_keys()` instead.\n",
      "  jax.tree_util.register_keypaths(\n"
     ]
    }
   ],
   "source": [
    "try:\n",
    "    import flax\n",
    "except ModuleNotFoundError:  # Install flax if missing\n",
    "    !pip install --quiet flax\n",
    "    import flax\n",
    "\n",
    "from flax import linen as nn"
   ]
  },
  {
   "cell_type": "markdown",
   "id": "b63429e0",
   "metadata": {},
   "source": [
    "#### nn.Module\n",
    "\n",
    "Similar to PyTorch, a neural network is built up out of modules. Modules can contain other modules, and a neural network is considered to be a module itself as well. The basic template of a module is as follows:"
   ]
  },
  {
   "cell_type": "code",
   "execution_count": 31,
   "id": "55fcd52c",
   "metadata": {},
   "outputs": [],
   "source": [
    "class MyModule(nn.Module):\n",
    "    # Some dataclass attributes, like hidden dimension, number of layers, etc. of the form:\n",
    "    # varname : vartype\n",
    "\n",
    "    def setup(self):\n",
    "        # Flax uses \"lazy\" initialization. This function is called once before you\n",
    "        # call the model, or try to access attributes. In here, define your submodules etc.\n",
    "        pass\n",
    "\n",
    "    def __call__(self, x):\n",
    "        # Function for performing the calculation of the module.\n",
    "        pass"
   ]
  },
  {
   "cell_type": "markdown",
   "id": "315c8cf3",
   "metadata": {},
   "source": [
    "The main, obvious difference to PyTorch is that Flax uses lazy initialization. The function `setup` is called once on a module instance before any other methods are called, or when you try to access a attribute of *self* defined in setup. Additional object attributes are defined below the class name. However, in contrast to PyTorch, the parameters are not part of the module. Instead, we can create a set of parameters of the module by calling its `init()` function. This function takes as input a PRNG state for sampling pseudo-random numbers and an example input to the model, and returns a set of parameters for the module as a pytree. Further, since the init function requires an input to the network, we can infer the input shape for all modules and do not need to explicitly define it during the module creation. This becomes more clear in the example we show in a second.\n",
    "\n",
    "The `__call__` method represents the `forward` function in PyTorch, and performs the actual computation of the module. It can take additional arguments if needed, like whether we are training or validation."
   ]
  },
  {
   "cell_type": "markdown",
   "id": "140a1566",
   "metadata": {},
   "source": [
    "#### Simple classifier\n",
    "\n",
    "To get an intuition behind how we work with modules in Flax, let's define our own small neural network. We will use a minimal network with a input layer, one hidden layer with tanh as activation function, and a output layer. In other words, our networks should look something like this:\n",
    "\n",
    "<center width=\"100%\"><img src=\"assets/small_neural_network.svg\" width=\"300px\"></center>\n",
    "\n",
    "The input neurons are shown in blue, which represent the coordinates $x_1$ and $x_2$ of a data point. The hidden neurons including a tanh activation are shown in white, and the output neuron in red.\n",
    "In Flax, we can define this as follows:"
   ]
  },
  {
   "cell_type": "code",
   "execution_count": 32,
   "id": "f0709370",
   "metadata": {},
   "outputs": [],
   "source": [
    "class SimpleClassifier(nn.Module):\n",
    "    num_hidden: int  # Number of hidden neurons\n",
    "    num_outputs: int  # Number of output neurons\n",
    "\n",
    "    def setup(self):\n",
    "        # Create the modules we need to build the network\n",
    "        # nn.Dense is a linear layer\n",
    "        self.linear1 = nn.Dense(features=self.num_hidden)\n",
    "        self.linear2 = nn.Dense(features=self.num_outputs)\n",
    "\n",
    "    def __call__(self, x):\n",
    "        # Perform the calculation of the model to determine the prediction\n",
    "        x = self.linear1(x)\n",
    "        x = nn.tanh(x)\n",
    "        x = self.linear2(x)\n",
    "        return x"
   ]
  },
  {
   "cell_type": "markdown",
   "id": "c9c5062b",
   "metadata": {},
   "source": [
    "One thing you may notice is that usually, all layers that we define in `setup` are also used in the `__call__` function. To reduce the code overhead, Flax provides an alternative, more compact network creation with `nn.compact`. With that, we can remove the setup function and instead our model as:"
   ]
  },
  {
   "cell_type": "code",
   "execution_count": 33,
   "id": "c68c1706",
   "metadata": {},
   "outputs": [],
   "source": [
    "class SimpleClassifierCompact(nn.Module):\n",
    "    num_hidden: int  # Number of hidden neurons\n",
    "    num_outputs: int  # Number of output neurons\n",
    "\n",
    "    @nn.compact  # Tells Flax to look for defined submodules\n",
    "    def __call__(self, x):\n",
    "        # Perform the calculation of the model to determine the prediction\n",
    "        # while defining necessary layers\n",
    "        x = nn.Dense(features=self.num_hidden)(x)\n",
    "        x = nn.tanh(x)\n",
    "        x = nn.Dense(features=self.num_outputs)(x)\n",
    "        return x"
   ]
  },
  {
   "cell_type": "markdown",
   "id": "8835db24",
   "metadata": {},
   "source": [
    "The `nn.compact` annotation of the `__call__` method signals Flax to look for submodules that we define in the forward pass. These are automatically recognized as such, so that we can use them for initialization etc. Which of the two model definition you use is often up to you (see the [Flax documentation](https://flax.readthedocs.io/en/latest/design_notes/setup_or_nncompact.html) for some pros and cons for both methods). In the following tutorials, we will mostly use the compact version, but occasionally come back to the explicit setup function where necessary. For instance, if we define more functions on a module besides `__call__` and want to reuse some modules, it is recommended to use the setup version."
   ]
  },
  {
   "cell_type": "markdown",
   "id": "c8096c54",
   "metadata": {},
   "source": [
    "For the examples in this notebook, we will use a tiny neural network with two input neurons and eight hidden neurons. As we perform binary classification, we will use a single output neuron. Note that we do not apply a sigmoid on the output yet. This is because other functions, especially the loss, are more efficient and precise to calculate on the original outputs instead of the sigmoid output. We will discuss the detailed reason later.\n",
    "\n",
    "Now, let's create an instance of this network:"
   ]
  },
  {
   "cell_type": "code",
   "execution_count": 34,
   "id": "f3773927",
   "metadata": {},
   "outputs": [
    {
     "name": "stdout",
     "output_type": "stream",
     "text": [
      "SimpleClassifier(\n",
      "    # attributes\n",
      "    num_hidden = 8\n",
      "    num_outputs = 1\n",
      ")\n"
     ]
    }
   ],
   "source": [
    "model = SimpleClassifier(num_hidden=8, num_outputs=1)\n",
    "# Printing the model shows its attributes\n",
    "print(model)"
   ]
  },
  {
   "cell_type": "markdown",
   "id": "3e828055",
   "metadata": {},
   "source": [
    "At this stage, the model has no parameters initialized. To do this, let's create a random input of our dataset, and apply the init function:"
   ]
  },
  {
   "cell_type": "code",
   "execution_count": 35,
   "id": "5cde7905",
   "metadata": {},
   "outputs": [
    {
     "name": "stdout",
     "output_type": "stream",
     "text": [
      "FrozenDict({\n",
      "    params: {\n",
      "        linear1: {\n",
      "            kernel: Array([[ 0.31476858, -0.46477678, -0.78620416, -0.48842612, -0.65373844,\n",
      "                     0.38925445,  0.3038055 ,  0.0417986 ],\n",
      "                   [-0.32982358,  1.1110363 ,  0.54909384, -0.81688154,  0.4005725 ,\n",
      "                    -0.86659867,  1.2087963 ,  1.0364621 ]], dtype=float32),\n",
      "            bias: Array([0., 0., 0., 0., 0., 0., 0., 0.], dtype=float32),\n",
      "        },\n",
      "        linear2: {\n",
      "            kernel: Array([[-0.2797181 ],\n",
      "                   [-0.74667746],\n",
      "                   [ 0.29791605],\n",
      "                   [-0.26267233],\n",
      "                   [-0.50843847],\n",
      "                   [ 0.04573093],\n",
      "                   [-0.4725701 ],\n",
      "                   [ 0.50458497]], dtype=float32),\n",
      "            bias: Array([0.], dtype=float32),\n",
      "        },\n",
      "    },\n",
      "})\n"
     ]
    }
   ],
   "source": [
    "rng, inp_rng, init_rng = jax.random.split(rng, 3)\n",
    "inp = jax.random.normal(inp_rng, (8, 2))  # Batch size 8, input size 2\n",
    "# Initialize the model\n",
    "params = model.init(init_rng, inp)\n",
    "print(params)"
   ]
  },
  {
   "cell_type": "markdown",
   "id": "8c8fbfc7",
   "metadata": {},
   "source": [
    "Now, we have parameters with which we can apply the network. We see that the parameters follow the same structure as defined in our module, and each linear layer contains one `kernel`, i.e. the weights, and a bias parameter. With this, we could apply the model on an input using the `apply` function:"
   ]
  },
  {
   "cell_type": "code",
   "execution_count": 36,
   "id": "bd41972d",
   "metadata": {},
   "outputs": [
    {
     "data": {
      "text/plain": [
       "Array([[-0.4836821 ],\n",
       "       [ 0.04365462],\n",
       "       [ 0.0666853 ],\n",
       "       [-0.34203655],\n",
       "       [ 0.48351482],\n",
       "       [ 0.37424877],\n",
       "       [ 0.14232653],\n",
       "       [-0.5916512 ]], dtype=float32)"
      ]
     },
     "execution_count": 36,
     "metadata": {},
     "output_type": "execute_result"
    }
   ],
   "source": [
    "model.apply(params, inp)"
   ]
  },
  {
   "cell_type": "markdown",
   "id": "e15dfa58",
   "metadata": {},
   "source": [
    "The model returns an output array of shape `[8,1]`, which corresponds to the one output neuron in the model for all 8 batch elements. With that, we now know how to initialize a model, and run a model. Next, let's look at the data."
   ]
  },
  {
   "cell_type": "markdown",
   "id": "aa45f48d",
   "metadata": {},
   "source": [
    "### The data\n",
    "\n",
    "As mentioned before, JAX is not meant to 'reinvent the wheel' for every part of the deep learning pipeline. Hence, JAX and Flax do not natively provide a data loading functionality, but instead refer to other available libraries like Tensorflow and PyTorch. Here, let's use again the package `torch.utils.data` library."
   ]
  },
  {
   "cell_type": "code",
   "execution_count": 37,
   "id": "50d8c7c8",
   "metadata": {},
   "outputs": [],
   "source": [
    "import torch.utils.data as data"
   ]
  },
  {
   "cell_type": "markdown",
   "id": "59d418ec",
   "metadata": {},
   "source": [
    "The data package defines two classes which are the standard interface for handling data in PyTorch: `data.Dataset`, and `data.DataLoader`. The dataset class provides an uniform interface to access the training/test data, while the data loader makes sure to efficiently load and stack the data points from the dataset into batches during training."
   ]
  },
  {
   "cell_type": "markdown",
   "id": "c28a204c",
   "metadata": {},
   "source": [
    "#### The dataset class\n",
    "\n",
    "The dataset class summarizes the basic functionality of a dataset in a natural way. To define a dataset in PyTorch, we simply specify two functions: `__getitem__`, and `__len__`. The get-item function has to return the $i$-th data point in the dataset, while the len function returns the size of the dataset. For the XOR dataset, we can define the dataset class as follows:"
   ]
  },
  {
   "cell_type": "code",
   "execution_count": 38,
   "id": "22c49212",
   "metadata": {},
   "outputs": [],
   "source": [
    "class XORDataset(data.Dataset):\n",
    "    def __init__(self, size, seed, std=0.1):\n",
    "        \"\"\"\n",
    "        Inputs:\n",
    "            size - Number of data points we want to generate\n",
    "            seed - The seed to use to create the PRNG state with which we want to generate the data points\n",
    "            std - Standard deviation of the noise (see generate_continuous_xor function)\n",
    "        \"\"\"\n",
    "        super().__init__()\n",
    "        self.size = size\n",
    "        self.np_rng = np.random.RandomState(seed=seed)\n",
    "        self.std = std\n",
    "        self.generate_continuous_xor()\n",
    "\n",
    "    def generate_continuous_xor(self):\n",
    "        # Each data point in the XOR dataset has two variables, x and y, that can be either 0 or 1\n",
    "        # The label is their XOR combination, i.e. 1 if only x or only y is 1 while the other is 0.\n",
    "        # If x=y, the label is 0.\n",
    "        data = self.np_rng.randint(low=0, high=2, size=(self.size, 2)).astype(\n",
    "            np.float32\n",
    "        )\n",
    "        label = (data.sum(axis=1) == 1).astype(np.int32)\n",
    "        # To make it slightly more challenging, we add a bit of gaussian noise to the data points.\n",
    "        data += self.np_rng.normal(loc=0.0, scale=self.std, size=data.shape)\n",
    "\n",
    "        self.data = data\n",
    "        self.label = label\n",
    "\n",
    "    def __len__(self):\n",
    "        # Number of data point we have. Alternatively self.data.shape[0], or self.label.shape[0]\n",
    "        return self.size\n",
    "\n",
    "    def __getitem__(self, idx):\n",
    "        # Return the idx-th data point of the dataset\n",
    "        # If we have multiple things to return (data point and label), we can return them as tuple\n",
    "        data_point = self.data[idx]\n",
    "        data_label = self.label[idx]\n",
    "        return data_point, data_label"
   ]
  },
  {
   "cell_type": "markdown",
   "id": "34a8769a",
   "metadata": {},
   "source": [
    "Note that in contrast to our [PyTorch tutorial](https://uvadlc-notebooks.readthedocs.io/en/latest/tutorial_notebooks/tutorial2/Introduction_to_PyTorch.html#The-data), we use NumPy to generate the random data. Similar to JAX, NumPy also allows the pseudo-number generation based on a PRNG state. Hence, for better reproducibility, we are doing the same here. Let's try to create such a dataset and inspect it:"
   ]
  },
  {
   "cell_type": "code",
   "execution_count": 39,
   "id": "de1d5448",
   "metadata": {},
   "outputs": [
    {
     "name": "stdout",
     "output_type": "stream",
     "text": [
      "Size of dataset: 200\n",
      "Data point 0: (array([-0.06800247,  1.0232254 ], dtype=float32), 1)\n"
     ]
    }
   ],
   "source": [
    "dataset = XORDataset(size=200, seed=42)\n",
    "print(\"Size of dataset:\", len(dataset))\n",
    "print(\"Data point 0:\", dataset[0])"
   ]
  },
  {
   "cell_type": "markdown",
   "id": "c49d37c0",
   "metadata": {},
   "source": [
    "To better relate to the dataset, we visualize the samples below. "
   ]
  },
  {
   "cell_type": "code",
   "execution_count": 40,
   "id": "4a133ca4",
   "metadata": {},
   "outputs": [],
   "source": [
    "def visualize_samples(data, label):\n",
    "    data_0 = data[label == 0]\n",
    "    data_1 = data[label == 1]\n",
    "\n",
    "    plt.figure(figsize=(4, 4))\n",
    "    plt.scatter(data_0[:, 0], data_0[:, 1], edgecolor=\"#333\", label=\"Class 0\")\n",
    "    plt.scatter(data_1[:, 0], data_1[:, 1], edgecolor=\"#333\", label=\"Class 1\")\n",
    "    plt.title(\"Dataset samples\")\n",
    "    plt.ylabel(r\"$x_2$\")\n",
    "    plt.xlabel(r\"$x_1$\")\n",
    "    plt.legend()"
   ]
  },
  {
   "cell_type": "code",
   "execution_count": 41,
   "id": "b6783615",
   "metadata": {},
   "outputs": [
    {
     "data": {
      "application/pdf": "[encoded data removed]",
      "image/svg+xml": "<?xml version=\"1.0\" encoding=\"utf-8\" standalone=\"no\"?>\n<!DOCTYPE svg PUBLIC \"-//W3C//DTD SVG 1.1//EN\"\n  \"http://www.w3.org/Graphics/SVG/1.1/DTD/svg11.dtd\">\n<svg xmlns:xlink=\"http://www.w3.org/1999/xlink\" width=\"289.424844pt\" height=\"287.037813pt\" viewBox=\"0 0 289.424844 287.037813\" xmlns=\"http://www.w3.org/2000/svg\" version=\"1.1\">\n <metadata>\n  <rdf:RDF xmlns:dc=\"http://purl.org/dc/elements/1.1/\" xmlns:cc=\"http://creativecommons.org/ns#\" xmlns:rdf=\"http://www.w3.org/1999/02/22-rdf-syntax-ns#\">\n   <cc:Work>\n    <dc:type rdf:resource=\"http://purl.org/dc/dcmitype/StillImage\"/>\n    <dc:date>2023-03-23T14:51:47.267117</dc:date>\n    <dc:format>image/svg+xml</dc:format>\n    <dc:creator>\n     <cc:Agent>\n      <dc:title>Matplotlib v3.7.1, https://matplotlib.org/</dc:title>\n     </cc:Agent>\n    </dc:creator>\n   </cc:Work>\n  </rdf:RDF>\n </metadata>\n <defs>\n  <style type=\"text/css\">*{stroke-linejoin: round; stroke-linecap: butt}</style>\n </defs>\n <g id=\"figure_1\">\n  <g id=\"patch_1\">\n   <path d=\"M 0 287.037813 \nL 289.424844 287.037813 \nL 289.424844 0 \nL 0 0 \nz\n\" style=\"fill: #ffffff\"/>\n  </g>\n  <g id=\"axes_1\">\n   <g id=\"patch_2\">\n    <path d=\"M 59.024844 244.078125 \nL 282.224844 244.078125 \nL 282.224844 22.318125 \nL 59.024844 22.318125 \nz\n\" style=\"fill: #eaeaf2\"/>\n   </g>\n   <g id=\"matplotlib.axis_1\">\n    <g id=\"xtick_1\">\n     <g id=\"line2d_1\">\n      <path d=\"M 98.338694 244.078125 \nL 98.338694 22.318125 \n\" clip-path=\"url(#p2f6ce2ec28)\" style=\"fill: none; stroke: #ffffff; stroke-linecap: round\"/>\n     </g>\n     <g id=\"text_1\">\n      <!-- 0.0 -->\n      <g style=\"fill: #262626\" transform=\"translate(89.591975 261.936406) scale(0.11 -0.11)\">\n       <defs>\n        <path id=\"DejaVuSans-30\" d=\"M 2034 4250 \nQ 1547 4250 1301 3770 \nQ 1056 3291 1056 2328 \nQ 1056 1369 1301 889 \nQ 1547 409 2034 409 \nQ 2525 409 2770 889 \nQ 3016 1369 3016 2328 \nQ 3016 3291 2770 3770 \nQ 2525 4250 2034 4250 \nz\nM 2034 4750 \nQ 2819 4750 3233 4129 \nQ 3647 3509 3647 2328 \nQ 3647 1150 3233 529 \nQ 2819 -91 2034 -91 \nQ 1250 -91 836 529 \nQ 422 1150 422 2328 \nQ 422 3509 836 4129 \nQ 1250 4750 2034 4750 \nz\n\" transform=\"scale(0.015625)\"/>\n        <path id=\"DejaVuSans-2e\" d=\"M 684 794 \nL 1344 794 \nL 1344 0 \nL 684 0 \nL 684 794 \nz\n\" transform=\"scale(0.015625)\"/>\n       </defs>\n       <use xlink:href=\"#DejaVuSans-30\"/>\n       <use xlink:href=\"#DejaVuSans-2e\" x=\"63.623047\"/>\n       <use xlink:href=\"#DejaVuSans-30\" x=\"95.410156\"/>\n      </g>\n     </g>\n    </g>\n    <g id=\"xtick_2\">\n     <g id=\"line2d_2\">\n      <path d=\"M 168.880926 244.078125 \nL 168.880926 22.318125 \n\" clip-path=\"url(#p2f6ce2ec28)\" style=\"fill: none; stroke: #ffffff; stroke-linecap: round\"/>\n     </g>\n     <g id=\"text_2\">\n      <!-- 0.5 -->\n      <g style=\"fill: #262626\" transform=\"translate(160.134208 261.936406) scale(0.11 -0.11)\">\n       <defs>\n        <path id=\"DejaVuSans-35\" d=\"M 691 4666 \nL 3169 4666 \nL 3169 4134 \nL 1269 4134 \nL 1269 2991 \nQ 1406 3038 1543 3061 \nQ 1681 3084 1819 3084 \nQ 2600 3084 3056 2656 \nQ 3513 2228 3513 1497 \nQ 3513 744 3044 326 \nQ 2575 -91 1722 -91 \nQ 1428 -91 1123 -41 \nQ 819 9 494 109 \nL 494 744 \nQ 775 591 1075 516 \nQ 1375 441 1709 441 \nQ 2250 441 2565 725 \nQ 2881 1009 2881 1497 \nQ 2881 1984 2565 2268 \nQ 2250 2553 1709 2553 \nQ 1456 2553 1204 2497 \nQ 953 2441 691 2322 \nL 691 4666 \nz\n\" transform=\"scale(0.015625)\"/>\n       </defs>\n       <use xlink:href=\"#DejaVuSans-30\"/>\n       <use xlink:href=\"#DejaVuSans-2e\" x=\"63.623047\"/>\n       <use xlink:href=\"#DejaVuSans-35\" x=\"95.410156\"/>\n      </g>\n     </g>\n    </g>\n    <g id=\"xtick_3\">\n     <g id=\"line2d_3\">\n      <path d=\"M 239.423158 244.078125 \nL 239.423158 22.318125 \n\" clip-path=\"url(#p2f6ce2ec28)\" style=\"fill: none; stroke: #ffffff; stroke-linecap: round\"/>\n     </g>\n     <g id=\"text_3\">\n      <!-- 1.0 -->\n      <g style=\"fill: #262626\" transform=\"translate(230.67644 261.936406) scale(0.11 -0.11)\">\n       <defs>\n        <path id=\"DejaVuSans-31\" d=\"M 794 531 \nL 1825 531 \nL 1825 4091 \nL 703 3866 \nL 703 4441 \nL 1819 4666 \nL 2450 4666 \nL 2450 531 \nL 3481 531 \nL 3481 0 \nL 794 0 \nL 794 531 \nz\n\" transform=\"scale(0.015625)\"/>\n       </defs>\n       <use xlink:href=\"#DejaVuSans-31\"/>\n       <use xlink:href=\"#DejaVuSans-2e\" x=\"63.623047\"/>\n       <use xlink:href=\"#DejaVuSans-30\" x=\"95.410156\"/>\n      </g>\n     </g>\n    </g>\n    <g id=\"text_4\">\n     <!-- $x_1$ -->\n     <g style=\"fill: #262626\" transform=\"translate(164.204844 277.342188) scale(0.12 -0.12)\">\n      <defs>\n       <path id=\"DejaVuSans-Oblique-78\" d=\"M 3841 3500 \nL 2234 1784 \nL 3219 0 \nL 2559 0 \nL 1819 1388 \nL 531 0 \nL -166 0 \nL 1556 1844 \nL 641 3500 \nL 1300 3500 \nL 1972 2234 \nL 3144 3500 \nL 3841 3500 \nz\n\" transform=\"scale(0.015625)\"/>\n      </defs>\n      <use xlink:href=\"#DejaVuSans-Oblique-78\" transform=\"translate(0 0.3125)\"/>\n      <use xlink:href=\"#DejaVuSans-31\" transform=\"translate(59.179688 -16.09375) scale(0.7)\"/>\n     </g>\n    </g>\n   </g>\n   <g id=\"matplotlib.axis_2\">\n    <g id=\"ytick_1\">\n     <g id=\"line2d_4\">\n      <path d=\"M 59.024844 234.65645 \nL 282.224844 234.65645 \n\" clip-path=\"url(#p2f6ce2ec28)\" style=\"fill: none; stroke: #ffffff; stroke-linecap: round\"/>\n     </g>\n     <g id=\"text_5\">\n      <!-- −0.2 -->\n      <g style=\"fill: #262626\" transform=\"translate(22.81375 238.835591) scale(0.11 -0.11)\">\n       <defs>\n        <path id=\"DejaVuSans-2212\" d=\"M 678 2272 \nL 4684 2272 \nL 4684 1741 \nL 678 1741 \nL 678 2272 \nz\n\" transform=\"scale(0.015625)\"/>\n        <path id=\"DejaVuSans-32\" d=\"M 1228 531 \nL 3431 531 \nL 3431 0 \nL 469 0 \nL 469 531 \nQ 828 903 1448 1529 \nQ 2069 2156 2228 2338 \nQ 2531 2678 2651 2914 \nQ 2772 3150 2772 3378 \nQ 2772 3750 2511 3984 \nQ 2250 4219 1831 4219 \nQ 1534 4219 1204 4116 \nQ 875 4013 500 3803 \nL 500 4441 \nQ 881 4594 1212 4672 \nQ 1544 4750 1819 4750 \nQ 2544 4750 2975 4387 \nQ 3406 4025 3406 3419 \nQ 3406 3131 3298 2873 \nQ 3191 2616 2906 2266 \nQ 2828 2175 2409 1742 \nQ 1991 1309 1228 531 \nz\n\" transform=\"scale(0.015625)\"/>\n       </defs>\n       <use xlink:href=\"#DejaVuSans-2212\"/>\n       <use xlink:href=\"#DejaVuSans-30\" x=\"83.789062\"/>\n       <use xlink:href=\"#DejaVuSans-2e\" x=\"147.412109\"/>\n       <use xlink:href=\"#DejaVuSans-32\" x=\"179.199219\"/>\n      </g>\n     </g>\n    </g>\n    <g id=\"ytick_2\">\n     <g id=\"line2d_5\">\n      <path d=\"M 59.024844 207.176015 \nL 282.224844 207.176015 \n\" clip-path=\"url(#p2f6ce2ec28)\" style=\"fill: none; stroke: #ffffff; stroke-linecap: round\"/>\n     </g>\n     <g id=\"text_6\">\n      <!-- 0.0 -->\n      <g style=\"fill: #262626\" transform=\"translate(32.031406 211.355155) scale(0.11 -0.11)\">\n       <use xlink:href=\"#DejaVuSans-30\"/>\n       <use xlink:href=\"#DejaVuSans-2e\" x=\"63.623047\"/>\n       <use xlink:href=\"#DejaVuSans-30\" x=\"95.410156\"/>\n      </g>\n     </g>\n    </g>\n    <g id=\"ytick_3\">\n     <g id=\"line2d_6\">\n      <path d=\"M 59.024844 179.695579 \nL 282.224844 179.695579 \n\" clip-path=\"url(#p2f6ce2ec28)\" style=\"fill: none; stroke: #ffffff; stroke-linecap: round\"/>\n     </g>\n     <g id=\"text_7\">\n      <!-- 0.2 -->\n      <g style=\"fill: #262626\" transform=\"translate(32.031406 183.87472) scale(0.11 -0.11)\">\n       <use xlink:href=\"#DejaVuSans-30\"/>\n       <use xlink:href=\"#DejaVuSans-2e\" x=\"63.623047\"/>\n       <use xlink:href=\"#DejaVuSans-32\" x=\"95.410156\"/>\n      </g>\n     </g>\n    </g>\n    <g id=\"ytick_4\">\n     <g id=\"line2d_7\">\n      <path d=\"M 59.024844 152.215144 \nL 282.224844 152.215144 \n\" clip-path=\"url(#p2f6ce2ec28)\" style=\"fill: none; stroke: #ffffff; stroke-linecap: round\"/>\n     </g>\n     <g id=\"text_8\">\n      <!-- 0.4 -->\n      <g style=\"fill: #262626\" transform=\"translate(32.031406 156.394284) scale(0.11 -0.11)\">\n       <defs>\n        <path id=\"DejaVuSans-34\" d=\"M 2419 4116 \nL 825 1625 \nL 2419 1625 \nL 2419 4116 \nz\nM 2253 4666 \nL 3047 4666 \nL 3047 1625 \nL 3713 1625 \nL 3713 1100 \nL 3047 1100 \nL 3047 0 \nL 2419 0 \nL 2419 1100 \nL 313 1100 \nL 313 1709 \nL 2253 4666 \nz\n\" transform=\"scale(0.015625)\"/>\n       </defs>\n       <use xlink:href=\"#DejaVuSans-30\"/>\n       <use xlink:href=\"#DejaVuSans-2e\" x=\"63.623047\"/>\n       <use xlink:href=\"#DejaVuSans-34\" x=\"95.410156\"/>\n      </g>\n     </g>\n    </g>\n    <g id=\"ytick_5\">\n     <g id=\"line2d_8\">\n      <path d=\"M 59.024844 124.734708 \nL 282.224844 124.734708 \n\" clip-path=\"url(#p2f6ce2ec28)\" style=\"fill: none; stroke: #ffffff; stroke-linecap: round\"/>\n     </g>\n     <g id=\"text_9\">\n      <!-- 0.6 -->\n      <g style=\"fill: #262626\" transform=\"translate(32.031406 128.913849) scale(0.11 -0.11)\">\n       <defs>\n        <path id=\"DejaVuSans-36\" d=\"M 2113 2584 \nQ 1688 2584 1439 2293 \nQ 1191 2003 1191 1497 \nQ 1191 994 1439 701 \nQ 1688 409 2113 409 \nQ 2538 409 2786 701 \nQ 3034 994 3034 1497 \nQ 3034 2003 2786 2293 \nQ 2538 2584 2113 2584 \nz\nM 3366 4563 \nL 3366 3988 \nQ 3128 4100 2886 4159 \nQ 2644 4219 2406 4219 \nQ 1781 4219 1451 3797 \nQ 1122 3375 1075 2522 \nQ 1259 2794 1537 2939 \nQ 1816 3084 2150 3084 \nQ 2853 3084 3261 2657 \nQ 3669 2231 3669 1497 \nQ 3669 778 3244 343 \nQ 2819 -91 2113 -91 \nQ 1303 -91 875 529 \nQ 447 1150 447 2328 \nQ 447 3434 972 4092 \nQ 1497 4750 2381 4750 \nQ 2619 4750 2861 4703 \nQ 3103 4656 3366 4563 \nz\n\" transform=\"scale(0.015625)\"/>\n       </defs>\n       <use xlink:href=\"#DejaVuSans-30\"/>\n       <use xlink:href=\"#DejaVuSans-2e\" x=\"63.623047\"/>\n       <use xlink:href=\"#DejaVuSans-36\" x=\"95.410156\"/>\n      </g>\n     </g>\n    </g>\n    <g id=\"ytick_6\">\n     <g id=\"line2d_9\">\n      <path d=\"M 59.024844 97.254273 \nL 282.224844 97.254273 \n\" clip-path=\"url(#p2f6ce2ec28)\" style=\"fill: none; stroke: #ffffff; stroke-linecap: round\"/>\n     </g>\n     <g id=\"text_10\">\n      <!-- 0.8 -->\n      <g style=\"fill: #262626\" transform=\"translate(32.031406 101.433413) scale(0.11 -0.11)\">\n       <defs>\n        <path id=\"DejaVuSans-38\" d=\"M 2034 2216 \nQ 1584 2216 1326 1975 \nQ 1069 1734 1069 1313 \nQ 1069 891 1326 650 \nQ 1584 409 2034 409 \nQ 2484 409 2743 651 \nQ 3003 894 3003 1313 \nQ 3003 1734 2745 1975 \nQ 2488 2216 2034 2216 \nz\nM 1403 2484 \nQ 997 2584 770 2862 \nQ 544 3141 544 3541 \nQ 544 4100 942 4425 \nQ 1341 4750 2034 4750 \nQ 2731 4750 3128 4425 \nQ 3525 4100 3525 3541 \nQ 3525 3141 3298 2862 \nQ 3072 2584 2669 2484 \nQ 3125 2378 3379 2068 \nQ 3634 1759 3634 1313 \nQ 3634 634 3220 271 \nQ 2806 -91 2034 -91 \nQ 1263 -91 848 271 \nQ 434 634 434 1313 \nQ 434 1759 690 2068 \nQ 947 2378 1403 2484 \nz\nM 1172 3481 \nQ 1172 3119 1398 2916 \nQ 1625 2713 2034 2713 \nQ 2441 2713 2670 2916 \nQ 2900 3119 2900 3481 \nQ 2900 3844 2670 4047 \nQ 2441 4250 2034 4250 \nQ 1625 4250 1398 4047 \nQ 1172 3844 1172 3481 \nz\n\" transform=\"scale(0.015625)\"/>\n       </defs>\n       <use xlink:href=\"#DejaVuSans-30\"/>\n       <use xlink:href=\"#DejaVuSans-2e\" x=\"63.623047\"/>\n       <use xlink:href=\"#DejaVuSans-38\" x=\"95.410156\"/>\n      </g>\n     </g>\n    </g>\n    <g id=\"ytick_7\">\n     <g id=\"line2d_10\">\n      <path d=\"M 59.024844 69.773837 \nL 282.224844 69.773837 \n\" clip-path=\"url(#p2f6ce2ec28)\" style=\"fill: none; stroke: #ffffff; stroke-linecap: round\"/>\n     </g>\n     <g id=\"text_11\">\n      <!-- 1.0 -->\n      <g style=\"fill: #262626\" transform=\"translate(32.031406 73.952978) scale(0.11 -0.11)\">\n       <use xlink:href=\"#DejaVuSans-31\"/>\n       <use xlink:href=\"#DejaVuSans-2e\" x=\"63.623047\"/>\n       <use xlink:href=\"#DejaVuSans-30\" x=\"95.410156\"/>\n      </g>\n     </g>\n    </g>\n    <g id=\"ytick_8\">\n     <g id=\"line2d_11\">\n      <path d=\"M 59.024844 42.293402 \nL 282.224844 42.293402 \n\" clip-path=\"url(#p2f6ce2ec28)\" style=\"fill: none; stroke: #ffffff; stroke-linecap: round\"/>\n     </g>\n     <g id=\"text_12\">\n      <!-- 1.2 -->\n      <g style=\"fill: #262626\" transform=\"translate(32.031406 46.472542) scale(0.11 -0.11)\">\n       <use xlink:href=\"#DejaVuSans-31\"/>\n       <use xlink:href=\"#DejaVuSans-2e\" x=\"63.623047\"/>\n       <use xlink:href=\"#DejaVuSans-32\" x=\"95.410156\"/>\n      </g>\n     </g>\n    </g>\n    <g id=\"text_13\">\n     <!-- $x_2$ -->\n     <g style=\"fill: #262626\" transform=\"translate(16.318125 139.618125) rotate(-90) scale(0.12 -0.12)\">\n      <use xlink:href=\"#DejaVuSans-Oblique-78\" transform=\"translate(0 0.3125)\"/>\n      <use xlink:href=\"#DejaVuSans-32\" transform=\"translate(59.179688 -16.09375) scale(0.7)\"/>\n     </g>\n    </g>\n   </g>\n   <g id=\"PathCollection_1\">\n    <defs>\n     <path id=\"mc203100a9f\" d=\"M 0 3 \nC 0.795609 3 1.55874 2.683901 2.12132 2.12132 \nC 2.683901 1.55874 3 0.795609 3 0 \nC 3 -0.795609 2.683901 -1.55874 2.12132 -2.12132 \nC 1.55874 -2.683901 0.795609 -3 0 -3 \nC -0.795609 -3 -1.55874 -2.683901 -2.12132 -2.12132 \nC -2.683901 -1.55874 -3 -0.795609 -3 0 \nC -3 0.795609 -2.683901 1.55874 -2.12132 2.12132 \nC -1.55874 2.683901 -0.795609 3 0 3 \nz\n\" style=\"stroke: #333333\"/>\n    </defs>\n    <g clip-path=\"url(#p2f6ce2ec28)\">\n     <use xlink:href=\"#mc203100a9f\" x=\"102.473492\" y=\"216.991358\" style=\"fill: #4c72b0; stroke: #333333\"/>\n     <use xlink:href=\"#mc203100a9f\" x=\"81.531253\" y=\"198.154825\" style=\"fill: #4c72b0; stroke: #333333\"/>\n     <use xlink:href=\"#mc203100a9f\" x=\"114.684678\" y=\"218.452369\" style=\"fill: #4c72b0; stroke: #333333\"/>\n     <use xlink:href=\"#mc203100a9f\" x=\"111.930435\" y=\"201.504315\" style=\"fill: #4c72b0; stroke: #333333\"/>\n     <use xlink:href=\"#mc203100a9f\" x=\"235.961113\" y=\"80.130332\" style=\"fill: #4c72b0; stroke: #333333\"/>\n     <use xlink:href=\"#mc203100a9f\" x=\"243.326835\" y=\"58.408153\" style=\"fill: #4c72b0; stroke: #333333\"/>\n     <use xlink:href=\"#mc203100a9f\" x=\"239.606599\" y=\"49.801958\" style=\"fill: #4c72b0; stroke: #333333\"/>\n     <use xlink:href=\"#mc203100a9f\" x=\"235.689266\" y=\"32.398125\" style=\"fill: #4c72b0; stroke: #333333\"/>\n     <use xlink:href=\"#mc203100a9f\" x=\"248.250356\" y=\"81.551371\" style=\"fill: #4c72b0; stroke: #333333\"/>\n     <use xlink:href=\"#mc203100a9f\" x=\"83.230065\" y=\"200.546739\" style=\"fill: #4c72b0; stroke: #333333\"/>\n     <use xlink:href=\"#mc203100a9f\" x=\"236.270449\" y=\"59.963315\" style=\"fill: #4c72b0; stroke: #333333\"/>\n     <use xlink:href=\"#mc203100a9f\" x=\"92.039062\" y=\"195.408909\" style=\"fill: #4c72b0; stroke: #333333\"/>\n     <use xlink:href=\"#mc203100a9f\" x=\"101.359224\" y=\"224.292737\" style=\"fill: #4c72b0; stroke: #333333\"/>\n     <use xlink:href=\"#mc203100a9f\" x=\"241.866478\" y=\"64.479487\" style=\"fill: #4c72b0; stroke: #333333\"/>\n     <use xlink:href=\"#mc203100a9f\" x=\"226.953301\" y=\"67.66162\" style=\"fill: #4c72b0; stroke: #333333\"/>\n     <use xlink:href=\"#mc203100a9f\" x=\"244.470986\" y=\"62.068538\" style=\"fill: #4c72b0; stroke: #333333\"/>\n     <use xlink:href=\"#mc203100a9f\" x=\"106.393072\" y=\"191.573095\" style=\"fill: #4c72b0; stroke: #333333\"/>\n     <use xlink:href=\"#mc203100a9f\" x=\"111.798177\" y=\"198.225757\" style=\"fill: #4c72b0; stroke: #333333\"/>\n     <use xlink:href=\"#mc203100a9f\" x=\"93.890735\" y=\"196.747613\" style=\"fill: #4c72b0; stroke: #333333\"/>\n     <use xlink:href=\"#mc203100a9f\" x=\"272.079389\" y=\"95.430466\" style=\"fill: #4c72b0; stroke: #333333\"/>\n     <use xlink:href=\"#mc203100a9f\" x=\"249.105227\" y=\"91.932902\" style=\"fill: #4c72b0; stroke: #333333\"/>\n     <use xlink:href=\"#mc203100a9f\" x=\"229.331339\" y=\"60.436015\" style=\"fill: #4c72b0; stroke: #333333\"/>\n     <use xlink:href=\"#mc203100a9f\" x=\"69.767078\" y=\"204.614092\" style=\"fill: #4c72b0; stroke: #333333\"/>\n     <use xlink:href=\"#mc203100a9f\" x=\"228.241923\" y=\"71.350342\" style=\"fill: #4c72b0; stroke: #333333\"/>\n     <use xlink:href=\"#mc203100a9f\" x=\"246.547744\" y=\"57.878174\" style=\"fill: #4c72b0; stroke: #333333\"/>\n     <use xlink:href=\"#mc203100a9f\" x=\"222.488843\" y=\"74.369957\" style=\"fill: #4c72b0; stroke: #333333\"/>\n     <use xlink:href=\"#mc203100a9f\" x=\"232.722418\" y=\"78.750727\" style=\"fill: #4c72b0; stroke: #333333\"/>\n     <use xlink:href=\"#mc203100a9f\" x=\"264.330969\" y=\"64.209305\" style=\"fill: #4c72b0; stroke: #333333\"/>\n     <use xlink:href=\"#mc203100a9f\" x=\"217.987207\" y=\"76.427319\" style=\"fill: #4c72b0; stroke: #333333\"/>\n     <use xlink:href=\"#mc203100a9f\" x=\"257.297305\" y=\"79.497367\" style=\"fill: #4c72b0; stroke: #333333\"/>\n     <use xlink:href=\"#mc203100a9f\" x=\"245.684766\" y=\"59.130199\" style=\"fill: #4c72b0; stroke: #333333\"/>\n     <use xlink:href=\"#mc203100a9f\" x=\"235.859815\" y=\"86.918651\" style=\"fill: #4c72b0; stroke: #333333\"/>\n     <use xlink:href=\"#mc203100a9f\" x=\"241.024708\" y=\"60.676025\" style=\"fill: #4c72b0; stroke: #333333\"/>\n     <use xlink:href=\"#mc203100a9f\" x=\"128.432482\" y=\"233.998125\" style=\"fill: #4c72b0; stroke: #333333\"/>\n     <use xlink:href=\"#mc203100a9f\" x=\"96.197242\" y=\"199.092408\" style=\"fill: #4c72b0; stroke: #333333\"/>\n     <use xlink:href=\"#mc203100a9f\" x=\"102.303053\" y=\"215.732042\" style=\"fill: #4c72b0; stroke: #333333\"/>\n     <use xlink:href=\"#mc203100a9f\" x=\"95.402413\" y=\"213.949955\" style=\"fill: #4c72b0; stroke: #333333\"/>\n     <use xlink:href=\"#mc203100a9f\" x=\"244.460087\" y=\"79.294563\" style=\"fill: #4c72b0; stroke: #333333\"/>\n     <use xlink:href=\"#mc203100a9f\" x=\"109.806916\" y=\"198.524777\" style=\"fill: #4c72b0; stroke: #333333\"/>\n     <use xlink:href=\"#mc203100a9f\" x=\"108.881846\" y=\"198.789394\" style=\"fill: #4c72b0; stroke: #333333\"/>\n     <use xlink:href=\"#mc203100a9f\" x=\"98.043805\" y=\"205.563911\" style=\"fill: #4c72b0; stroke: #333333\"/>\n     <use xlink:href=\"#mc203100a9f\" x=\"109.984037\" y=\"195.998214\" style=\"fill: #4c72b0; stroke: #333333\"/>\n     <use xlink:href=\"#mc203100a9f\" x=\"257.841436\" y=\"69.485245\" style=\"fill: #4c72b0; stroke: #333333\"/>\n     <use xlink:href=\"#mc203100a9f\" x=\"255.762307\" y=\"58.896216\" style=\"fill: #4c72b0; stroke: #333333\"/>\n     <use xlink:href=\"#mc203100a9f\" x=\"107.144055\" y=\"198.54241\" style=\"fill: #4c72b0; stroke: #333333\"/>\n     <use xlink:href=\"#mc203100a9f\" x=\"98.165911\" y=\"219.504485\" style=\"fill: #4c72b0; stroke: #333333\"/>\n     <use xlink:href=\"#mc203100a9f\" x=\"99.408179\" y=\"216.480364\" style=\"fill: #4c72b0; stroke: #333333\"/>\n     <use xlink:href=\"#mc203100a9f\" x=\"86.692211\" y=\"211.591926\" style=\"fill: #4c72b0; stroke: #333333\"/>\n     <use xlink:href=\"#mc203100a9f\" x=\"101.794792\" y=\"214.141524\" style=\"fill: #4c72b0; stroke: #333333\"/>\n     <use xlink:href=\"#mc203100a9f\" x=\"91.693076\" y=\"203.987598\" style=\"fill: #4c72b0; stroke: #333333\"/>\n     <use xlink:href=\"#mc203100a9f\" x=\"229.28703\" y=\"72.706648\" style=\"fill: #4c72b0; stroke: #333333\"/>\n     <use xlink:href=\"#mc203100a9f\" x=\"102.725117\" y=\"186.904299\" style=\"fill: #4c72b0; stroke: #333333\"/>\n     <use xlink:href=\"#mc203100a9f\" x=\"98.070405\" y=\"220.950986\" style=\"fill: #4c72b0; stroke: #333333\"/>\n     <use xlink:href=\"#mc203100a9f\" x=\"243.976217\" y=\"81.140168\" style=\"fill: #4c72b0; stroke: #333333\"/>\n     <use xlink:href=\"#mc203100a9f\" x=\"96.804258\" y=\"201.656408\" style=\"fill: #4c72b0; stroke: #333333\"/>\n     <use xlink:href=\"#mc203100a9f\" x=\"108.075554\" y=\"212.688871\" style=\"fill: #4c72b0; stroke: #333333\"/>\n     <use xlink:href=\"#mc203100a9f\" x=\"101.500291\" y=\"207.002992\" style=\"fill: #4c72b0; stroke: #333333\"/>\n     <use xlink:href=\"#mc203100a9f\" x=\"118.812076\" y=\"193.995425\" style=\"fill: #4c72b0; stroke: #333333\"/>\n     <use xlink:href=\"#mc203100a9f\" x=\"269.801212\" y=\"80.317363\" style=\"fill: #4c72b0; stroke: #333333\"/>\n     <use xlink:href=\"#mc203100a9f\" x=\"251.730254\" y=\"67.254685\" style=\"fill: #4c72b0; stroke: #333333\"/>\n     <use xlink:href=\"#mc203100a9f\" x=\"86.491523\" y=\"215.4118\" style=\"fill: #4c72b0; stroke: #333333\"/>\n     <use xlink:href=\"#mc203100a9f\" x=\"209.458287\" y=\"76.997829\" style=\"fill: #4c72b0; stroke: #333333\"/>\n     <use xlink:href=\"#mc203100a9f\" x=\"228.712978\" y=\"67.707401\" style=\"fill: #4c72b0; stroke: #333333\"/>\n     <use xlink:href=\"#mc203100a9f\" x=\"244.24481\" y=\"43.994844\" style=\"fill: #4c72b0; stroke: #333333\"/>\n     <use xlink:href=\"#mc203100a9f\" x=\"252.832157\" y=\"77.700621\" style=\"fill: #4c72b0; stroke: #333333\"/>\n     <use xlink:href=\"#mc203100a9f\" x=\"96.722715\" y=\"190.168149\" style=\"fill: #4c72b0; stroke: #333333\"/>\n     <use xlink:href=\"#mc203100a9f\" x=\"75.843797\" y=\"215.411558\" style=\"fill: #4c72b0; stroke: #333333\"/>\n     <use xlink:href=\"#mc203100a9f\" x=\"83.276228\" y=\"209.13234\" style=\"fill: #4c72b0; stroke: #333333\"/>\n     <use xlink:href=\"#mc203100a9f\" x=\"103.027129\" y=\"217.460382\" style=\"fill: #4c72b0; stroke: #333333\"/>\n     <use xlink:href=\"#mc203100a9f\" x=\"256.061207\" y=\"68.846112\" style=\"fill: #4c72b0; stroke: #333333\"/>\n     <use xlink:href=\"#mc203100a9f\" x=\"127.412645\" y=\"183.057249\" style=\"fill: #4c72b0; stroke: #333333\"/>\n     <use xlink:href=\"#mc203100a9f\" x=\"235.910657\" y=\"56.424237\" style=\"fill: #4c72b0; stroke: #333333\"/>\n     <use xlink:href=\"#mc203100a9f\" x=\"248.528417\" y=\"50.968547\" style=\"fill: #4c72b0; stroke: #333333\"/>\n     <use xlink:href=\"#mc203100a9f\" x=\"235.622244\" y=\"59.914651\" style=\"fill: #4c72b0; stroke: #333333\"/>\n     <use xlink:href=\"#mc203100a9f\" x=\"74.306614\" y=\"207.939252\" style=\"fill: #4c72b0; stroke: #333333\"/>\n     <use xlink:href=\"#mc203100a9f\" x=\"69.170298\" y=\"208.400543\" style=\"fill: #4c72b0; stroke: #333333\"/>\n     <use xlink:href=\"#mc203100a9f\" x=\"244.595292\" y=\"82.687993\" style=\"fill: #4c72b0; stroke: #333333\"/>\n     <use xlink:href=\"#mc203100a9f\" x=\"84.431631\" y=\"200.250305\" style=\"fill: #4c72b0; stroke: #333333\"/>\n     <use xlink:href=\"#mc203100a9f\" x=\"231.61203\" y=\"86.232943\" style=\"fill: #4c72b0; stroke: #333333\"/>\n     <use xlink:href=\"#mc203100a9f\" x=\"267.14238\" y=\"69.289312\" style=\"fill: #4c72b0; stroke: #333333\"/>\n     <use xlink:href=\"#mc203100a9f\" x=\"90.854147\" y=\"215.087882\" style=\"fill: #4c72b0; stroke: #333333\"/>\n     <use xlink:href=\"#mc203100a9f\" x=\"262.631098\" y=\"73.195645\" style=\"fill: #4c72b0; stroke: #333333\"/>\n     <use xlink:href=\"#mc203100a9f\" x=\"247.557481\" y=\"65.497185\" style=\"fill: #4c72b0; stroke: #333333\"/>\n     <use xlink:href=\"#mc203100a9f\" x=\"141.776921\" y=\"191.792812\" style=\"fill: #4c72b0; stroke: #333333\"/>\n     <use xlink:href=\"#mc203100a9f\" x=\"237.618441\" y=\"82.903172\" style=\"fill: #4c72b0; stroke: #333333\"/>\n     <use xlink:href=\"#mc203100a9f\" x=\"75.674232\" y=\"204.38038\" style=\"fill: #4c72b0; stroke: #333333\"/>\n     <use xlink:href=\"#mc203100a9f\" x=\"230.301022\" y=\"84.634538\" style=\"fill: #4c72b0; stroke: #333333\"/>\n     <use xlink:href=\"#mc203100a9f\" x=\"122.141642\" y=\"195.062092\" style=\"fill: #4c72b0; stroke: #333333\"/>\n     <use xlink:href=\"#mc203100a9f\" x=\"239.310676\" y=\"49.439084\" style=\"fill: #4c72b0; stroke: #333333\"/>\n     <use xlink:href=\"#mc203100a9f\" x=\"83.704763\" y=\"209.791309\" style=\"fill: #4c72b0; stroke: #333333\"/>\n     <use xlink:href=\"#mc203100a9f\" x=\"240.107725\" y=\"81.191273\" style=\"fill: #4c72b0; stroke: #333333\"/>\n     <use xlink:href=\"#mc203100a9f\" x=\"102.15442\" y=\"207.866297\" style=\"fill: #4c72b0; stroke: #333333\"/>\n     <use xlink:href=\"#mc203100a9f\" x=\"105.405857\" y=\"220.607836\" style=\"fill: #4c72b0; stroke: #333333\"/>\n     <use xlink:href=\"#mc203100a9f\" x=\"240.824583\" y=\"59.449618\" style=\"fill: #4c72b0; stroke: #333333\"/>\n     <use xlink:href=\"#mc203100a9f\" x=\"74.78598\" y=\"199.710127\" style=\"fill: #4c72b0; stroke: #333333\"/>\n     <use xlink:href=\"#mc203100a9f\" x=\"230.074568\" y=\"61.933685\" style=\"fill: #4c72b0; stroke: #333333\"/>\n     <use xlink:href=\"#mc203100a9f\" x=\"228.654761\" y=\"94.573313\" style=\"fill: #4c72b0; stroke: #333333\"/>\n     <use xlink:href=\"#mc203100a9f\" x=\"238.490871\" y=\"86.413463\" style=\"fill: #4c72b0; stroke: #333333\"/>\n     <use xlink:href=\"#mc203100a9f\" x=\"112.535922\" y=\"215.102634\" style=\"fill: #4c72b0; stroke: #333333\"/>\n     <use xlink:href=\"#mc203100a9f\" x=\"110.129012\" y=\"222.698433\" style=\"fill: #4c72b0; stroke: #333333\"/>\n     <use xlink:href=\"#mc203100a9f\" x=\"105.813408\" y=\"187.368548\" style=\"fill: #4c72b0; stroke: #333333\"/>\n     <use xlink:href=\"#mc203100a9f\" x=\"204.552098\" y=\"80.723348\" style=\"fill: #4c72b0; stroke: #333333\"/>\n     <use xlink:href=\"#mc203100a9f\" x=\"244.659455\" y=\"78.072725\" style=\"fill: #4c72b0; stroke: #333333\"/>\n    </g>\n   </g>\n   <g id=\"PathCollection_2\">\n    <defs>\n     <path id=\"m3d4f3db97c\" d=\"M 0 3 \nC 0.795609 3 1.55874 2.683901 2.12132 2.12132 \nC 2.683901 1.55874 3 0.795609 3 0 \nC 3 -0.795609 2.683901 -1.55874 2.12132 -2.12132 \nC 1.55874 -2.683901 0.795609 -3 0 -3 \nC -0.795609 -3 -1.55874 -2.683901 -2.12132 -2.12132 \nC -2.683901 -1.55874 -3 -0.795609 -3 0 \nC -3 0.795609 -2.683901 1.55874 -2.12132 2.12132 \nC -1.55874 2.683901 -0.795609 3 0 3 \nz\n\" style=\"stroke: #333333\"/>\n    </defs>\n    <g clip-path=\"url(#p2f6ce2ec28)\">\n     <use xlink:href=\"#m3d4f3db97c\" x=\"88.744602\" y=\"66.582613\" style=\"fill: #dd8452; stroke: #333333\"/>\n     <use xlink:href=\"#m3d4f3db97c\" x=\"124.661874\" y=\"63.263267\" style=\"fill: #dd8452; stroke: #333333\"/>\n     <use xlink:href=\"#m3d4f3db97c\" x=\"84.58745\" y=\"58.95913\" style=\"fill: #dd8452; stroke: #333333\"/>\n     <use xlink:href=\"#m3d4f3db97c\" x=\"251.021149\" y=\"181.113666\" style=\"fill: #dd8452; stroke: #333333\"/>\n     <use xlink:href=\"#m3d4f3db97c\" x=\"226.873488\" y=\"218.385425\" style=\"fill: #dd8452; stroke: #333333\"/>\n     <use xlink:href=\"#m3d4f3db97c\" x=\"238.335375\" y=\"202.488512\" style=\"fill: #dd8452; stroke: #333333\"/>\n     <use xlink:href=\"#m3d4f3db97c\" x=\"246.099798\" y=\"208.1767\" style=\"fill: #dd8452; stroke: #333333\"/>\n     <use xlink:href=\"#m3d4f3db97c\" x=\"227.476216\" y=\"227.990346\" style=\"fill: #dd8452; stroke: #333333\"/>\n     <use xlink:href=\"#m3d4f3db97c\" x=\"240.244393\" y=\"222.880676\" style=\"fill: #dd8452; stroke: #333333\"/>\n     <use xlink:href=\"#m3d4f3db97c\" x=\"113.618865\" y=\"55.294371\" style=\"fill: #dd8452; stroke: #333333\"/>\n     <use xlink:href=\"#m3d4f3db97c\" x=\"78.901919\" y=\"82.659755\" style=\"fill: #dd8452; stroke: #333333\"/>\n     <use xlink:href=\"#m3d4f3db97c\" x=\"105.605042\" y=\"62.714304\" style=\"fill: #dd8452; stroke: #333333\"/>\n     <use xlink:href=\"#m3d4f3db97c\" x=\"246.689676\" y=\"154.238644\" style=\"fill: #dd8452; stroke: #333333\"/>\n     <use xlink:href=\"#m3d4f3db97c\" x=\"87.435332\" y=\"73.027779\" style=\"fill: #dd8452; stroke: #333333\"/>\n     <use xlink:href=\"#m3d4f3db97c\" x=\"232.575432\" y=\"206.051046\" style=\"fill: #dd8452; stroke: #333333\"/>\n     <use xlink:href=\"#m3d4f3db97c\" x=\"91.680469\" y=\"54.811418\" style=\"fill: #dd8452; stroke: #333333\"/>\n     <use xlink:href=\"#m3d4f3db97c\" x=\"99.245585\" y=\"84.582287\" style=\"fill: #dd8452; stroke: #333333\"/>\n     <use xlink:href=\"#m3d4f3db97c\" x=\"88.034356\" y=\"66.799643\" style=\"fill: #dd8452; stroke: #333333\"/>\n     <use xlink:href=\"#m3d4f3db97c\" x=\"98.981642\" y=\"78.726968\" style=\"fill: #dd8452; stroke: #333333\"/>\n     <use xlink:href=\"#m3d4f3db97c\" x=\"128.586414\" y=\"61.063649\" style=\"fill: #dd8452; stroke: #333333\"/>\n     <use xlink:href=\"#m3d4f3db97c\" x=\"230.086383\" y=\"195.463394\" style=\"fill: #dd8452; stroke: #333333\"/>\n     <use xlink:href=\"#m3d4f3db97c\" x=\"221.634047\" y=\"194.564391\" style=\"fill: #dd8452; stroke: #333333\"/>\n     <use xlink:href=\"#m3d4f3db97c\" x=\"128.279021\" y=\"55.587534\" style=\"fill: #dd8452; stroke: #333333\"/>\n     <use xlink:href=\"#m3d4f3db97c\" x=\"226.345612\" y=\"207.993906\" style=\"fill: #dd8452; stroke: #333333\"/>\n     <use xlink:href=\"#m3d4f3db97c\" x=\"193.693914\" y=\"221.251324\" style=\"fill: #dd8452; stroke: #333333\"/>\n     <use xlink:href=\"#m3d4f3db97c\" x=\"121.369482\" y=\"89.42429\" style=\"fill: #dd8452; stroke: #333333\"/>\n     <use xlink:href=\"#m3d4f3db97c\" x=\"92.13035\" y=\"67.977435\" style=\"fill: #dd8452; stroke: #333333\"/>\n     <use xlink:href=\"#m3d4f3db97c\" x=\"259.757291\" y=\"226.905074\" style=\"fill: #dd8452; stroke: #333333\"/>\n     <use xlink:href=\"#m3d4f3db97c\" x=\"255.833584\" y=\"207.03541\" style=\"fill: #dd8452; stroke: #333333\"/>\n     <use xlink:href=\"#m3d4f3db97c\" x=\"225.575598\" y=\"200.826612\" style=\"fill: #dd8452; stroke: #333333\"/>\n     <use xlink:href=\"#m3d4f3db97c\" x=\"101.147117\" y=\"78.020949\" style=\"fill: #dd8452; stroke: #333333\"/>\n     <use xlink:href=\"#m3d4f3db97c\" x=\"240.407954\" y=\"212.470307\" style=\"fill: #dd8452; stroke: #333333\"/>\n     <use xlink:href=\"#m3d4f3db97c\" x=\"261.799386\" y=\"224.183869\" style=\"fill: #dd8452; stroke: #333333\"/>\n     <use xlink:href=\"#m3d4f3db97c\" x=\"231.108137\" y=\"195.502297\" style=\"fill: #dd8452; stroke: #333333\"/>\n     <use xlink:href=\"#m3d4f3db97c\" x=\"252.115114\" y=\"202.953652\" style=\"fill: #dd8452; stroke: #333333\"/>\n     <use xlink:href=\"#m3d4f3db97c\" x=\"86.642862\" y=\"77.470848\" style=\"fill: #dd8452; stroke: #333333\"/>\n     <use xlink:href=\"#m3d4f3db97c\" x=\"116.364561\" y=\"77.902156\" style=\"fill: #dd8452; stroke: #333333\"/>\n     <use xlink:href=\"#m3d4f3db97c\" x=\"106.057388\" y=\"72.552008\" style=\"fill: #dd8452; stroke: #333333\"/>\n     <use xlink:href=\"#m3d4f3db97c\" x=\"95.267551\" y=\"54.676401\" style=\"fill: #dd8452; stroke: #333333\"/>\n     <use xlink:href=\"#m3d4f3db97c\" x=\"249.044462\" y=\"211.439147\" style=\"fill: #dd8452; stroke: #333333\"/>\n     <use xlink:href=\"#m3d4f3db97c\" x=\"243.996635\" y=\"208.964208\" style=\"fill: #dd8452; stroke: #333333\"/>\n     <use xlink:href=\"#m3d4f3db97c\" x=\"99.707157\" y=\"61.596248\" style=\"fill: #dd8452; stroke: #333333\"/>\n     <use xlink:href=\"#m3d4f3db97c\" x=\"227.879332\" y=\"178.426158\" style=\"fill: #dd8452; stroke: #333333\"/>\n     <use xlink:href=\"#m3d4f3db97c\" x=\"84.145352\" y=\"86.457049\" style=\"fill: #dd8452; stroke: #333333\"/>\n     <use xlink:href=\"#m3d4f3db97c\" x=\"253.180588\" y=\"209.196615\" style=\"fill: #dd8452; stroke: #333333\"/>\n     <use xlink:href=\"#m3d4f3db97c\" x=\"245.24898\" y=\"214.921713\" style=\"fill: #dd8452; stroke: #333333\"/>\n     <use xlink:href=\"#m3d4f3db97c\" x=\"86.738442\" y=\"66.425516\" style=\"fill: #dd8452; stroke: #333333\"/>\n     <use xlink:href=\"#m3d4f3db97c\" x=\"77.908473\" y=\"89.112693\" style=\"fill: #dd8452; stroke: #333333\"/>\n     <use xlink:href=\"#m3d4f3db97c\" x=\"110.43894\" y=\"71.971425\" style=\"fill: #dd8452; stroke: #333333\"/>\n     <use xlink:href=\"#m3d4f3db97c\" x=\"239.161966\" y=\"211.142247\" style=\"fill: #dd8452; stroke: #333333\"/>\n     <use xlink:href=\"#m3d4f3db97c\" x=\"246.750324\" y=\"186.115848\" style=\"fill: #dd8452; stroke: #333333\"/>\n     <use xlink:href=\"#m3d4f3db97c\" x=\"240.801222\" y=\"217.797338\" style=\"fill: #dd8452; stroke: #333333\"/>\n     <use xlink:href=\"#m3d4f3db97c\" x=\"239.768965\" y=\"200.333409\" style=\"fill: #dd8452; stroke: #333333\"/>\n     <use xlink:href=\"#m3d4f3db97c\" x=\"129.233412\" y=\"80.880027\" style=\"fill: #dd8452; stroke: #333333\"/>\n     <use xlink:href=\"#m3d4f3db97c\" x=\"85.663459\" y=\"63.014756\" style=\"fill: #dd8452; stroke: #333333\"/>\n     <use xlink:href=\"#m3d4f3db97c\" x=\"220.796717\" y=\"182.011372\" style=\"fill: #dd8452; stroke: #333333\"/>\n     <use xlink:href=\"#m3d4f3db97c\" x=\"256.063225\" y=\"213.62259\" style=\"fill: #dd8452; stroke: #333333\"/>\n     <use xlink:href=\"#m3d4f3db97c\" x=\"74.169028\" y=\"51.171343\" style=\"fill: #dd8452; stroke: #333333\"/>\n     <use xlink:href=\"#m3d4f3db97c\" x=\"239.497143\" y=\"206.530491\" style=\"fill: #dd8452; stroke: #333333\"/>\n     <use xlink:href=\"#m3d4f3db97c\" x=\"233.07343\" y=\"198.617921\" style=\"fill: #dd8452; stroke: #333333\"/>\n     <use xlink:href=\"#m3d4f3db97c\" x=\"100.035879\" y=\"62.705328\" style=\"fill: #dd8452; stroke: #333333\"/>\n     <use xlink:href=\"#m3d4f3db97c\" x=\"249.462942\" y=\"222.628842\" style=\"fill: #dd8452; stroke: #333333\"/>\n     <use xlink:href=\"#m3d4f3db97c\" x=\"76.694727\" y=\"52.218279\" style=\"fill: #dd8452; stroke: #333333\"/>\n     <use xlink:href=\"#m3d4f3db97c\" x=\"120.223039\" y=\"68.184441\" style=\"fill: #dd8452; stroke: #333333\"/>\n     <use xlink:href=\"#m3d4f3db97c\" x=\"84.725124\" y=\"60.347335\" style=\"fill: #dd8452; stroke: #333333\"/>\n     <use xlink:href=\"#m3d4f3db97c\" x=\"113.271419\" y=\"93.939299\" style=\"fill: #dd8452; stroke: #333333\"/>\n     <use xlink:href=\"#m3d4f3db97c\" x=\"81.644755\" y=\"97.793332\" style=\"fill: #dd8452; stroke: #333333\"/>\n     <use xlink:href=\"#m3d4f3db97c\" x=\"260.619075\" y=\"206.157936\" style=\"fill: #dd8452; stroke: #333333\"/>\n     <use xlink:href=\"#m3d4f3db97c\" x=\"262.400398\" y=\"226.138909\" style=\"fill: #dd8452; stroke: #333333\"/>\n     <use xlink:href=\"#m3d4f3db97c\" x=\"103.757261\" y=\"70.223073\" style=\"fill: #dd8452; stroke: #333333\"/>\n     <use xlink:href=\"#m3d4f3db97c\" x=\"79.934655\" y=\"60.572391\" style=\"fill: #dd8452; stroke: #333333\"/>\n     <use xlink:href=\"#m3d4f3db97c\" x=\"232.173291\" y=\"221.729839\" style=\"fill: #dd8452; stroke: #333333\"/>\n     <use xlink:href=\"#m3d4f3db97c\" x=\"97.45439\" y=\"56.649981\" style=\"fill: #dd8452; stroke: #333333\"/>\n     <use xlink:href=\"#m3d4f3db97c\" x=\"90.857583\" y=\"80.668083\" style=\"fill: #dd8452; stroke: #333333\"/>\n     <use xlink:href=\"#m3d4f3db97c\" x=\"237.913128\" y=\"221.400469\" style=\"fill: #dd8452; stroke: #333333\"/>\n     <use xlink:href=\"#m3d4f3db97c\" x=\"229.551115\" y=\"204.235884\" style=\"fill: #dd8452; stroke: #333333\"/>\n     <use xlink:href=\"#m3d4f3db97c\" x=\"237.838386\" y=\"210.212185\" style=\"fill: #dd8452; stroke: #333333\"/>\n     <use xlink:href=\"#m3d4f3db97c\" x=\"107.003632\" y=\"59.365508\" style=\"fill: #dd8452; stroke: #333333\"/>\n     <use xlink:href=\"#m3d4f3db97c\" x=\"94.458142\" y=\"101.402736\" style=\"fill: #dd8452; stroke: #333333\"/>\n     <use xlink:href=\"#m3d4f3db97c\" x=\"218.046165\" y=\"188.394864\" style=\"fill: #dd8452; stroke: #333333\"/>\n     <use xlink:href=\"#m3d4f3db97c\" x=\"228.752224\" y=\"226.71809\" style=\"fill: #dd8452; stroke: #333333\"/>\n     <use xlink:href=\"#m3d4f3db97c\" x=\"99.430241\" y=\"81.608069\" style=\"fill: #dd8452; stroke: #333333\"/>\n     <use xlink:href=\"#m3d4f3db97c\" x=\"119.827609\" y=\"62.369088\" style=\"fill: #dd8452; stroke: #333333\"/>\n     <use xlink:href=\"#m3d4f3db97c\" x=\"85.985081\" y=\"88.773807\" style=\"fill: #dd8452; stroke: #333333\"/>\n     <use xlink:href=\"#m3d4f3db97c\" x=\"252.490084\" y=\"180.940214\" style=\"fill: #dd8452; stroke: #333333\"/>\n     <use xlink:href=\"#m3d4f3db97c\" x=\"219.691543\" y=\"199.440695\" style=\"fill: #dd8452; stroke: #333333\"/>\n     <use xlink:href=\"#m3d4f3db97c\" x=\"89.159138\" y=\"76.467048\" style=\"fill: #dd8452; stroke: #333333\"/>\n     <use xlink:href=\"#m3d4f3db97c\" x=\"231.065401\" y=\"219.047436\" style=\"fill: #dd8452; stroke: #333333\"/>\n     <use xlink:href=\"#m3d4f3db97c\" x=\"236.051975\" y=\"219.646137\" style=\"fill: #dd8452; stroke: #333333\"/>\n     <use xlink:href=\"#m3d4f3db97c\" x=\"90.201347\" y=\"59.394599\" style=\"fill: #dd8452; stroke: #333333\"/>\n     <use xlink:href=\"#m3d4f3db97c\" x=\"75.3766\" y=\"69.113132\" style=\"fill: #dd8452; stroke: #333333\"/>\n     <use xlink:href=\"#m3d4f3db97c\" x=\"243.087439\" y=\"219.601522\" style=\"fill: #dd8452; stroke: #333333\"/>\n     <use xlink:href=\"#m3d4f3db97c\" x=\"248.432703\" y=\"230.005661\" style=\"fill: #dd8452; stroke: #333333\"/>\n     <use xlink:href=\"#m3d4f3db97c\" x=\"230.22676\" y=\"206.524746\" style=\"fill: #dd8452; stroke: #333333\"/>\n     <use xlink:href=\"#m3d4f3db97c\" x=\"86.199598\" y=\"75.057713\" style=\"fill: #dd8452; stroke: #333333\"/>\n     <use xlink:href=\"#m3d4f3db97c\" x=\"106.480285\" y=\"72.563728\" style=\"fill: #dd8452; stroke: #333333\"/>\n     <use xlink:href=\"#m3d4f3db97c\" x=\"240.64481\" y=\"209.315054\" style=\"fill: #dd8452; stroke: #333333\"/>\n    </g>\n   </g>\n   <g id=\"patch_3\">\n    <path d=\"M 59.024844 244.078125 \nL 59.024844 22.318125 \n\" style=\"fill: none; stroke: #ffffff; stroke-width: 1.25; stroke-linejoin: miter; stroke-linecap: square\"/>\n   </g>\n   <g id=\"patch_4\">\n    <path d=\"M 282.224844 244.078125 \nL 282.224844 22.318125 \n\" style=\"fill: none; stroke: #ffffff; stroke-width: 1.25; stroke-linejoin: miter; stroke-linecap: square\"/>\n   </g>\n   <g id=\"patch_5\">\n    <path d=\"M 59.024844 244.078125 \nL 282.224844 244.078125 \n\" style=\"fill: none; stroke: #ffffff; stroke-width: 1.25; stroke-linejoin: miter; stroke-linecap: square\"/>\n   </g>\n   <g id=\"patch_6\">\n    <path d=\"M 59.024844 22.318125 \nL 282.224844 22.318125 \n\" style=\"fill: none; stroke: #ffffff; stroke-width: 1.25; stroke-linejoin: miter; stroke-linecap: square\"/>\n   </g>\n   <g id=\"text_14\">\n    <!-- Dataset samples -->\n    <g style=\"fill: #262626\" transform=\"translate(120.282031 16.318125) scale(0.12 -0.12)\">\n     <defs>\n      <path id=\"DejaVuSans-44\" d=\"M 1259 4147 \nL 1259 519 \nL 2022 519 \nQ 2988 519 3436 956 \nQ 3884 1394 3884 2338 \nQ 3884 3275 3436 3711 \nQ 2988 4147 2022 4147 \nL 1259 4147 \nz\nM 628 4666 \nL 1925 4666 \nQ 3281 4666 3915 4102 \nQ 4550 3538 4550 2338 \nQ 4550 1131 3912 565 \nQ 3275 0 1925 0 \nL 628 0 \nL 628 4666 \nz\n\" transform=\"scale(0.015625)\"/>\n      <path id=\"DejaVuSans-61\" d=\"M 2194 1759 \nQ 1497 1759 1228 1600 \nQ 959 1441 959 1056 \nQ 959 750 1161 570 \nQ 1363 391 1709 391 \nQ 2188 391 2477 730 \nQ 2766 1069 2766 1631 \nL 2766 1759 \nL 2194 1759 \nz\nM 3341 1997 \nL 3341 0 \nL 2766 0 \nL 2766 531 \nQ 2569 213 2275 61 \nQ 1981 -91 1556 -91 \nQ 1019 -91 701 211 \nQ 384 513 384 1019 \nQ 384 1609 779 1909 \nQ 1175 2209 1959 2209 \nL 2766 2209 \nL 2766 2266 \nQ 2766 2663 2505 2880 \nQ 2244 3097 1772 3097 \nQ 1472 3097 1187 3025 \nQ 903 2953 641 2809 \nL 641 3341 \nQ 956 3463 1253 3523 \nQ 1550 3584 1831 3584 \nQ 2591 3584 2966 3190 \nQ 3341 2797 3341 1997 \nz\n\" transform=\"scale(0.015625)\"/>\n      <path id=\"DejaVuSans-74\" d=\"M 1172 4494 \nL 1172 3500 \nL 2356 3500 \nL 2356 3053 \nL 1172 3053 \nL 1172 1153 \nQ 1172 725 1289 603 \nQ 1406 481 1766 481 \nL 2356 481 \nL 2356 0 \nL 1766 0 \nQ 1100 0 847 248 \nQ 594 497 594 1153 \nL 594 3053 \nL 172 3053 \nL 172 3500 \nL 594 3500 \nL 594 4494 \nL 1172 4494 \nz\n\" transform=\"scale(0.015625)\"/>\n      <path id=\"DejaVuSans-73\" d=\"M 2834 3397 \nL 2834 2853 \nQ 2591 2978 2328 3040 \nQ 2066 3103 1784 3103 \nQ 1356 3103 1142 2972 \nQ 928 2841 928 2578 \nQ 928 2378 1081 2264 \nQ 1234 2150 1697 2047 \nL 1894 2003 \nQ 2506 1872 2764 1633 \nQ 3022 1394 3022 966 \nQ 3022 478 2636 193 \nQ 2250 -91 1575 -91 \nQ 1294 -91 989 -36 \nQ 684 19 347 128 \nL 347 722 \nQ 666 556 975 473 \nQ 1284 391 1588 391 \nQ 1994 391 2212 530 \nQ 2431 669 2431 922 \nQ 2431 1156 2273 1281 \nQ 2116 1406 1581 1522 \nL 1381 1569 \nQ 847 1681 609 1914 \nQ 372 2147 372 2553 \nQ 372 3047 722 3315 \nQ 1072 3584 1716 3584 \nQ 2034 3584 2315 3537 \nQ 2597 3491 2834 3397 \nz\n\" transform=\"scale(0.015625)\"/>\n      <path id=\"DejaVuSans-65\" d=\"M 3597 1894 \nL 3597 1613 \nL 953 1613 \nQ 991 1019 1311 708 \nQ 1631 397 2203 397 \nQ 2534 397 2845 478 \nQ 3156 559 3463 722 \nL 3463 178 \nQ 3153 47 2828 -22 \nQ 2503 -91 2169 -91 \nQ 1331 -91 842 396 \nQ 353 884 353 1716 \nQ 353 2575 817 3079 \nQ 1281 3584 2069 3584 \nQ 2775 3584 3186 3129 \nQ 3597 2675 3597 1894 \nz\nM 3022 2063 \nQ 3016 2534 2758 2815 \nQ 2500 3097 2075 3097 \nQ 1594 3097 1305 2825 \nQ 1016 2553 972 2059 \nL 3022 2063 \nz\n\" transform=\"scale(0.015625)\"/>\n      <path id=\"DejaVuSans-20\" transform=\"scale(0.015625)\"/>\n      <path id=\"DejaVuSans-6d\" d=\"M 3328 2828 \nQ 3544 3216 3844 3400 \nQ 4144 3584 4550 3584 \nQ 5097 3584 5394 3201 \nQ 5691 2819 5691 2113 \nL 5691 0 \nL 5113 0 \nL 5113 2094 \nQ 5113 2597 4934 2840 \nQ 4756 3084 4391 3084 \nQ 3944 3084 3684 2787 \nQ 3425 2491 3425 1978 \nL 3425 0 \nL 2847 0 \nL 2847 2094 \nQ 2847 2600 2669 2842 \nQ 2491 3084 2119 3084 \nQ 1678 3084 1418 2786 \nQ 1159 2488 1159 1978 \nL 1159 0 \nL 581 0 \nL 581 3500 \nL 1159 3500 \nL 1159 2956 \nQ 1356 3278 1631 3431 \nQ 1906 3584 2284 3584 \nQ 2666 3584 2933 3390 \nQ 3200 3197 3328 2828 \nz\n\" transform=\"scale(0.015625)\"/>\n      <path id=\"DejaVuSans-70\" d=\"M 1159 525 \nL 1159 -1331 \nL 581 -1331 \nL 581 3500 \nL 1159 3500 \nL 1159 2969 \nQ 1341 3281 1617 3432 \nQ 1894 3584 2278 3584 \nQ 2916 3584 3314 3078 \nQ 3713 2572 3713 1747 \nQ 3713 922 3314 415 \nQ 2916 -91 2278 -91 \nQ 1894 -91 1617 61 \nQ 1341 213 1159 525 \nz\nM 3116 1747 \nQ 3116 2381 2855 2742 \nQ 2594 3103 2138 3103 \nQ 1681 3103 1420 2742 \nQ 1159 2381 1159 1747 \nQ 1159 1113 1420 752 \nQ 1681 391 2138 391 \nQ 2594 391 2855 752 \nQ 3116 1113 3116 1747 \nz\n\" transform=\"scale(0.015625)\"/>\n      <path id=\"DejaVuSans-6c\" d=\"M 603 4863 \nL 1178 4863 \nL 1178 0 \nL 603 0 \nL 603 4863 \nz\n\" transform=\"scale(0.015625)\"/>\n     </defs>\n     <use xlink:href=\"#DejaVuSans-44\"/>\n     <use xlink:href=\"#DejaVuSans-61\" x=\"77.001953\"/>\n     <use xlink:href=\"#DejaVuSans-74\" x=\"138.28125\"/>\n     <use xlink:href=\"#DejaVuSans-61\" x=\"177.490234\"/>\n     <use xlink:href=\"#DejaVuSans-73\" x=\"238.769531\"/>\n     <use xlink:href=\"#DejaVuSans-65\" x=\"290.869141\"/>\n     <use xlink:href=\"#DejaVuSans-74\" x=\"352.392578\"/>\n     <use xlink:href=\"#DejaVuSans-20\" x=\"391.601562\"/>\n     <use xlink:href=\"#DejaVuSans-73\" x=\"423.388672\"/>\n     <use xlink:href=\"#DejaVuSans-61\" x=\"475.488281\"/>\n     <use xlink:href=\"#DejaVuSans-6d\" x=\"536.767578\"/>\n     <use xlink:href=\"#DejaVuSans-70\" x=\"634.179688\"/>\n     <use xlink:href=\"#DejaVuSans-6c\" x=\"697.65625\"/>\n     <use xlink:href=\"#DejaVuSans-65\" x=\"725.439453\"/>\n     <use xlink:href=\"#DejaVuSans-73\" x=\"786.962891\"/>\n    </g>\n   </g>\n   <g id=\"legend_1\">\n    <g id=\"patch_7\">\n     <path d=\"M 199.891562 150.994063 \nL 274.524844 150.994063 \nQ 276.724844 150.994063 276.724844 148.794063 \nL 276.724844 117.602188 \nQ 276.724844 115.402188 274.524844 115.402188 \nL 199.891562 115.402188 \nQ 197.691562 115.402188 197.691562 117.602188 \nL 197.691562 148.794063 \nQ 197.691562 150.994063 199.891562 150.994063 \nz\n\" style=\"fill: #eaeaf2; opacity: 0.8; stroke: #cccccc; stroke-linejoin: miter\"/>\n    </g>\n    <g id=\"PathCollection_3\">\n     <g>\n      <use xlink:href=\"#mc203100a9f\" x=\"213.091562\" y=\"125.272969\" style=\"fill: #4c72b0; stroke: #333333\"/>\n     </g>\n    </g>\n    <g id=\"text_15\">\n     <!-- Class 0 -->\n     <g style=\"fill: #262626\" transform=\"translate(232.891562 128.160469) scale(0.11 -0.11)\">\n      <defs>\n       <path id=\"DejaVuSans-43\" d=\"M 4122 4306 \nL 4122 3641 \nQ 3803 3938 3442 4084 \nQ 3081 4231 2675 4231 \nQ 1875 4231 1450 3742 \nQ 1025 3253 1025 2328 \nQ 1025 1406 1450 917 \nQ 1875 428 2675 428 \nQ 3081 428 3442 575 \nQ 3803 722 4122 1019 \nL 4122 359 \nQ 3791 134 3420 21 \nQ 3050 -91 2638 -91 \nQ 1578 -91 968 557 \nQ 359 1206 359 2328 \nQ 359 3453 968 4101 \nQ 1578 4750 2638 4750 \nQ 3056 4750 3426 4639 \nQ 3797 4528 4122 4306 \nz\n\" transform=\"scale(0.015625)\"/>\n      </defs>\n      <use xlink:href=\"#DejaVuSans-43\"/>\n      <use xlink:href=\"#DejaVuSans-6c\" x=\"69.824219\"/>\n      <use xlink:href=\"#DejaVuSans-61\" x=\"97.607422\"/>\n      <use xlink:href=\"#DejaVuSans-73\" x=\"158.886719\"/>\n      <use xlink:href=\"#DejaVuSans-73\" x=\"210.986328\"/>\n      <use xlink:href=\"#DejaVuSans-20\" x=\"263.085938\"/>\n      <use xlink:href=\"#DejaVuSans-30\" x=\"294.873047\"/>\n     </g>\n    </g>\n    <g id=\"PathCollection_4\">\n     <g>\n      <use xlink:href=\"#m3d4f3db97c\" x=\"213.091562\" y=\"141.418906\" style=\"fill: #dd8452; stroke: #333333\"/>\n     </g>\n    </g>\n    <g id=\"text_16\">\n     <!-- Class 1 -->\n     <g style=\"fill: #262626\" transform=\"translate(232.891562 144.306406) scale(0.11 -0.11)\">\n      <use xlink:href=\"#DejaVuSans-43\"/>\n      <use xlink:href=\"#DejaVuSans-6c\" x=\"69.824219\"/>\n      <use xlink:href=\"#DejaVuSans-61\" x=\"97.607422\"/>\n      <use xlink:href=\"#DejaVuSans-73\" x=\"158.886719\"/>\n      <use xlink:href=\"#DejaVuSans-73\" x=\"210.986328\"/>\n      <use xlink:href=\"#DejaVuSans-20\" x=\"263.085938\"/>\n      <use xlink:href=\"#DejaVuSans-31\" x=\"294.873047\"/>\n     </g>\n    </g>\n   </g>\n  </g>\n </g>\n <defs>\n  <clipPath id=\"p2f6ce2ec28\">\n   <rect x=\"59.024844\" y=\"22.318125\" width=\"223.2\" height=\"221.76\"/>\n  </clipPath>\n </defs>\n</svg>\n",
      "text/plain": [
       "<Figure size 400x400 with 1 Axes>"
      ]
     },
     "metadata": {},
     "output_type": "display_data"
    }
   ],
   "source": [
    "visualize_samples(dataset.data, dataset.label)\n",
    "plt.show()"
   ]
  },
  {
   "cell_type": "markdown",
   "id": "dcc14f55",
   "metadata": {},
   "source": [
    "#### The data loader class\n",
    "\n",
    "The class `torch.utils.data.DataLoader` represents a Python iterable over a dataset with support for automatic batching, multi-process data loading and many more features. The data loader communicates with the dataset using the function `__getitem__`, and stacks its outputs as tensors over the first dimension to form a batch.\n",
    "In contrast to the dataset class, we usually don't have to define our own data loader class, but can just create an object of it with the dataset as input. Additionally, we can configure our data loader with the following input arguments (only a selection, see full list [here](https://pytorch.org/docs/stable/data.html#torch.utils.data.DataLoader)):\n",
    "\n",
    "* `batch_size`: Number of samples to stack per batch\n",
    "* `shuffle`: If True, the data is returned in a random order. This is important during training for introducing stochasticity. \n",
    "* `num_workers`: Number of subprocesses to use for data loading. The default, 0, means that the data will be loaded in the main process which can slow down training for datasets where loading a data point takes a considerable amount of time (e.g. large images). More workers are recommended for those, but can cause issues on Windows computers. For tiny datasets as ours, 0 workers are usually faster.\n",
    "* `persistent_workers`: If True, workers will not be shutdown after an iteration over the dataset has finished. This can be useful if the time per epoch is small, or if you face issues with workers being killed during training. \n",
    "* `drop_last`: If True, the last batch is dropped in case it is smaller than the specified batch size. This occurs when the dataset size is not a multiple of the batch size. Only potentially helpful during training to keep a consistent batch size.\n",
    "* `collate_fn`: A function that defines how the elements per batch are combined. By default, PyTorch stacks them as PyTorch tensors. For JAX, we will change it to NumPy arrays.\n",
    "\n",
    "Let's create a simple data loader below with a function that stacks batch elements as NumPy array instead of PyTorch Tensors:"
   ]
  },
  {
   "cell_type": "code",
   "execution_count": 42,
   "id": "73a2f9ae",
   "metadata": {},
   "outputs": [],
   "source": [
    "# This collate function is taken from the JAX tutorial with PyTorch Data Loading\n",
    "# https://jax.readthedocs.io/en/latest/notebooks/Neural_Network_and_Data_Loading.html\n",
    "def numpy_collate(batch):\n",
    "    if isinstance(batch[0], np.ndarray):\n",
    "        return np.stack(batch)\n",
    "    elif isinstance(batch[0], (tuple, list)):\n",
    "        transposed = zip(*batch)\n",
    "        return [numpy_collate(samples) for samples in transposed]\n",
    "    else:\n",
    "        return np.array(batch)\n",
    "\n",
    "\n",
    "data_loader = data.DataLoader(\n",
    "    dataset, batch_size=8, shuffle=True, collate_fn=numpy_collate\n",
    ")"
   ]
  },
  {
   "cell_type": "code",
   "execution_count": 43,
   "id": "05c00219",
   "metadata": {},
   "outputs": [
    {
     "name": "stdout",
     "output_type": "stream",
     "text": [
      "Data inputs (8, 2) \n",
      " [[ 0.95250547  0.93466705]\n",
      " [ 0.92408675  1.0150393 ]\n",
      " [ 0.7876104   0.9474245 ]\n",
      " [ 1.097512   -0.01470574]\n",
      " [-0.02176812  1.1098777 ]\n",
      " [ 1.0371146   0.9396015 ]\n",
      " [-0.10372461 -0.01903387]\n",
      " [ 1.0504987   1.0865755 ]]\n",
      "Data labels (8,) \n",
      " [0 0 0 1 1 0 0 0]\n"
     ]
    }
   ],
   "source": [
    "# next(iter(...)) catches the first batch of the data loader\n",
    "# If shuffle is True, this will return a different batch every time we run this cell\n",
    "# For iterating over the whole dataset, we can simple use \"for batch in data_loader: ...\"\n",
    "data_inputs, data_labels = next(iter(data_loader))\n",
    "\n",
    "# The shape of the outputs are [batch_size, d_1,...,d_N] where d_1,...,d_N are the\n",
    "# dimensions of the data point returned from the dataset class\n",
    "print(\"Data inputs\", data_inputs.shape, \"\\n\", data_inputs)\n",
    "print(\"Data labels\", data_labels.shape, \"\\n\", data_labels)"
   ]
  },
  {
   "cell_type": "markdown",
   "id": "65a6c190",
   "metadata": {},
   "source": [
    "### Optimization\n",
    "\n",
    "After defining the model and the dataset, it is time to prepare the optimization of the model. During training, we will perform the following steps:\n",
    "\n",
    "1. Get a batch from the data loader\n",
    "2. Obtain the predictions from the model for the batch\n",
    "3. Calculate the loss based on the difference between predictions and labels\n",
    "4. Backpropagation: calculate the gradients for every parameter with respect to the loss\n",
    "5. Update the parameters of the model in the direction of the gradients\n",
    "\n",
    "We have seen how we can do step 1, 2 and 4 in JAX and Flax. Now, we will look at step 3 and 5."
   ]
  },
  {
   "cell_type": "markdown",
   "id": "6f70ea1c",
   "metadata": {},
   "source": [
    "#### Stochastic Gradient Descent\n",
    "\n",
    "For updating the parameters, Flax does not directly provide support for optimizers, but instead refers to another package called `optax` ([documentation](https://optax.readthedocs.io/en/latest/index.html)). Optax is an optimization library for JAX, which offers most common deep learning optimizers (SGD, Adam, Adagrad, RMSProp, etc.) and utilities (gradient clipping, weight decay, etc.)."
   ]
  },
  {
   "cell_type": "code",
   "execution_count": 44,
   "id": "b8706e3f",
   "metadata": {},
   "outputs": [],
   "source": [
    "try:\n",
    "    import optax\n",
    "except ModuleNotFoundError:  # Install optax if missing\n",
    "    !pip install --quiet optax\n",
    "    import optax"
   ]
  },
  {
   "cell_type": "markdown",
   "id": "12cac2ef",
   "metadata": {},
   "source": [
    "For now, we will use the simplest optimizer, namely `optax.sgd`. Stochastic Gradient Descent updates parameters by multiplying the gradients with a small constant, called learning rate, and subtracting those from the parameters (hence minimizing the loss). Therefore, we slowly move towards the direction of minimizing the loss. A good default value of the learning rate for a small network as ours is 0.1. Remember that we again aim to write functional code. Hence, the optimizer does not take as input the parameters, but only the optimizer hyperparameters."
   ]
  },
  {
   "cell_type": "code",
   "execution_count": 45,
   "id": "d9cf2212",
   "metadata": {},
   "outputs": [],
   "source": [
    "# Input to the optimizer are optimizer settings like learning rate\n",
    "optimizer = optax.sgd(learning_rate=0.1)"
   ]
  },
  {
   "cell_type": "markdown",
   "id": "9a7a01f3",
   "metadata": {},
   "source": [
    "Since JAX calculates gradients via function transformations, we do not have functions like `backward()`, `optimizer.step()` or `optimizer.backward()` as in PyTorch. Instead, a optimizer is a function on the parameters and gradients. To simplify this step and bundle important parts of the training procedure, Flax offers the `flax.training` package. As a first step, we can create a `TrainState` which bundles the parameters, the optimizer, and the forward step of the model:"
   ]
  },
  {
   "cell_type": "code",
   "execution_count": 46,
   "id": "40aecbc6",
   "metadata": {},
   "outputs": [],
   "source": [
    "from flax.training import train_state\n",
    "\n",
    "model_state = train_state.TrainState.create(\n",
    "    apply_fn=model.apply, params=params, tx=optimizer\n",
    ")"
   ]
  },
  {
   "cell_type": "markdown",
   "id": "1c303b3a",
   "metadata": {},
   "source": [
    "With this state object, it is easier to handle the training."
   ]
  },
  {
   "cell_type": "markdown",
   "id": "83850de5",
   "metadata": {},
   "source": [
    "#### Loss function\n",
    "\n",
    "For performing gradient updates, we need a function that can calculate the loss for a batch. Afterwards, we can apply JAX's gradient transformation to obtain a gradient function of it. In our setting, which is binary classification, we can use Binary Cross Entropy (BCE) which is defined as follows:\n",
    "\n",
    "$$\\mathcal{L}_{BCE} = -\\sum_i \\left[ y_i \\log x_i + (1 - y_i) \\log (1 - x_i) \\right]$$\n",
    "\n",
    "where $y$ are our labels, and $x$ our predictions, both in the range of $[0,1]$. Similar to PyTorch, Optax already provides a function for this: `optax.sigmoid_binary_cross_entropy(logits, labels)`. We calculate the loss on the logits instead of the sigmoid outputs for numerical stability. Let's write a function that takes as input a state (for the forward function), parameters, and a batch, and return the binary cross entropy loss and accuracy: "
   ]
  },
  {
   "cell_type": "code",
   "execution_count": 47,
   "id": "609fb4b3",
   "metadata": {},
   "outputs": [],
   "source": [
    "def calculate_loss_acc(state, params, batch):\n",
    "    data_input, labels = batch\n",
    "    # Obtain the logits and predictions of the model for the input data\n",
    "    logits = state.apply_fn(params, data_input).squeeze(axis=-1)\n",
    "    pred_labels = (logits > 0).astype(jnp.float32)\n",
    "    # Calculate the loss and accuracy\n",
    "    loss = optax.sigmoid_binary_cross_entropy(logits, labels).mean()\n",
    "    acc = (pred_labels == labels).mean()\n",
    "    return loss, acc"
   ]
  },
  {
   "cell_type": "markdown",
   "id": "4c47e776",
   "metadata": {},
   "source": [
    "Note that we explicitly add the parameters here as an input argument since we want to calculate the gradients with respect to them later. An example execution of the function would look like:"
   ]
  },
  {
   "cell_type": "code",
   "execution_count": 48,
   "id": "237b08e7",
   "metadata": {},
   "outputs": [
    {
     "data": {
      "text/plain": [
       "(Array(0.61504596, dtype=float32), Array(0.875, dtype=float32))"
      ]
     },
     "execution_count": 48,
     "metadata": {},
     "output_type": "execute_result"
    }
   ],
   "source": [
    "batch = next(iter(data_loader))\n",
    "calculate_loss_acc(model_state, model_state.params, batch)"
   ]
  },
  {
   "cell_type": "markdown",
   "id": "979978ba",
   "metadata": {},
   "source": [
    "### Creating an efficient training and validation step\n",
    "\n",
    "With this loss function and the optimizer, we are now ready to create an efficient training and validation/test step. First, let's consider the training. As input to each training step, we have a training state and a batch. We then want to calculate the loss for the input and take the gradients of it. Finally, we update the parameters with our optimizer and return the new state. All this can be summarized in the following function:"
   ]
  },
  {
   "cell_type": "code",
   "execution_count": 49,
   "id": "348a627f",
   "metadata": {},
   "outputs": [],
   "source": [
    "@jax.jit  # Jit the function for efficiency\n",
    "def train_step(state, batch):\n",
    "    # Gradient function\n",
    "    grad_fn = jax.value_and_grad(\n",
    "        calculate_loss_acc,  # Function to calculate the loss\n",
    "        argnums=1,  # Parameters are second argument of the function\n",
    "        has_aux=True,  # Function has additional outputs, here accuracy\n",
    "    )\n",
    "    # Determine gradients for current model, parameters and batch\n",
    "    (loss, acc), grads = grad_fn(state, state.params, batch)\n",
    "    # Perform parameter update with gradients and optimizer\n",
    "    state = state.apply_gradients(grads=grads)\n",
    "    # Return state and any other value we might want\n",
    "    return state, loss, acc"
   ]
  },
  {
   "cell_type": "markdown",
   "id": "37d8a0bb",
   "metadata": {},
   "source": [
    "By using the transformation `jax.jit`, the whole gradient calculation and application is optimized in XLA, providing an efficient function for updating the model.\n",
    "\n",
    "Next, let's look at the evaluation function. Here, we do not need to calculate gradients, but only want to get the accuracy of the model for the batch. This becomes a simpler version of the training step:"
   ]
  },
  {
   "cell_type": "code",
   "execution_count": 50,
   "id": "85205245",
   "metadata": {},
   "outputs": [],
   "source": [
    "@jax.jit  # Jit the function for efficiency\n",
    "def eval_step(state, batch):\n",
    "    # Determine the accuracy\n",
    "    _, acc = calculate_loss_acc(state, state.params, batch)\n",
    "    return acc"
   ]
  },
  {
   "cell_type": "markdown",
   "id": "4ebd224e",
   "metadata": {},
   "source": [
    "These two functions provide us now efficient utilities to train our model."
   ]
  },
  {
   "cell_type": "markdown",
   "id": "df0b91f6",
   "metadata": {},
   "source": [
    "### Training\n",
    "\n",
    "Finally, we are ready to train our model. As a first step, we create a slightly larger dataset and specify a data loader with a larger batch size. "
   ]
  },
  {
   "cell_type": "code",
   "execution_count": 51,
   "id": "ec924160",
   "metadata": {},
   "outputs": [],
   "source": [
    "train_dataset = XORDataset(size=2500, seed=42)\n",
    "train_data_loader = data.DataLoader(\n",
    "    train_dataset, batch_size=128, shuffle=True, collate_fn=numpy_collate\n",
    ")"
   ]
  },
  {
   "cell_type": "markdown",
   "id": "f074d1a0",
   "metadata": {},
   "source": [
    "Now, we can write a small training function. In contrast to PyTorch, we do not need to explicitly push our model to GPU, since the parameters are already automatically created on GPU. Further, since the model itself is stateless, we do not have a `train()` or `eval()` function to switch between modes of e.g. dropout. When necessary, we can add an argument `train : bool` to the model forward pass. For this simple network here, however, this is not necessary.\n",
    "\n",
    "Following the PyTorch tutorial, let's write a function here that trains a model for several epochs:"
   ]
  },
  {
   "cell_type": "code",
   "execution_count": 52,
   "id": "afdc0424",
   "metadata": {},
   "outputs": [],
   "source": [
    "def train_model(state, data_loader, num_epochs=100):\n",
    "    # Training loop\n",
    "    for epoch in tqdm(range(num_epochs)):\n",
    "        for batch in data_loader:\n",
    "            state, loss, acc = train_step(state, batch)\n",
    "            # We could use the loss and accuracy for logging here, e.g. in TensorBoard\n",
    "            # For simplicity, we skip this part here\n",
    "    return state"
   ]
  },
  {
   "cell_type": "code",
   "execution_count": 53,
   "id": "5eb65c92",
   "metadata": {},
   "outputs": [
    {
     "data": {
      "application/vnd.jupyter.widget-view+json": {
       "model_id": "b1e96b2fbbc342e5a65dba6e07f610e1",
       "version_major": 2,
       "version_minor": 0
      },
      "text/plain": [
       "  0%|          | 0/100 [00:00<?, ?it/s]"
      ]
     },
     "metadata": {},
     "output_type": "display_data"
    }
   ],
   "source": [
    "trained_model_state = train_model(model_state, train_data_loader, num_epochs=100)"
   ]
  },
  {
   "cell_type": "markdown",
   "id": "0dd18970",
   "metadata": {},
   "source": [
    "Training this model for 100 epochs does take barely a second... This shows the impressive speed JAX can reach, especially for small models!"
   ]
  },
  {
   "cell_type": "markdown",
   "id": "d93c37e6",
   "metadata": {},
   "source": [
    "#### Saving a model\n",
    "\n",
    "After we finished training a model, we save the model to disk so that we can load the same weights at a later time. In JAX, this means we want to save the `state.params` dictionary. Luckily, the `flax.training` package again provides us with nice utilities for that, which uses TensorFlow as underlying framework."
   ]
  },
  {
   "cell_type": "code",
   "execution_count": 54,
   "id": "dba666a2",
   "metadata": {},
   "outputs": [
    {
     "name": "stderr",
     "output_type": "stream",
     "text": [
      "WARNING:absl:Tensorflow library not found, tensorflow.io.gfile operations will use native shim calls. GCS paths (i.e. 'gs://...') cannot be accessed.\n"
     ]
    }
   ],
   "source": [
    "from flax.training import checkpoints\n",
    "from pathlib import Path"
   ]
  },
  {
   "cell_type": "markdown",
   "id": "1b83eab5",
   "metadata": {},
   "source": [
    "To save the whole model state, we can write:"
   ]
  },
  {
   "cell_type": "code",
   "execution_count": 55,
   "id": "a50e8ded",
   "metadata": {},
   "outputs": [
    {
     "data": {
      "text/plain": [
       "'statedicts/my_jax_model100'"
      ]
     },
     "execution_count": 55,
     "metadata": {},
     "output_type": "execute_result"
    }
   ],
   "source": [
    "# define where to save model checkpoints\n",
    "statedicts_folder = Path(\"statedicts\")\n",
    "\n",
    "# create statedicts folder if it does not already exist\n",
    "statedicts_folder.mkdir(parents=True, exist_ok=True)\n",
    "\n",
    "checkpoints.save_checkpoint(\n",
    "    ckpt_dir=str(statedicts_folder),  # Folder to save checkpoint in\n",
    "    target=trained_model_state,  # What to save. To only save parameters, use model_state.params\n",
    "    step=100,  # Training step or other metric to save best model on\n",
    "    prefix=\"my_jax_model\",  # Checkpoint file name prefix\n",
    "    overwrite=True,  # Overwrite existing checkpoint files\n",
    ")"
   ]
  },
  {
   "cell_type": "markdown",
   "id": "ad255da8",
   "metadata": {},
   "source": [
    "To load this state dict again, we can use `checkpoints.restore_checkpoint`:"
   ]
  },
  {
   "cell_type": "code",
   "execution_count": 56,
   "id": "4254ffa7",
   "metadata": {},
   "outputs": [],
   "source": [
    "loaded_model_state = checkpoints.restore_checkpoint(\n",
    "    ckpt_dir=\"my_checkpoints/\",  # Folder with the checkpoints\n",
    "    target=model_state,  # (optional) matching object to rebuild state in\n",
    "    prefix=\"my_model\",  # Checkpoint file name prefix\n",
    ")"
   ]
  },
  {
   "cell_type": "markdown",
   "id": "20e4f27b",
   "metadata": {},
   "source": [
    "The states `loaded_model_state` and `trained_model_state` have the identical parameter values."
   ]
  },
  {
   "cell_type": "markdown",
   "id": "e7be32dc",
   "metadata": {},
   "source": [
    "### Evaluation\n",
    "\n",
    "Once we have trained a model, it is time to evaluate it on a held-out test set. As our dataset consist of randomly generated data points, we need to first create a test set with a corresponding data loader."
   ]
  },
  {
   "cell_type": "code",
   "execution_count": 57,
   "id": "9ef9eeca",
   "metadata": {},
   "outputs": [],
   "source": [
    "test_dataset = XORDataset(size=500, seed=123)\n",
    "# drop_last -> Don't drop the last batch although it is smaller than 128\n",
    "test_data_loader = data.DataLoader(\n",
    "    test_dataset,\n",
    "    batch_size=128,\n",
    "    shuffle=False,\n",
    "    drop_last=False,\n",
    "    collate_fn=numpy_collate,\n",
    ")"
   ]
  },
  {
   "cell_type": "markdown",
   "id": "c4310486",
   "metadata": {},
   "source": [
    "We can use our `eval_step` function to efficiently evaluate our model:"
   ]
  },
  {
   "cell_type": "code",
   "execution_count": 58,
   "id": "4e860561",
   "metadata": {},
   "outputs": [],
   "source": [
    "def eval_model(state, data_loader):\n",
    "    all_accs, batch_sizes = [], []\n",
    "    for batch in data_loader:\n",
    "        batch_acc = eval_step(state, batch)\n",
    "        all_accs.append(batch_acc)\n",
    "        batch_sizes.append(batch[0].shape[0])\n",
    "    # Weighted average since some batches might be smaller\n",
    "    acc = sum([a * b for a, b in zip(all_accs, batch_sizes)]) / sum(batch_sizes)\n",
    "    print(f\"Accuracy of the model: {100.0*acc:4.2f}%\")"
   ]
  },
  {
   "cell_type": "code",
   "execution_count": 59,
   "id": "cf27466c",
   "metadata": {},
   "outputs": [
    {
     "name": "stdout",
     "output_type": "stream",
     "text": [
      "Accuracy of the model: 100.00%\n"
     ]
    }
   ],
   "source": [
    "eval_model(trained_model_state, test_data_loader)"
   ]
  },
  {
   "cell_type": "markdown",
   "id": "277e4ff5",
   "metadata": {},
   "source": [
    "If we trained our model correctly, we should see a score close to 100% accuracy. However, this is only possible because of our simple task, and unfortunately, we usually don't get such high scores on test sets of more complex tasks."
   ]
  },
  {
   "cell_type": "markdown",
   "id": "279eeb39",
   "metadata": {},
   "source": [
    "#### Binding model parameters\n",
    "\n",
    "Once we have trained the model, we might want to do multiple application of the same model and parameters. It can get a bit annoying to always write `model.apply(params, ...)` and keep track of the model and parameters separately. To prevent this, Flax's module can be bound to specific parameters to simplify our application. Specifically, we can bind the instance `model` of our `SimpleClassifier` class to our trained parameter as follows:"
   ]
  },
  {
   "cell_type": "code",
   "execution_count": 60,
   "id": "e56bdbb2",
   "metadata": {},
   "outputs": [],
   "source": [
    "trained_model = model.bind(trained_model_state.params)"
   ]
  },
  {
   "cell_type": "markdown",
   "id": "3fab4544",
   "metadata": {},
   "source": [
    "With the model being binded to the parameters, we can use it as we would any PyTorch module. For instance, to apply it to an input array, we can simply run:"
   ]
  },
  {
   "cell_type": "code",
   "execution_count": 61,
   "id": "43470946",
   "metadata": {},
   "outputs": [
    {
     "data": {
      "text/plain": [
       "(8, 1)"
      ]
     },
     "execution_count": 61,
     "metadata": {},
     "output_type": "execute_result"
    }
   ],
   "source": [
    "data_input, labels = next(iter(data_loader))\n",
    "out = trained_model(data_input)  # No explicit parameter passing necessary anymore\n",
    "out.shape"
   ]
  },
  {
   "cell_type": "markdown",
   "id": "0adebac4",
   "metadata": {},
   "source": [
    "This can simplify the analysis of models, and provide a more familiar interface to PyTorch users."
   ]
  },
  {
   "cell_type": "markdown",
   "id": "d9ae9f5a",
   "metadata": {},
   "source": [
    "#### Visualizing classification boundaries\n",
    "\n",
    "To visualize what our model has learned, we can perform a prediction for every data point in a range of $[-0.5, 1.5]$, and visualize the predicted class as in the sample figure at the beginning of this section. This shows where the model has created decision boundaries, and which points would be classified as $0$, and which as $1$. We therefore get a background image out of blue (class 0) and orange (class 1). The spots where the model is uncertain we will see a blurry overlap. The specific code is less relevant compared to the output figure which should hopefully show us a clear separation of classes:"
   ]
  },
  {
   "cell_type": "code",
   "execution_count": 62,
   "id": "3402ee4c",
   "metadata": {},
   "outputs": [
    {
     "data": {
      "application/pdf": "[encoded data removed]",
      "image/svg+xml": "<?xml version=\"1.0\" encoding=\"utf-8\" standalone=\"no\"?>\n<!DOCTYPE svg PUBLIC \"-//W3C//DTD SVG 1.1//EN\"\n  \"http://www.w3.org/Graphics/SVG/1.1/DTD/svg11.dtd\">\n<svg xmlns:xlink=\"http://www.w3.org/1999/xlink\" width=\"303.730313pt\" height=\"287.037813pt\" viewBox=\"0 0 303.730313 287.037813\" xmlns=\"http://www.w3.org/2000/svg\" version=\"1.1\">\n <metadata>\n  <rdf:RDF xmlns:dc=\"http://purl.org/dc/elements/1.1/\" xmlns:cc=\"http://creativecommons.org/ns#\" xmlns:rdf=\"http://www.w3.org/1999/02/22-rdf-syntax-ns#\">\n   <cc:Work>\n    <dc:type rdf:resource=\"http://purl.org/dc/dcmitype/StillImage\"/>\n    <dc:date>2023-03-23T14:51:54.475639</dc:date>\n    <dc:format>image/svg+xml</dc:format>\n    <dc:creator>\n     <cc:Agent>\n      <dc:title>Matplotlib v3.7.1, https://matplotlib.org/</dc:title>\n     </cc:Agent>\n    </dc:creator>\n   </cc:Work>\n  </rdf:RDF>\n </metadata>\n <defs>\n  <style type=\"text/css\">*{stroke-linejoin: round; stroke-linecap: butt}</style>\n </defs>\n <g id=\"figure_1\">\n  <g id=\"patch_1\">\n   <path d=\"M 0 287.037813 \nL 303.730313 287.037813 \nL 303.730313 0 \nL 0 0 \nz\n\" style=\"fill: #ffffff\"/>\n  </g>\n  <g id=\"axes_1\">\n   <g id=\"patch_2\">\n    <path d=\"M 66.023594 244.078125 \nL 287.783594 244.078125 \nL 287.783594 22.318125 \nL 66.023594 22.318125 \nz\n\" style=\"fill: #eaeaf2\"/>\n   </g>\n   <g clip-path=\"url(#p517613cb50)\">\n    <image xlink:href=\"data:image/png;base64,\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\" id=\"image558aca2d6c\" transform=\"scale(1 -1) translate(0 -221.904)\" x=\"66.023594\" y=\"-22.174125\" width=\"221.904\" height=\"221.904\"/>\n   </g>\n   <g id=\"matplotlib.axis_1\">\n    <g id=\"xtick_1\">\n     <g id=\"text_1\">\n      <!-- −0.5 -->\n      <g style=\"fill: #262626\" transform=\"translate(52.668047 261.936406) scale(0.11 -0.11)\">\n       <defs>\n        <path id=\"DejaVuSans-2212\" d=\"M 678 2272 \nL 4684 2272 \nL 4684 1741 \nL 678 1741 \nL 678 2272 \nz\n\" transform=\"scale(0.015625)\"/>\n        <path id=\"DejaVuSans-30\" d=\"M 2034 4250 \nQ 1547 4250 1301 3770 \nQ 1056 3291 1056 2328 \nQ 1056 1369 1301 889 \nQ 1547 409 2034 409 \nQ 2525 409 2770 889 \nQ 3016 1369 3016 2328 \nQ 3016 3291 2770 3770 \nQ 2525 4250 2034 4250 \nz\nM 2034 4750 \nQ 2819 4750 3233 4129 \nQ 3647 3509 3647 2328 \nQ 3647 1150 3233 529 \nQ 2819 -91 2034 -91 \nQ 1250 -91 836 529 \nQ 422 1150 422 2328 \nQ 422 3509 836 4129 \nQ 1250 4750 2034 4750 \nz\n\" transform=\"scale(0.015625)\"/>\n        <path id=\"DejaVuSans-2e\" d=\"M 684 794 \nL 1344 794 \nL 1344 0 \nL 684 0 \nL 684 794 \nz\n\" transform=\"scale(0.015625)\"/>\n        <path id=\"DejaVuSans-35\" d=\"M 691 4666 \nL 3169 4666 \nL 3169 4134 \nL 1269 4134 \nL 1269 2991 \nQ 1406 3038 1543 3061 \nQ 1681 3084 1819 3084 \nQ 2600 3084 3056 2656 \nQ 3513 2228 3513 1497 \nQ 3513 744 3044 326 \nQ 2575 -91 1722 -91 \nQ 1428 -91 1123 -41 \nQ 819 9 494 109 \nL 494 744 \nQ 775 591 1075 516 \nQ 1375 441 1709 441 \nQ 2250 441 2565 725 \nQ 2881 1009 2881 1497 \nQ 2881 1984 2565 2268 \nQ 2250 2553 1709 2553 \nQ 1456 2553 1204 2497 \nQ 953 2441 691 2322 \nL 691 4666 \nz\n\" transform=\"scale(0.015625)\"/>\n       </defs>\n       <use xlink:href=\"#DejaVuSans-2212\"/>\n       <use xlink:href=\"#DejaVuSans-30\" x=\"83.789062\"/>\n       <use xlink:href=\"#DejaVuSans-2e\" x=\"147.412109\"/>\n       <use xlink:href=\"#DejaVuSans-35\" x=\"179.199219\"/>\n      </g>\n     </g>\n    </g>\n    <g id=\"xtick_2\">\n     <g id=\"text_2\">\n      <!-- 0.0 -->\n      <g style=\"fill: #262626\" transform=\"translate(112.716875 261.936406) scale(0.11 -0.11)\">\n       <use xlink:href=\"#DejaVuSans-30\"/>\n       <use xlink:href=\"#DejaVuSans-2e\" x=\"63.623047\"/>\n       <use xlink:href=\"#DejaVuSans-30\" x=\"95.410156\"/>\n      </g>\n     </g>\n    </g>\n    <g id=\"xtick_3\">\n     <g id=\"text_3\">\n      <!-- 0.5 -->\n      <g style=\"fill: #262626\" transform=\"translate(168.156875 261.936406) scale(0.11 -0.11)\">\n       <use xlink:href=\"#DejaVuSans-30\"/>\n       <use xlink:href=\"#DejaVuSans-2e\" x=\"63.623047\"/>\n       <use xlink:href=\"#DejaVuSans-35\" x=\"95.410156\"/>\n      </g>\n     </g>\n    </g>\n    <g id=\"xtick_4\">\n     <g id=\"text_4\">\n      <!-- 1.0 -->\n      <g style=\"fill: #262626\" transform=\"translate(223.596875 261.936406) scale(0.11 -0.11)\">\n       <defs>\n        <path id=\"DejaVuSans-31\" d=\"M 794 531 \nL 1825 531 \nL 1825 4091 \nL 703 3866 \nL 703 4441 \nL 1819 4666 \nL 2450 4666 \nL 2450 531 \nL 3481 531 \nL 3481 0 \nL 794 0 \nL 794 531 \nz\n\" transform=\"scale(0.015625)\"/>\n       </defs>\n       <use xlink:href=\"#DejaVuSans-31\"/>\n       <use xlink:href=\"#DejaVuSans-2e\" x=\"63.623047\"/>\n       <use xlink:href=\"#DejaVuSans-30\" x=\"95.410156\"/>\n      </g>\n     </g>\n    </g>\n    <g id=\"xtick_5\">\n     <g id=\"text_5\">\n      <!-- 1.5 -->\n      <g style=\"fill: #262626\" transform=\"translate(279.036875 261.936406) scale(0.11 -0.11)\">\n       <use xlink:href=\"#DejaVuSans-31\"/>\n       <use xlink:href=\"#DejaVuSans-2e\" x=\"63.623047\"/>\n       <use xlink:href=\"#DejaVuSans-35\" x=\"95.410156\"/>\n      </g>\n     </g>\n    </g>\n    <g id=\"text_6\">\n     <!-- $x_1$ -->\n     <g style=\"fill: #262626\" transform=\"translate(170.483594 277.342188) scale(0.12 -0.12)\">\n      <defs>\n       <path id=\"DejaVuSans-Oblique-78\" d=\"M 3841 3500 \nL 2234 1784 \nL 3219 0 \nL 2559 0 \nL 1819 1388 \nL 531 0 \nL -166 0 \nL 1556 1844 \nL 641 3500 \nL 1300 3500 \nL 1972 2234 \nL 3144 3500 \nL 3841 3500 \nz\n\" transform=\"scale(0.015625)\"/>\n      </defs>\n      <use xlink:href=\"#DejaVuSans-Oblique-78\" transform=\"translate(0 0.3125)\"/>\n      <use xlink:href=\"#DejaVuSans-31\" transform=\"translate(59.179688 -16.09375) scale(0.7)\"/>\n     </g>\n    </g>\n   </g>\n   <g id=\"matplotlib.axis_2\">\n    <g id=\"ytick_1\">\n     <g id=\"text_7\">\n      <!-- −0.50 -->\n      <g style=\"fill: #262626\" transform=\"translate(22.81375 248.257266) scale(0.11 -0.11)\">\n       <use xlink:href=\"#DejaVuSans-2212\"/>\n       <use xlink:href=\"#DejaVuSans-30\" x=\"83.789062\"/>\n       <use xlink:href=\"#DejaVuSans-2e\" x=\"147.412109\"/>\n       <use xlink:href=\"#DejaVuSans-35\" x=\"179.199219\"/>\n       <use xlink:href=\"#DejaVuSans-30\" x=\"242.822266\"/>\n      </g>\n     </g>\n    </g>\n    <g id=\"ytick_2\">\n     <g id=\"text_8\">\n      <!-- −0.25 -->\n      <g style=\"fill: #262626\" transform=\"translate(22.81375 220.537266) scale(0.11 -0.11)\">\n       <defs>\n        <path id=\"DejaVuSans-32\" d=\"M 1228 531 \nL 3431 531 \nL 3431 0 \nL 469 0 \nL 469 531 \nQ 828 903 1448 1529 \nQ 2069 2156 2228 2338 \nQ 2531 2678 2651 2914 \nQ 2772 3150 2772 3378 \nQ 2772 3750 2511 3984 \nQ 2250 4219 1831 4219 \nQ 1534 4219 1204 4116 \nQ 875 4013 500 3803 \nL 500 4441 \nQ 881 4594 1212 4672 \nQ 1544 4750 1819 4750 \nQ 2544 4750 2975 4387 \nQ 3406 4025 3406 3419 \nQ 3406 3131 3298 2873 \nQ 3191 2616 2906 2266 \nQ 2828 2175 2409 1742 \nQ 1991 1309 1228 531 \nz\n\" transform=\"scale(0.015625)\"/>\n       </defs>\n       <use xlink:href=\"#DejaVuSans-2212\"/>\n       <use xlink:href=\"#DejaVuSans-30\" x=\"83.789062\"/>\n       <use xlink:href=\"#DejaVuSans-2e\" x=\"147.412109\"/>\n       <use xlink:href=\"#DejaVuSans-32\" x=\"179.199219\"/>\n       <use xlink:href=\"#DejaVuSans-35\" x=\"242.822266\"/>\n      </g>\n     </g>\n    </g>\n    <g id=\"ytick_3\">\n     <g id=\"text_9\">\n      <!-- 0.00 -->\n      <g style=\"fill: #262626\" transform=\"translate(32.031406 192.817266) scale(0.11 -0.11)\">\n       <use xlink:href=\"#DejaVuSans-30\"/>\n       <use xlink:href=\"#DejaVuSans-2e\" x=\"63.623047\"/>\n       <use xlink:href=\"#DejaVuSans-30\" x=\"95.410156\"/>\n       <use xlink:href=\"#DejaVuSans-30\" x=\"159.033203\"/>\n      </g>\n     </g>\n    </g>\n    <g id=\"ytick_4\">\n     <g id=\"text_10\">\n      <!-- 0.25 -->\n      <g style=\"fill: #262626\" transform=\"translate(32.031406 165.097266) scale(0.11 -0.11)\">\n       <use xlink:href=\"#DejaVuSans-30\"/>\n       <use xlink:href=\"#DejaVuSans-2e\" x=\"63.623047\"/>\n       <use xlink:href=\"#DejaVuSans-32\" x=\"95.410156\"/>\n       <use xlink:href=\"#DejaVuSans-35\" x=\"159.033203\"/>\n      </g>\n     </g>\n    </g>\n    <g id=\"ytick_5\">\n     <g id=\"text_11\">\n      <!-- 0.50 -->\n      <g style=\"fill: #262626\" transform=\"translate(32.031406 137.377266) scale(0.11 -0.11)\">\n       <use xlink:href=\"#DejaVuSans-30\"/>\n       <use xlink:href=\"#DejaVuSans-2e\" x=\"63.623047\"/>\n       <use xlink:href=\"#DejaVuSans-35\" x=\"95.410156\"/>\n       <use xlink:href=\"#DejaVuSans-30\" x=\"159.033203\"/>\n      </g>\n     </g>\n    </g>\n    <g id=\"ytick_6\">\n     <g id=\"text_12\">\n      <!-- 0.75 -->\n      <g style=\"fill: #262626\" transform=\"translate(32.031406 109.657266) scale(0.11 -0.11)\">\n       <defs>\n        <path id=\"DejaVuSans-37\" d=\"M 525 4666 \nL 3525 4666 \nL 3525 4397 \nL 1831 0 \nL 1172 0 \nL 2766 4134 \nL 525 4134 \nL 525 4666 \nz\n\" transform=\"scale(0.015625)\"/>\n       </defs>\n       <use xlink:href=\"#DejaVuSans-30\"/>\n       <use xlink:href=\"#DejaVuSans-2e\" x=\"63.623047\"/>\n       <use xlink:href=\"#DejaVuSans-37\" x=\"95.410156\"/>\n       <use xlink:href=\"#DejaVuSans-35\" x=\"159.033203\"/>\n      </g>\n     </g>\n    </g>\n    <g id=\"ytick_7\">\n     <g id=\"text_13\">\n      <!-- 1.00 -->\n      <g style=\"fill: #262626\" transform=\"translate(32.031406 81.937266) scale(0.11 -0.11)\">\n       <use xlink:href=\"#DejaVuSans-31\"/>\n       <use xlink:href=\"#DejaVuSans-2e\" x=\"63.623047\"/>\n       <use xlink:href=\"#DejaVuSans-30\" x=\"95.410156\"/>\n       <use xlink:href=\"#DejaVuSans-30\" x=\"159.033203\"/>\n      </g>\n     </g>\n    </g>\n    <g id=\"ytick_8\">\n     <g id=\"text_14\">\n      <!-- 1.25 -->\n      <g style=\"fill: #262626\" transform=\"translate(32.031406 54.217266) scale(0.11 -0.11)\">\n       <use xlink:href=\"#DejaVuSans-31\"/>\n       <use xlink:href=\"#DejaVuSans-2e\" x=\"63.623047\"/>\n       <use xlink:href=\"#DejaVuSans-32\" x=\"95.410156\"/>\n       <use xlink:href=\"#DejaVuSans-35\" x=\"159.033203\"/>\n      </g>\n     </g>\n    </g>\n    <g id=\"ytick_9\">\n     <g id=\"text_15\">\n      <!-- 1.50 -->\n      <g style=\"fill: #262626\" transform=\"translate(32.031406 26.497266) scale(0.11 -0.11)\">\n       <use xlink:href=\"#DejaVuSans-31\"/>\n       <use xlink:href=\"#DejaVuSans-2e\" x=\"63.623047\"/>\n       <use xlink:href=\"#DejaVuSans-35\" x=\"95.410156\"/>\n       <use xlink:href=\"#DejaVuSans-30\" x=\"159.033203\"/>\n      </g>\n     </g>\n    </g>\n    <g id=\"text_16\">\n     <!-- $x_2$ -->\n     <g style=\"fill: #262626\" transform=\"translate(16.318125 139.618125) rotate(-90) scale(0.12 -0.12)\">\n      <use xlink:href=\"#DejaVuSans-Oblique-78\" transform=\"translate(0 0.3125)\"/>\n      <use xlink:href=\"#DejaVuSans-32\" transform=\"translate(59.179688 -16.09375) scale(0.7)\"/>\n     </g>\n    </g>\n   </g>\n   <g id=\"PathCollection_1\">\n    <defs>\n     <path id=\"ma9584aa292\" d=\"M 0 3 \nC 0.795609 3 1.55874 2.683901 2.12132 2.12132 \nC 2.683901 1.55874 3 0.795609 3 0 \nC 3 -0.795609 2.683901 -1.55874 2.12132 -2.12132 \nC 1.55874 -2.683901 0.795609 -3 0 -3 \nC -0.795609 -3 -1.55874 -2.683901 -2.12132 -2.12132 \nC -2.683901 -1.55874 -3 -0.795609 -3 0 \nC -3 0.795609 -2.683901 1.55874 -2.12132 2.12132 \nC -1.55874 2.683901 -0.795609 3 0 3 \nz\n\" style=\"stroke: #333333\"/>\n    </defs>\n    <g clip-path=\"url(#p517613cb50)\">\n     <use xlink:href=\"#ma9584aa292\" x=\"124.713181\" y=\"196.558853\" style=\"fill: #4c72b0; stroke: #333333\"/>\n     <use xlink:href=\"#ma9584aa292\" x=\"108.25442\" y=\"181.358259\" style=\"fill: #4c72b0; stroke: #333333\"/>\n     <use xlink:href=\"#ma9584aa292\" x=\"134.310102\" y=\"197.737851\" style=\"fill: #4c72b0; stroke: #333333\"/>\n     <use xlink:href=\"#ma9584aa292\" x=\"132.145509\" y=\"184.06121\" style=\"fill: #4c72b0; stroke: #333333\"/>\n     <use xlink:href=\"#ma9584aa292\" x=\"229.62273\" y=\"86.115549\" style=\"fill: #4c72b0; stroke: #333333\"/>\n     <use xlink:href=\"#ma9584aa292\" x=\"235.41154\" y=\"68.586312\" style=\"fill: #4c72b0; stroke: #333333\"/>\n     <use xlink:href=\"#ma9584aa292\" x=\"232.487762\" y=\"61.641336\" style=\"fill: #4c72b0; stroke: #333333\"/>\n     <use xlink:href=\"#ma9584aa292\" x=\"229.409082\" y=\"47.596893\" style=\"fill: #4c72b0; stroke: #333333\"/>\n     <use xlink:href=\"#ma9584aa292\" x=\"239.280996\" y=\"87.26229\" style=\"fill: #4c72b0; stroke: #333333\"/>\n     <use xlink:href=\"#ma9584aa292\" x=\"109.589538\" y=\"183.288471\" style=\"fill: #4c72b0; stroke: #333333\"/>\n     <use xlink:href=\"#ma9584aa292\" x=\"229.865841\" y=\"69.841288\" style=\"fill: #4c72b0; stroke: #333333\"/>\n     <use xlink:href=\"#ma9584aa292\" x=\"116.512636\" y=\"179.142375\" style=\"fill: #4c72b0; stroke: #333333\"/>\n     <use xlink:href=\"#ma9584aa292\" x=\"123.837465\" y=\"202.450877\" style=\"fill: #4c72b0; stroke: #333333\"/>\n     <use xlink:href=\"#ma9584aa292\" x=\"234.263828\" y=\"73.485721\" style=\"fill: #4c72b0; stroke: #333333\"/>\n     <use xlink:href=\"#ma9584aa292\" x=\"222.543381\" y=\"76.053621\" style=\"fill: #4c72b0; stroke: #333333\"/>\n     <use xlink:href=\"#ma9584aa292\" x=\"236.310743\" y=\"71.540148\" style=\"fill: #4c72b0; stroke: #333333\"/>\n     <use xlink:href=\"#ma9584aa292\" x=\"127.793628\" y=\"176.046973\" style=\"fill: #4c72b0; stroke: #333333\"/>\n     <use xlink:href=\"#ma9584aa292\" x=\"132.041565\" y=\"181.415499\" style=\"fill: #4c72b0; stroke: #333333\"/>\n     <use xlink:href=\"#ma9584aa292\" x=\"117.967889\" y=\"180.222675\" style=\"fill: #4c72b0; stroke: #333333\"/>\n     <use xlink:href=\"#ma9584aa292\" x=\"258.008523\" y=\"98.46236\" style=\"fill: #4c72b0; stroke: #333333\"/>\n     <use xlink:href=\"#ma9584aa292\" x=\"239.95285\" y=\"95.639917\" style=\"fill: #4c72b0; stroke: #333333\"/>\n     <use xlink:href=\"#ma9584aa292\" x=\"224.412309\" y=\"70.222744\" style=\"fill: #4c72b0; stroke: #333333\"/>\n     <use xlink:href=\"#ma9584aa292\" x=\"99.008812\" y=\"186.57072\" style=\"fill: #4c72b0; stroke: #333333\"/>\n     <use xlink:href=\"#ma9584aa292\" x=\"223.556125\" y=\"79.030324\" style=\"fill: #4c72b0; stroke: #333333\"/>\n     <use xlink:href=\"#ma9584aa292\" x=\"237.942892\" y=\"68.158633\" style=\"fill: #4c72b0; stroke: #333333\"/>\n     <use xlink:href=\"#ma9584aa292\" x=\"219.034709\" y=\"81.467075\" style=\"fill: #4c72b0; stroke: #333333\"/>\n     <use xlink:href=\"#ma9584aa292\" x=\"227.0774\" y=\"85.002242\" style=\"fill: #4c72b0; stroke: #333333\"/>\n     <use xlink:href=\"#ma9584aa292\" x=\"251.918946\" y=\"73.267692\" style=\"fill: #4c72b0; stroke: #333333\"/>\n     <use xlink:href=\"#ma9584aa292\" x=\"215.496818\" y=\"83.127313\" style=\"fill: #4c72b0; stroke: #333333\"/>\n     <use xlink:href=\"#ma9584aa292\" x=\"246.391103\" y=\"85.604762\" style=\"fill: #4c72b0; stroke: #333333\"/>\n     <use xlink:href=\"#ma9584aa292\" x=\"237.264667\" y=\"69.168984\" style=\"fill: #4c72b0; stroke: #333333\"/>\n     <use xlink:href=\"#ma9584aa292\" x=\"229.543118\" y=\"91.593546\" style=\"fill: #4c72b0; stroke: #333333\"/>\n     <use xlink:href=\"#ma9584aa292\" x=\"233.602271\" y=\"70.416426\" style=\"fill: #4c72b0; stroke: #333333\"/>\n     <use xlink:href=\"#ma9584aa292\" x=\"145.114668\" y=\"210.282874\" style=\"fill: #4c72b0; stroke: #333333\"/>\n     <use xlink:href=\"#ma9584aa292\" x=\"119.780601\" y=\"182.114864\" style=\"fill: #4c72b0; stroke: #333333\"/>\n     <use xlink:href=\"#ma9584aa292\" x=\"124.579232\" y=\"195.542617\" style=\"fill: #4c72b0; stroke: #333333\"/>\n     <use xlink:href=\"#ma9584aa292\" x=\"119.155934\" y=\"194.104519\" style=\"fill: #4c72b0; stroke: #333333\"/>\n     <use xlink:href=\"#ma9584aa292\" x=\"236.302178\" y=\"85.441104\" style=\"fill: #4c72b0; stroke: #333333\"/>\n     <use xlink:href=\"#ma9584aa292\" x=\"130.476609\" y=\"181.656801\" style=\"fill: #4c72b0; stroke: #333333\"/>\n     <use xlink:href=\"#ma9584aa292\" x=\"129.749585\" y=\"181.87034\" style=\"fill: #4c72b0; stroke: #333333\"/>\n     <use xlink:href=\"#ma9584aa292\" x=\"121.231837\" y=\"187.337199\" style=\"fill: #4c72b0; stroke: #333333\"/>\n     <use xlink:href=\"#ma9584aa292\" x=\"130.61581\" y=\"179.61793\" style=\"fill: #4c72b0; stroke: #333333\"/>\n     <use xlink:href=\"#ma9584aa292\" x=\"246.818743\" y=\"77.525238\" style=\"fill: #4c72b0; stroke: #333333\"/>\n     <use xlink:href=\"#ma9584aa292\" x=\"245.18473\" y=\"68.980166\" style=\"fill: #4c72b0; stroke: #333333\"/>\n     <use xlink:href=\"#ma9584aa292\" x=\"128.383834\" y=\"181.67103\" style=\"fill: #4c72b0; stroke: #333333\"/>\n     <use xlink:href=\"#ma9584aa292\" x=\"121.327802\" y=\"198.586881\" style=\"fill: #4c72b0; stroke: #333333\"/>\n     <use xlink:href=\"#ma9584aa292\" x=\"122.304115\" y=\"196.146494\" style=\"fill: #4c72b0; stroke: #333333\"/>\n     <use xlink:href=\"#ma9584aa292\" x=\"112.310481\" y=\"192.201651\" style=\"fill: #4c72b0; stroke: #333333\"/>\n     <use xlink:href=\"#ma9584aa292\" x=\"124.179783\" y=\"194.259111\" style=\"fill: #4c72b0; stroke: #333333\"/>\n     <use xlink:href=\"#ma9584aa292\" x=\"116.240721\" y=\"186.065155\" style=\"fill: #4c72b0; stroke: #333333\"/>\n     <use xlink:href=\"#ma9584aa292\" x=\"224.377487\" y=\"80.124828\" style=\"fill: #4c72b0; stroke: #333333\"/>\n     <use xlink:href=\"#ma9584aa292\" x=\"124.910937\" y=\"172.279375\" style=\"fill: #4c72b0; stroke: #333333\"/>\n     <use xlink:href=\"#ma9584aa292\" x=\"121.252742\" y=\"199.75417\" style=\"fill: #4c72b0; stroke: #333333\"/>\n     <use xlink:href=\"#ma9584aa292\" x=\"235.921898\" y=\"86.93046\" style=\"fill: #4c72b0; stroke: #333333\"/>\n     <use xlink:href=\"#ma9584aa292\" x=\"120.257661\" y=\"184.183945\" style=\"fill: #4c72b0; stroke: #333333\"/>\n     <use xlink:href=\"#ma9584aa292\" x=\"129.11591\" y=\"193.086858\" style=\"fill: #4c72b0; stroke: #333333\"/>\n     <use xlink:href=\"#ma9584aa292\" x=\"123.948331\" y=\"188.4985\" style=\"fill: #4c72b0; stroke: #333333\"/>\n     <use xlink:href=\"#ma9584aa292\" x=\"137.553874\" y=\"178.00173\" style=\"fill: #4c72b0; stroke: #333333\"/>\n     <use xlink:href=\"#ma9584aa292\" x=\"256.218076\" y=\"86.266478\" style=\"fill: #4c72b0; stroke: #333333\"/>\n     <use xlink:href=\"#ma9584aa292\" x=\"242.01589\" y=\"75.725234\" style=\"fill: #4c72b0; stroke: #333333\"/>\n     <use xlink:href=\"#ma9584aa292\" x=\"112.152758\" y=\"195.284191\" style=\"fill: #4c72b0; stroke: #333333\"/>\n     <use xlink:href=\"#ma9584aa292\" x=\"208.793836\" y=\"83.5877\" style=\"fill: #4c72b0; stroke: #333333\"/>\n     <use xlink:href=\"#ma9584aa292\" x=\"223.926333\" y=\"76.090565\" style=\"fill: #4c72b0; stroke: #333333\"/>\n     <use xlink:href=\"#ma9584aa292\" x=\"236.132988\" y=\"56.955145\" style=\"fill: #4c72b0; stroke: #333333\"/>\n     <use xlink:href=\"#ma9584aa292\" x=\"242.881889\" y=\"84.154835\" style=\"fill: #4c72b0; stroke: #333333\"/>\n     <use xlink:href=\"#ma9584aa292\" x=\"120.193576\" y=\"174.913218\" style=\"fill: #4c72b0; stroke: #333333\"/>\n     <use xlink:href=\"#ma9584aa292\" x=\"103.78458\" y=\"195.283995\" style=\"fill: #4c72b0; stroke: #333333\"/>\n     <use xlink:href=\"#ma9584aa292\" x=\"109.625818\" y=\"190.216829\" style=\"fill: #4c72b0; stroke: #333333\"/>\n     <use xlink:href=\"#ma9584aa292\" x=\"125.148291\" y=\"196.937344\" style=\"fill: #4c72b0; stroke: #333333\"/>\n     <use xlink:href=\"#ma9584aa292\" x=\"245.419639\" y=\"77.009475\" style=\"fill: #4c72b0; stroke: #333333\"/>\n     <use xlink:href=\"#ma9584aa292\" x=\"144.313166\" y=\"169.174906\" style=\"fill: #4c72b0; stroke: #333333\"/>\n     <use xlink:href=\"#ma9584aa292\" x=\"229.583076\" y=\"66.985343\" style=\"fill: #4c72b0; stroke: #333333\"/>\n     <use xlink:href=\"#ma9584aa292\" x=\"239.499528\" y=\"62.582743\" style=\"fill: #4c72b0; stroke: #333333\"/>\n     <use xlink:href=\"#ma9584aa292\" x=\"229.356409\" y=\"69.802017\" style=\"fill: #4c72b0; stroke: #333333\"/>\n     <use xlink:href=\"#ma9584aa292\" x=\"102.576489\" y=\"189.254038\" style=\"fill: #4c72b0; stroke: #333333\"/>\n     <use xlink:href=\"#ma9584aa292\" x=\"98.539796\" y=\"189.626288\" style=\"fill: #4c72b0; stroke: #333333\"/>\n     <use xlink:href=\"#ma9584aa292\" x=\"236.408436\" y=\"88.179515\" style=\"fill: #4c72b0; stroke: #333333\"/>\n     <use xlink:href=\"#ma9584aa292\" x=\"110.533863\" y=\"183.049257\" style=\"fill: #4c72b0; stroke: #333333\"/>\n     <use xlink:href=\"#ma9584aa292\" x=\"226.204733\" y=\"91.040198\" style=\"fill: #4c72b0; stroke: #333333\"/>\n     <use xlink:href=\"#ma9584aa292\" x=\"254.128467\" y=\"77.367126\" style=\"fill: #4c72b0; stroke: #333333\"/>\n     <use xlink:href=\"#ma9584aa292\" x=\"115.581397\" y=\"195.022798\" style=\"fill: #4c72b0; stroke: #333333\"/>\n     <use xlink:href=\"#ma9584aa292\" x=\"250.582997\" y=\"80.519436\" style=\"fill: #4c72b0; stroke: #333333\"/>\n     <use xlink:href=\"#ma9584aa292\" x=\"238.736457\" y=\"74.306977\" style=\"fill: #4c72b0; stroke: #333333\"/>\n     <use xlink:href=\"#ma9584aa292\" x=\"155.602225\" y=\"176.224278\" style=\"fill: #4c72b0; stroke: #333333\"/>\n     <use xlink:href=\"#ma9584aa292\" x=\"230.925244\" y=\"88.353158\" style=\"fill: #4c72b0; stroke: #333333\"/>\n     <use xlink:href=\"#ma9584aa292\" x=\"103.651317\" y=\"186.38212\" style=\"fill: #4c72b0; stroke: #333333\"/>\n     <use xlink:href=\"#ma9584aa292\" x=\"225.174396\" y=\"89.750326\" style=\"fill: #4c72b0; stroke: #333333\"/>\n     <use xlink:href=\"#ma9584aa292\" x=\"140.17062\" y=\"178.862503\" style=\"fill: #4c72b0; stroke: #333333\"/>\n     <use xlink:href=\"#ma9584aa292\" x=\"232.255192\" y=\"61.348506\" style=\"fill: #4c72b0; stroke: #333333\"/>\n     <use xlink:href=\"#ma9584aa292\" x=\"109.962609\" y=\"190.7486\" style=\"fill: #4c72b0; stroke: #333333\"/>\n     <use xlink:href=\"#ma9584aa292\" x=\"232.881603\" y=\"86.9717\" style=\"fill: #4c72b0; stroke: #333333\"/>\n     <use xlink:href=\"#ma9584aa292\" x=\"124.462419\" y=\"189.195165\" style=\"fill: #4c72b0; stroke: #333333\"/>\n     <use xlink:href=\"#ma9584aa292\" x=\"127.017763\" y=\"199.477257\" style=\"fill: #4c72b0; stroke: #333333\"/>\n     <use xlink:href=\"#ma9584aa292\" x=\"233.444991\" y=\"69.426747\" style=\"fill: #4c72b0; stroke: #333333\"/>\n     <use xlink:href=\"#ma9584aa292\" x=\"102.953228\" y=\"182.613347\" style=\"fill: #4c72b0; stroke: #333333\"/>\n     <use xlink:href=\"#ma9584aa292\" x=\"224.996423\" y=\"71.431325\" style=\"fill: #4c72b0; stroke: #333333\"/>\n     <use xlink:href=\"#ma9584aa292\" x=\"223.880579\" y=\"97.77066\" style=\"fill: #4c72b0; stroke: #333333\"/>\n     <use xlink:href=\"#ma9584aa292\" x=\"231.610898\" y=\"91.185872\" style=\"fill: #4c72b0; stroke: #333333\"/>\n     <use xlink:href=\"#ma9584aa292\" x=\"132.621368\" y=\"195.034702\" style=\"fill: #4c72b0; stroke: #333333\"/>\n     <use xlink:href=\"#ma9584aa292\" x=\"130.729748\" y=\"201.164315\" style=\"fill: #4c72b0; stroke: #333333\"/>\n     <use xlink:href=\"#ma9584aa292\" x=\"127.338063\" y=\"172.654013\" style=\"fill: #4c72b0; stroke: #333333\"/>\n     <use xlink:href=\"#ma9584aa292\" x=\"204.938002\" y=\"86.594097\" style=\"fill: #4c72b0; stroke: #333333\"/>\n     <use xlink:href=\"#ma9584aa292\" x=\"236.458863\" y=\"84.455113\" style=\"fill: #4c72b0; stroke: #333333\"/>\n    </g>\n   </g>\n   <g id=\"PathCollection_2\">\n    <defs>\n     <path id=\"m1b55be6255\" d=\"M 0 3 \nC 0.795609 3 1.55874 2.683901 2.12132 2.12132 \nC 2.683901 1.55874 3 0.795609 3 0 \nC 3 -0.795609 2.683901 -1.55874 2.12132 -2.12132 \nC 1.55874 -2.683901 0.795609 -3 0 -3 \nC -0.795609 -3 -1.55874 -2.683901 -2.12132 -2.12132 \nC -2.683901 -1.55874 -3 -0.795609 -3 0 \nC -3 0.795609 -2.683901 1.55874 -2.12132 2.12132 \nC -1.55874 2.683901 -0.795609 3 0 3 \nz\n\" style=\"stroke: #333333\"/>\n    </defs>\n    <g clip-path=\"url(#p517613cb50)\">\n     <use xlink:href=\"#m1b55be6255\" x=\"113.92348\" y=\"75.18289\" style=\"fill: #dd8452; stroke: #333333\"/>\n     <use xlink:href=\"#m1b55be6255\" x=\"142.151302\" y=\"72.504264\" style=\"fill: #dd8452; stroke: #333333\"/>\n     <use xlink:href=\"#m1b55be6255\" x=\"110.656323\" y=\"69.030936\" style=\"fill: #dd8452; stroke: #333333\"/>\n     <use xlink:href=\"#m1b55be6255\" x=\"241.458596\" y=\"167.606485\" style=\"fill: #dd8452; stroke: #333333\"/>\n     <use xlink:href=\"#m1b55be6255\" x=\"222.480655\" y=\"197.683829\" style=\"fill: #dd8452; stroke: #333333\"/>\n     <use xlink:href=\"#m1b55be6255\" x=\"231.488691\" y=\"184.855432\" style=\"fill: #dd8452; stroke: #333333\"/>\n     <use xlink:href=\"#m1b55be6255\" x=\"237.590846\" y=\"189.445652\" style=\"fill: #dd8452; stroke: #333333\"/>\n     <use xlink:href=\"#m1b55be6255\" x=\"222.954346\" y=\"205.434752\" style=\"fill: #dd8452; stroke: #333333\"/>\n     <use xlink:href=\"#m1b55be6255\" x=\"232.989012\" y=\"201.31138\" style=\"fill: #dd8452; stroke: #333333\"/>\n     <use xlink:href=\"#m1b55be6255\" x=\"133.472466\" y=\"66.073571\" style=\"fill: #dd8452; stroke: #333333\"/>\n     <use xlink:href=\"#m1b55be6255\" x=\"106.187995\" y=\"88.156727\" style=\"fill: #dd8452; stroke: #333333\"/>\n     <use xlink:href=\"#m1b55be6255\" x=\"127.174305\" y=\"72.061265\" style=\"fill: #dd8452; stroke: #333333\"/>\n     <use xlink:href=\"#m1b55be6255\" x=\"238.054438\" y=\"145.919037\" style=\"fill: #dd8452; stroke: #333333\"/>\n     <use xlink:href=\"#m1b55be6255\" x=\"112.894508\" y=\"80.383972\" style=\"fill: #dd8452; stroke: #333333\"/>\n     <use xlink:href=\"#m1b55be6255\" x=\"226.961882\" y=\"187.730305\" style=\"fill: #dd8452; stroke: #333333\"/>\n     <use xlink:href=\"#m1b55be6255\" x=\"116.230813\" y=\"65.68384\" style=\"fill: #dd8452; stroke: #333333\"/>\n     <use xlink:href=\"#m1b55be6255\" x=\"122.176331\" y=\"89.708161\" style=\"fill: #dd8452; stroke: #333333\"/>\n     <use xlink:href=\"#m1b55be6255\" x=\"113.365289\" y=\"75.358027\" style=\"fill: #dd8452; stroke: #333333\"/>\n     <use xlink:href=\"#m1b55be6255\" x=\"121.968894\" y=\"84.98307\" style=\"fill: #dd8452; stroke: #333333\"/>\n     <use xlink:href=\"#m1b55be6255\" x=\"145.235645\" y=\"70.729228\" style=\"fill: #dd8452; stroke: #333333\"/>\n     <use xlink:href=\"#m1b55be6255\" x=\"225.005708\" y=\"179.186344\" style=\"fill: #dd8452; stroke: #333333\"/>\n     <use xlink:href=\"#m1b55be6255\" x=\"218.362914\" y=\"178.460871\" style=\"fill: #dd8452; stroke: #333333\"/>\n     <use xlink:href=\"#m1b55be6255\" x=\"144.994061\" y=\"66.310145\" style=\"fill: #dd8452; stroke: #333333\"/>\n     <use xlink:href=\"#m1b55be6255\" x=\"222.06579\" y=\"189.298142\" style=\"fill: #dd8452; stroke: #333333\"/>\n     <use xlink:href=\"#m1b55be6255\" x=\"196.404423\" y=\"199.996535\" style=\"fill: #dd8452; stroke: #333333\"/>\n     <use xlink:href=\"#m1b55be6255\" x=\"139.563771\" y=\"93.615532\" style=\"fill: #dd8452; stroke: #333333\"/>\n     <use xlink:href=\"#m1b55be6255\" x=\"116.584381\" y=\"76.308475\" style=\"fill: #dd8452; stroke: #333333\"/>\n     <use xlink:href=\"#m1b55be6255\" x=\"248.324436\" y=\"204.558965\" style=\"fill: #dd8452; stroke: #333333\"/>\n     <use xlink:href=\"#m1b55be6255\" x=\"245.240747\" y=\"188.524661\" style=\"fill: #dd8452; stroke: #333333\"/>\n     <use xlink:href=\"#m1b55be6255\" x=\"221.460628\" y=\"183.514322\" style=\"fill: #dd8452; stroke: #333333\"/>\n     <use xlink:href=\"#m1b55be6255\" x=\"123.670768\" y=\"84.413331\" style=\"fill: #dd8452; stroke: #333333\"/>\n     <use xlink:href=\"#m1b55be6255\" x=\"233.117556\" y=\"192.910482\" style=\"fill: #dd8452; stroke: #333333\"/>\n     <use xlink:href=\"#m1b55be6255\" x=\"249.929344\" y=\"202.363023\" style=\"fill: #dd8452; stroke: #333333\"/>\n     <use xlink:href=\"#m1b55be6255\" x=\"225.808717\" y=\"179.217737\" style=\"fill: #dd8452; stroke: #333333\"/>\n     <use xlink:href=\"#m1b55be6255\" x=\"242.318356\" y=\"185.230788\" style=\"fill: #dd8452; stroke: #333333\"/>\n     <use xlink:href=\"#m1b55be6255\" x=\"112.271697\" y=\"83.969413\" style=\"fill: #dd8452; stroke: #333333\"/>\n     <use xlink:href=\"#m1b55be6255\" x=\"135.630342\" y=\"84.317468\" style=\"fill: #dd8452; stroke: #333333\"/>\n     <use xlink:href=\"#m1b55be6255\" x=\"127.529809\" y=\"80.000037\" style=\"fill: #dd8452; stroke: #333333\"/>\n     <use xlink:href=\"#m1b55be6255\" x=\"119.049944\" y=\"65.574885\" style=\"fill: #dd8452; stroke: #333333\"/>\n     <use xlink:href=\"#m1b55be6255\" x=\"239.905093\" y=\"192.078363\" style=\"fill: #dd8452; stroke: #333333\"/>\n     <use xlink:href=\"#m1b55be6255\" x=\"235.937944\" y=\"190.081151\" style=\"fill: #dd8452; stroke: #333333\"/>\n     <use xlink:href=\"#m1b55be6255\" x=\"122.539085\" y=\"71.159023\" style=\"fill: #dd8452; stroke: #333333\"/>\n     <use xlink:href=\"#m1b55be6255\" x=\"223.27116\" y=\"165.437735\" style=\"fill: #dd8452; stroke: #333333\"/>\n     <use xlink:href=\"#m1b55be6255\" x=\"110.308873\" y=\"91.221045\" style=\"fill: #dd8452; stroke: #333333\"/>\n     <use xlink:href=\"#m1b55be6255\" x=\"243.155725\" y=\"190.268697\" style=\"fill: #dd8452; stroke: #333333\"/>\n     <use xlink:href=\"#m1b55be6255\" x=\"236.922178\" y=\"194.888703\" style=\"fill: #dd8452; stroke: #333333\"/>\n     <use xlink:href=\"#m1b55be6255\" x=\"112.346814\" y=\"75.056117\" style=\"fill: #dd8452; stroke: #333333\"/>\n     <use xlink:href=\"#m1b55be6255\" x=\"105.407234\" y=\"93.364081\" style=\"fill: #dd8452; stroke: #333333\"/>\n     <use xlink:href=\"#m1b55be6255\" x=\"130.973324\" y=\"79.531521\" style=\"fill: #dd8452; stroke: #333333\"/>\n     <use xlink:href=\"#m1b55be6255\" x=\"232.138319\" y=\"191.838772\" style=\"fill: #dd8452; stroke: #333333\"/>\n     <use xlink:href=\"#m1b55be6255\" x=\"238.102102\" y=\"171.643115\" style=\"fill: #dd8452; stroke: #333333\"/>\n     <use xlink:href=\"#m1b55be6255\" x=\"233.426631\" y=\"197.209258\" style=\"fill: #dd8452; stroke: #333333\"/>\n     <use xlink:href=\"#m1b55be6255\" x=\"232.615368\" y=\"183.11632\" style=\"fill: #dd8452; stroke: #333333\"/>\n     <use xlink:href=\"#m1b55be6255\" x=\"145.744129\" y=\"86.720533\" style=\"fill: #dd8452; stroke: #333333\"/>\n     <use xlink:href=\"#m1b55be6255\" x=\"111.501972\" y=\"72.303721\" style=\"fill: #dd8452; stroke: #333333\"/>\n     <use xlink:href=\"#m1b55be6255\" x=\"217.704846\" y=\"168.33091\" style=\"fill: #dd8452; stroke: #333333\"/>\n     <use xlink:href=\"#m1b55be6255\" x=\"245.421225\" y=\"193.840345\" style=\"fill: #dd8452; stroke: #333333\"/>\n     <use xlink:href=\"#m1b55be6255\" x=\"102.468358\" y=\"62.746394\" style=\"fill: #dd8452; stroke: #333333\"/>\n     <use xlink:href=\"#m1b55be6255\" x=\"232.401739\" y=\"188.117204\" style=\"fill: #dd8452; stroke: #333333\"/>\n     <use xlink:href=\"#m1b55be6255\" x=\"227.353265\" y=\"181.731965\" style=\"fill: #dd8452; stroke: #333333\"/>\n     <use xlink:href=\"#m1b55be6255\" x=\"122.797432\" y=\"72.054022\" style=\"fill: #dd8452; stroke: #333333\"/>\n     <use xlink:href=\"#m1b55be6255\" x=\"240.233982\" y=\"201.108157\" style=\"fill: #dd8452; stroke: #333333\"/>\n     <use xlink:href=\"#m1b55be6255\" x=\"104.453336\" y=\"63.591244\" style=\"fill: #dd8452; stroke: #333333\"/>\n     <use xlink:href=\"#m1b55be6255\" x=\"138.662767\" y=\"76.475524\" style=\"fill: #dd8452; stroke: #333333\"/>\n     <use xlink:href=\"#m1b55be6255\" x=\"110.764523\" y=\"70.151182\" style=\"fill: #dd8452; stroke: #333333\"/>\n     <use xlink:href=\"#m1b55be6255\" x=\"133.199404\" y=\"97.259027\" style=\"fill: #dd8452; stroke: #333333\"/>\n     <use xlink:href=\"#m1b55be6255\" x=\"108.343623\" y=\"100.369132\" style=\"fill: #dd8452; stroke: #333333\"/>\n     <use xlink:href=\"#m1b55be6255\" x=\"249.001723\" y=\"187.816562\" style=\"fill: #dd8452; stroke: #333333\"/>\n     <use xlink:href=\"#m1b55be6255\" x=\"250.401686\" y=\"203.94069\" style=\"fill: #dd8452; stroke: #333333\"/>\n     <use xlink:href=\"#m1b55be6255\" x=\"125.722111\" y=\"78.120646\" style=\"fill: #dd8452; stroke: #333333\"/>\n     <use xlink:href=\"#m1b55be6255\" x=\"106.999635\" y=\"70.332796\" style=\"fill: #dd8452; stroke: #333333\"/>\n     <use xlink:href=\"#m1b55be6255\" x=\"226.645835\" y=\"200.382684\" style=\"fill: #dd8452; stroke: #333333\"/>\n     <use xlink:href=\"#m1b55be6255\" x=\"120.768608\" y=\"67.167513\" style=\"fill: #dd8452; stroke: #333333\"/>\n     <use xlink:href=\"#m1b55be6255\" x=\"115.584097\" y=\"86.5495\" style=\"fill: #dd8452; stroke: #333333\"/>\n     <use xlink:href=\"#m1b55be6255\" x=\"231.156842\" y=\"200.116892\" style=\"fill: #dd8452; stroke: #333333\"/>\n     <use xlink:href=\"#m1b55be6255\" x=\"224.585035\" y=\"186.265516\" style=\"fill: #dd8452; stroke: #333333\"/>\n     <use xlink:href=\"#m1b55be6255\" x=\"231.098102\" y=\"191.088236\" style=\"fill: #dd8452; stroke: #333333\"/>\n     <use xlink:href=\"#m1b55be6255\" x=\"128.273474\" y=\"69.358873\" style=\"fill: #dd8452; stroke: #333333\"/>\n     <use xlink:href=\"#m1b55be6255\" x=\"118.41382\" y=\"103.281828\" style=\"fill: #dd8452; stroke: #333333\"/>\n     <use xlink:href=\"#m1b55be6255\" x=\"215.543154\" y=\"173.482223\" style=\"fill: #dd8452; stroke: #333333\"/>\n     <use xlink:href=\"#m1b55be6255\" x=\"223.957177\" y=\"204.408074\" style=\"fill: #dd8452; stroke: #333333\"/>\n     <use xlink:href=\"#m1b55be6255\" x=\"122.321454\" y=\"87.308044\" style=\"fill: #dd8452; stroke: #333333\"/>\n     <use xlink:href=\"#m1b55be6255\" x=\"138.351994\" y=\"71.782684\" style=\"fill: #dd8452; stroke: #333333\"/>\n     <use xlink:href=\"#m1b55be6255\" x=\"111.754739\" y=\"93.090609\" style=\"fill: #dd8452; stroke: #333333\"/>\n     <use xlink:href=\"#m1b55be6255\" x=\"242.61305\" y=\"167.466514\" style=\"fill: #dd8452; stroke: #333333\"/>\n     <use xlink:href=\"#m1b55be6255\" x=\"216.836277\" y=\"182.395922\" style=\"fill: #dd8452; stroke: #333333\"/>\n     <use xlink:href=\"#m1b55be6255\" x=\"114.249269\" y=\"83.159373\" style=\"fill: #dd8452; stroke: #333333\"/>\n     <use xlink:href=\"#m1b55be6255\" x=\"225.77513\" y=\"198.218055\" style=\"fill: #dd8452; stroke: #333333\"/>\n     <use xlink:href=\"#m1b55be6255\" x=\"229.69414\" y=\"198.701191\" style=\"fill: #dd8452; stroke: #333333\"/>\n     <use xlink:href=\"#m1b55be6255\" x=\"115.068353\" y=\"69.382348\" style=\"fill: #dd8452; stroke: #333333\"/>\n     <use xlink:href=\"#m1b55be6255\" x=\"103.417404\" y=\"77.224954\" style=\"fill: #dd8452; stroke: #333333\"/>\n     <use xlink:href=\"#m1b55be6255\" x=\"235.223397\" y=\"198.665188\" style=\"fill: #dd8452; stroke: #333333\"/>\n     <use xlink:href=\"#m1b55be6255\" x=\"239.424305\" y=\"207.061059\" style=\"fill: #dd8452; stroke: #333333\"/>\n     <use xlink:href=\"#m1b55be6255\" x=\"225.116032\" y=\"188.112569\" style=\"fill: #dd8452; stroke: #333333\"/>\n     <use xlink:href=\"#m1b55be6255\" x=\"111.92333\" y=\"82.022076\" style=\"fill: #dd8452; stroke: #333333\"/>\n     <use xlink:href=\"#m1b55be6255\" x=\"127.86217\" y=\"80.009495\" style=\"fill: #dd8452; stroke: #333333\"/>\n     <use xlink:href=\"#m1b55be6255\" x=\"233.303704\" y=\"190.364274\" style=\"fill: #dd8452; stroke: #333333\"/>\n    </g>\n   </g>\n   <g id=\"patch_3\">\n    <path d=\"M 66.023594 244.078125 \nL 66.023594 22.318125 \n\" style=\"fill: none; stroke: #ffffff; stroke-width: 1.25; stroke-linejoin: miter; stroke-linecap: square\"/>\n   </g>\n   <g id=\"patch_4\">\n    <path d=\"M 287.783594 244.078125 \nL 287.783594 22.318125 \n\" style=\"fill: none; stroke: #ffffff; stroke-width: 1.25; stroke-linejoin: miter; stroke-linecap: square\"/>\n   </g>\n   <g id=\"patch_5\">\n    <path d=\"M 66.023594 244.078125 \nL 287.783594 244.078125 \n\" style=\"fill: none; stroke: #ffffff; stroke-width: 1.25; stroke-linejoin: miter; stroke-linecap: square\"/>\n   </g>\n   <g id=\"patch_6\">\n    <path d=\"M 66.023594 22.318125 \nL 287.783594 22.318125 \n\" style=\"fill: none; stroke: #ffffff; stroke-width: 1.25; stroke-linejoin: miter; stroke-linecap: square\"/>\n   </g>\n   <g id=\"text_17\">\n    <!-- Dataset samples -->\n    <g style=\"fill: #262626\" transform=\"translate(126.560781 16.318125) scale(0.12 -0.12)\">\n     <defs>\n      <path id=\"DejaVuSans-44\" d=\"M 1259 4147 \nL 1259 519 \nL 2022 519 \nQ 2988 519 3436 956 \nQ 3884 1394 3884 2338 \nQ 3884 3275 3436 3711 \nQ 2988 4147 2022 4147 \nL 1259 4147 \nz\nM 628 4666 \nL 1925 4666 \nQ 3281 4666 3915 4102 \nQ 4550 3538 4550 2338 \nQ 4550 1131 3912 565 \nQ 3275 0 1925 0 \nL 628 0 \nL 628 4666 \nz\n\" transform=\"scale(0.015625)\"/>\n      <path id=\"DejaVuSans-61\" d=\"M 2194 1759 \nQ 1497 1759 1228 1600 \nQ 959 1441 959 1056 \nQ 959 750 1161 570 \nQ 1363 391 1709 391 \nQ 2188 391 2477 730 \nQ 2766 1069 2766 1631 \nL 2766 1759 \nL 2194 1759 \nz\nM 3341 1997 \nL 3341 0 \nL 2766 0 \nL 2766 531 \nQ 2569 213 2275 61 \nQ 1981 -91 1556 -91 \nQ 1019 -91 701 211 \nQ 384 513 384 1019 \nQ 384 1609 779 1909 \nQ 1175 2209 1959 2209 \nL 2766 2209 \nL 2766 2266 \nQ 2766 2663 2505 2880 \nQ 2244 3097 1772 3097 \nQ 1472 3097 1187 3025 \nQ 903 2953 641 2809 \nL 641 3341 \nQ 956 3463 1253 3523 \nQ 1550 3584 1831 3584 \nQ 2591 3584 2966 3190 \nQ 3341 2797 3341 1997 \nz\n\" transform=\"scale(0.015625)\"/>\n      <path id=\"DejaVuSans-74\" d=\"M 1172 4494 \nL 1172 3500 \nL 2356 3500 \nL 2356 3053 \nL 1172 3053 \nL 1172 1153 \nQ 1172 725 1289 603 \nQ 1406 481 1766 481 \nL 2356 481 \nL 2356 0 \nL 1766 0 \nQ 1100 0 847 248 \nQ 594 497 594 1153 \nL 594 3053 \nL 172 3053 \nL 172 3500 \nL 594 3500 \nL 594 4494 \nL 1172 4494 \nz\n\" transform=\"scale(0.015625)\"/>\n      <path id=\"DejaVuSans-73\" d=\"M 2834 3397 \nL 2834 2853 \nQ 2591 2978 2328 3040 \nQ 2066 3103 1784 3103 \nQ 1356 3103 1142 2972 \nQ 928 2841 928 2578 \nQ 928 2378 1081 2264 \nQ 1234 2150 1697 2047 \nL 1894 2003 \nQ 2506 1872 2764 1633 \nQ 3022 1394 3022 966 \nQ 3022 478 2636 193 \nQ 2250 -91 1575 -91 \nQ 1294 -91 989 -36 \nQ 684 19 347 128 \nL 347 722 \nQ 666 556 975 473 \nQ 1284 391 1588 391 \nQ 1994 391 2212 530 \nQ 2431 669 2431 922 \nQ 2431 1156 2273 1281 \nQ 2116 1406 1581 1522 \nL 1381 1569 \nQ 847 1681 609 1914 \nQ 372 2147 372 2553 \nQ 372 3047 722 3315 \nQ 1072 3584 1716 3584 \nQ 2034 3584 2315 3537 \nQ 2597 3491 2834 3397 \nz\n\" transform=\"scale(0.015625)\"/>\n      <path id=\"DejaVuSans-65\" d=\"M 3597 1894 \nL 3597 1613 \nL 953 1613 \nQ 991 1019 1311 708 \nQ 1631 397 2203 397 \nQ 2534 397 2845 478 \nQ 3156 559 3463 722 \nL 3463 178 \nQ 3153 47 2828 -22 \nQ 2503 -91 2169 -91 \nQ 1331 -91 842 396 \nQ 353 884 353 1716 \nQ 353 2575 817 3079 \nQ 1281 3584 2069 3584 \nQ 2775 3584 3186 3129 \nQ 3597 2675 3597 1894 \nz\nM 3022 2063 \nQ 3016 2534 2758 2815 \nQ 2500 3097 2075 3097 \nQ 1594 3097 1305 2825 \nQ 1016 2553 972 2059 \nL 3022 2063 \nz\n\" transform=\"scale(0.015625)\"/>\n      <path id=\"DejaVuSans-20\" transform=\"scale(0.015625)\"/>\n      <path id=\"DejaVuSans-6d\" d=\"M 3328 2828 \nQ 3544 3216 3844 3400 \nQ 4144 3584 4550 3584 \nQ 5097 3584 5394 3201 \nQ 5691 2819 5691 2113 \nL 5691 0 \nL 5113 0 \nL 5113 2094 \nQ 5113 2597 4934 2840 \nQ 4756 3084 4391 3084 \nQ 3944 3084 3684 2787 \nQ 3425 2491 3425 1978 \nL 3425 0 \nL 2847 0 \nL 2847 2094 \nQ 2847 2600 2669 2842 \nQ 2491 3084 2119 3084 \nQ 1678 3084 1418 2786 \nQ 1159 2488 1159 1978 \nL 1159 0 \nL 581 0 \nL 581 3500 \nL 1159 3500 \nL 1159 2956 \nQ 1356 3278 1631 3431 \nQ 1906 3584 2284 3584 \nQ 2666 3584 2933 3390 \nQ 3200 3197 3328 2828 \nz\n\" transform=\"scale(0.015625)\"/>\n      <path id=\"DejaVuSans-70\" d=\"M 1159 525 \nL 1159 -1331 \nL 581 -1331 \nL 581 3500 \nL 1159 3500 \nL 1159 2969 \nQ 1341 3281 1617 3432 \nQ 1894 3584 2278 3584 \nQ 2916 3584 3314 3078 \nQ 3713 2572 3713 1747 \nQ 3713 922 3314 415 \nQ 2916 -91 2278 -91 \nQ 1894 -91 1617 61 \nQ 1341 213 1159 525 \nz\nM 3116 1747 \nQ 3116 2381 2855 2742 \nQ 2594 3103 2138 3103 \nQ 1681 3103 1420 2742 \nQ 1159 2381 1159 1747 \nQ 1159 1113 1420 752 \nQ 1681 391 2138 391 \nQ 2594 391 2855 752 \nQ 3116 1113 3116 1747 \nz\n\" transform=\"scale(0.015625)\"/>\n      <path id=\"DejaVuSans-6c\" d=\"M 603 4863 \nL 1178 4863 \nL 1178 0 \nL 603 0 \nL 603 4863 \nz\n\" transform=\"scale(0.015625)\"/>\n     </defs>\n     <use xlink:href=\"#DejaVuSans-44\"/>\n     <use xlink:href=\"#DejaVuSans-61\" x=\"77.001953\"/>\n     <use xlink:href=\"#DejaVuSans-74\" x=\"138.28125\"/>\n     <use xlink:href=\"#DejaVuSans-61\" x=\"177.490234\"/>\n     <use xlink:href=\"#DejaVuSans-73\" x=\"238.769531\"/>\n     <use xlink:href=\"#DejaVuSans-65\" x=\"290.869141\"/>\n     <use xlink:href=\"#DejaVuSans-74\" x=\"352.392578\"/>\n     <use xlink:href=\"#DejaVuSans-20\" x=\"391.601562\"/>\n     <use xlink:href=\"#DejaVuSans-73\" x=\"423.388672\"/>\n     <use xlink:href=\"#DejaVuSans-61\" x=\"475.488281\"/>\n     <use xlink:href=\"#DejaVuSans-6d\" x=\"536.767578\"/>\n     <use xlink:href=\"#DejaVuSans-70\" x=\"634.179688\"/>\n     <use xlink:href=\"#DejaVuSans-6c\" x=\"697.65625\"/>\n     <use xlink:href=\"#DejaVuSans-65\" x=\"725.439453\"/>\n     <use xlink:href=\"#DejaVuSans-73\" x=\"786.962891\"/>\n    </g>\n   </g>\n   <g id=\"legend_1\">\n    <g id=\"patch_7\">\n     <path d=\"M 73.723594 150.994063 \nL 148.356875 150.994063 \nQ 150.556875 150.994063 150.556875 148.794063 \nL 150.556875 117.602188 \nQ 150.556875 115.402188 148.356875 115.402188 \nL 73.723594 115.402188 \nQ 71.523594 115.402188 71.523594 117.602188 \nL 71.523594 148.794063 \nQ 71.523594 150.994063 73.723594 150.994063 \nz\n\" style=\"fill: #eaeaf2; opacity: 0.8; stroke: #cccccc; stroke-linejoin: miter\"/>\n    </g>\n    <g id=\"PathCollection_3\">\n     <g>\n      <use xlink:href=\"#ma9584aa292\" x=\"86.923594\" y=\"125.272969\" style=\"fill: #4c72b0; stroke: #333333\"/>\n     </g>\n    </g>\n    <g id=\"text_18\">\n     <!-- Class 0 -->\n     <g style=\"fill: #262626\" transform=\"translate(106.723594 128.160469) scale(0.11 -0.11)\">\n      <defs>\n       <path id=\"DejaVuSans-43\" d=\"M 4122 4306 \nL 4122 3641 \nQ 3803 3938 3442 4084 \nQ 3081 4231 2675 4231 \nQ 1875 4231 1450 3742 \nQ 1025 3253 1025 2328 \nQ 1025 1406 1450 917 \nQ 1875 428 2675 428 \nQ 3081 428 3442 575 \nQ 3803 722 4122 1019 \nL 4122 359 \nQ 3791 134 3420 21 \nQ 3050 -91 2638 -91 \nQ 1578 -91 968 557 \nQ 359 1206 359 2328 \nQ 359 3453 968 4101 \nQ 1578 4750 2638 4750 \nQ 3056 4750 3426 4639 \nQ 3797 4528 4122 4306 \nz\n\" transform=\"scale(0.015625)\"/>\n      </defs>\n      <use xlink:href=\"#DejaVuSans-43\"/>\n      <use xlink:href=\"#DejaVuSans-6c\" x=\"69.824219\"/>\n      <use xlink:href=\"#DejaVuSans-61\" x=\"97.607422\"/>\n      <use xlink:href=\"#DejaVuSans-73\" x=\"158.886719\"/>\n      <use xlink:href=\"#DejaVuSans-73\" x=\"210.986328\"/>\n      <use xlink:href=\"#DejaVuSans-20\" x=\"263.085938\"/>\n      <use xlink:href=\"#DejaVuSans-30\" x=\"294.873047\"/>\n     </g>\n    </g>\n    <g id=\"PathCollection_4\">\n     <g>\n      <use xlink:href=\"#m1b55be6255\" x=\"86.923594\" y=\"141.418906\" style=\"fill: #dd8452; stroke: #333333\"/>\n     </g>\n    </g>\n    <g id=\"text_19\">\n     <!-- Class 1 -->\n     <g style=\"fill: #262626\" transform=\"translate(106.723594 144.306406) scale(0.11 -0.11)\">\n      <use xlink:href=\"#DejaVuSans-43\"/>\n      <use xlink:href=\"#DejaVuSans-6c\" x=\"69.824219\"/>\n      <use xlink:href=\"#DejaVuSans-61\" x=\"97.607422\"/>\n      <use xlink:href=\"#DejaVuSans-73\" x=\"158.886719\"/>\n      <use xlink:href=\"#DejaVuSans-73\" x=\"210.986328\"/>\n      <use xlink:href=\"#DejaVuSans-20\" x=\"263.085938\"/>\n      <use xlink:href=\"#DejaVuSans-31\" x=\"294.873047\"/>\n     </g>\n    </g>\n   </g>\n  </g>\n </g>\n <defs>\n  <clipPath id=\"p517613cb50\">\n   <rect x=\"66.023594\" y=\"22.318125\" width=\"221.76\" height=\"221.76\"/>\n  </clipPath>\n </defs>\n</svg>\n",
      "text/plain": [
       "<Figure size 2000x2000 with 1 Axes>"
      ]
     },
     "metadata": {},
     "output_type": "display_data"
    }
   ],
   "source": [
    "def visualize_classification(model, data, label):\n",
    "    data_0 = data[label == 0]\n",
    "    data_1 = data[label == 1]\n",
    "\n",
    "    fig = plt.figure(figsize=(4, 4), dpi=500)\n",
    "    plt.scatter(data_0[:, 0], data_0[:, 1], edgecolor=\"#333\", label=\"Class 0\")\n",
    "    plt.scatter(data_1[:, 0], data_1[:, 1], edgecolor=\"#333\", label=\"Class 1\")\n",
    "    plt.title(\"Dataset samples\")\n",
    "    plt.ylabel(r\"$x_2$\")\n",
    "    plt.xlabel(r\"$x_1$\")\n",
    "    plt.legend()\n",
    "\n",
    "    # Let's make use of a lot of operations we have learned above\n",
    "    c0 = np.array(to_rgba(\"C0\"))\n",
    "    c1 = np.array(to_rgba(\"C1\"))\n",
    "    x1 = jnp.arange(-0.5, 1.5, step=0.01)\n",
    "    x2 = jnp.arange(-0.5, 1.5, step=0.01)\n",
    "    xx1, xx2 = jnp.meshgrid(x1, x2, indexing=\"ij\")  # Meshgrid function as in numpy\n",
    "    model_inputs = np.stack([xx1, xx2], axis=-1)\n",
    "    logits = model(model_inputs)\n",
    "    preds = nn.sigmoid(logits)\n",
    "    output_image = (1 - preds) * c0[None, None] + preds * c1[\n",
    "        None, None\n",
    "    ]  # Specifying \"None\" in a dimension creates a new one\n",
    "    output_image = jax.device_get(\n",
    "        output_image\n",
    "    )  # Convert to numpy array. This only works for tensors on CPU, hence first push to CPU\n",
    "    plt.imshow(output_image, origin=\"lower\", extent=(-0.5, 1.5, -0.5, 1.5))\n",
    "    plt.grid(False)\n",
    "    return fig\n",
    "\n",
    "\n",
    "_ = visualize_classification(trained_model, dataset.data, dataset.label)\n",
    "plt.show()"
   ]
  },
  {
   "cell_type": "markdown",
   "id": "a55bb0f7",
   "metadata": {},
   "source": [
    "The decision boundaries might not look exactly as in the figure in the preamble of this section, since this has been created with the PyTorch version of the tutorial. Nevertheless, the result on the accuracy metric should be the approximately the same. "
   ]
  },
  {
   "cell_type": "markdown",
   "id": "e32cc81e",
   "metadata": {},
   "source": [
    "### Conclusion\n",
    "\n",
    "This concludes our tutorial on training a neural network with JAX. While the functional programming perspective of JAX may seem very different to PyTorch at first, it enables a considerable speedup in training, not only for tiny models like here. If you are interested in seeing more practical use cases of JAX, we recommend checking out our other JAX Tutorials, such as:\n",
    "\n",
    "* [Tutorial 5 (JAX): Inception, ResNet and DenseNet](https://uvadlc-notebooks.readthedocs.io/en/latest/tutorial_notebooks/JAX/tutorial5/Inception_ResNet_DenseNet.html) gives an intro to training convolutional classifiers on CIFAR10;\n",
    "* [Tutorial 6 (JAX): Transformers and Multi-Head Attention](https://uvadlc-notebooks.readthedocs.io/en/latest/tutorial_notebooks/JAX/tutorial6/Transformers_and_MHAttention.html) builds a Transformer from scratch with Flax;\n",
    "* [Tutorial 7 (JAX): Graph Neural Networks](https://uvadlc-notebooks.readthedocs.io/en/latest/tutorial_notebooks/JAX/tutorial7/GNN_overview.html) implements basic Graph Neural Network layers;\n",
    "* [Tutorial 9 (JAX): Deep Autoencoders](https://uvadlc-notebooks.readthedocs.io/en/latest/tutorial_notebooks/JAX/tutorial9/AE_CIFAR10.html) shows how to train autoencoders on CIFAR10;\n",
    "* [Tutorial 11 (JAX): Normalizing Flows for image modeling](https://uvadlc-notebooks.readthedocs.io/en/latest/tutorial_notebooks/JAX/tutorial11/NF_image_modeling.html) discusses Normalizing Flows as generative model on images;\n",
    "* [Tutorial 15 (JAX): Vision Transformers](https://uvadlc-notebooks.readthedocs.io/en/latest/tutorial_notebooks/JAX/tutorial15/Vision_Transformer.html) trains a Transformer on image classification for CIFAR10."
   ]
  },
  {
   "cell_type": "markdown",
   "id": "308c6ef4",
   "metadata": {},
   "source": [
    "## ✨ The Fancy Bits ✨\n",
    "\n",
    "After reading this tutorial, you might wonder why we left out some key advertisement points of JAX: automatic vectorization, easy parallelization on multiple accelerators, etc. The reason why we did not include them in our previous discuss is that for building simple networks, and actual most models in our tutorials, you do not really need these methods. However, since they can be handy at some times, for instance, if you have access to a large cluster or are faced with functions that are annoying to vectorize, we review them here in a separate section: the Fancy Bits of JAX (the title is inspired by JAX's tutorial [🔪 JAX - The Sharp Bits 🔪](https://jax.readthedocs.io/en/latest/notebooks/Common_Gotchas_in_JAX.html))."
   ]
  },
  {
   "cell_type": "markdown",
   "id": "84ffa266",
   "metadata": {},
   "source": [
    "### Automatic Vectorization with vmap\n",
    "\n",
    "In machine learning, we often vectorize methods to efficiently process multiple inputs or batch elements at the same time. Usually, we have to write the code ourselves to support additional dimensions to vectorize over. However, since JAX can already transform functions to run efficiently on accelerators or calculate gradients, it can also automatically vectorize a function. For instance, let's consider a simple linear layer where we write a function for a single input `x` of shape `[c_in]`, a weight matrix `[c_in, c_out]`, and a bias vector `[c_out]`: "
   ]
  },
  {
   "cell_type": "code",
   "execution_count": 63,
   "id": "cf303717",
   "metadata": {},
   "outputs": [],
   "source": [
    "def simple_linear(x, w, b):\n",
    "    # We could already vectorize this function with matmul, but as an example,\n",
    "    # let us use a non-vectorized function with same output\n",
    "    return (x[:, None] * w).sum(axis=0) + b"
   ]
  },
  {
   "cell_type": "code",
   "execution_count": 64,
   "id": "6d7ae3f9",
   "metadata": {},
   "outputs": [
    {
     "data": {
      "text/plain": [
       "Array([-0.5393317,  1.4906642,  0.7108946], dtype=float32)"
      ]
     },
     "execution_count": 64,
     "metadata": {},
     "output_type": "execute_result"
    }
   ],
   "source": [
    "# Example inputs\n",
    "rng, x_rng, w_rng, b_rng = jax.random.split(rng, 4)\n",
    "x_in = jax.random.normal(x_rng, (4,))\n",
    "w_in = jax.random.normal(w_rng, (4, 3))\n",
    "b_in = jax.random.normal(b_rng, (3,))\n",
    "\n",
    "simple_linear(x_in, w_in, b_in)"
   ]
  },
  {
   "cell_type": "markdown",
   "id": "ff73b578",
   "metadata": {},
   "source": [
    "Now, we would like the function to support a batch dimension on `x`, i.e. `[batch, c_in]`. Our naive implementation above does not support this, since we specialized the axis we sum over. So, let's make JAX do the work for us and vectorize the function by using `jax.vmap`:"
   ]
  },
  {
   "cell_type": "code",
   "execution_count": 65,
   "id": "e77d9ada",
   "metadata": {},
   "outputs": [],
   "source": [
    "vectorized_linear = jax.vmap(\n",
    "    simple_linear,\n",
    "    in_axes=(0, None, None),  # Which axes to vectorize for each input\n",
    "    out_axes=0,  # Which axes to map to in the output\n",
    ")"
   ]
  },
  {
   "cell_type": "markdown",
   "id": "9c8dc7f0",
   "metadata": {},
   "source": [
    "Specifying `None` for the in-axes of the input arguments `w` and `b` means that we do not want to vectorize any of their input dimensions. With this vmap specification, the function `vectorized_linear` now supports an extra batch dimension in `x`! Let's try it out:"
   ]
  },
  {
   "cell_type": "code",
   "execution_count": 66,
   "id": "4db1aab2",
   "metadata": {},
   "outputs": [
    {
     "data": {
      "text/plain": [
       "Array([[-0.5393317,  1.4906642,  0.7108946],\n",
       "       [-0.5393317,  1.4906642,  0.7108946],\n",
       "       [-0.5393317,  1.4906642,  0.7108946],\n",
       "       [-0.5393317,  1.4906642,  0.7108946],\n",
       "       [-0.5393317,  1.4906642,  0.7108946]], dtype=float32)"
      ]
     },
     "execution_count": 66,
     "metadata": {},
     "output_type": "execute_result"
    }
   ],
   "source": [
    "x_vec_in = jnp.stack([x_in] * 5, axis=0)\n",
    "\n",
    "vectorized_linear(x_vec_in, w_in, b_in)"
   ]
  },
  {
   "cell_type": "markdown",
   "id": "94883303",
   "metadata": {},
   "source": [
    "The new function indeed vectorized our code, calculating $N$ applications of the weights and bias to the input. We can also vectorize the code to run multiple inputs `x` on multiple weights `w` and biases `b` by changing the input argument `in_axes` to `(0, 0, 0)`, or simply `0`. Morever, we can again stack multiple function transformations, such as jitting a vectorized function. Further details on `jax.vmap` can be found in this [tutorial](\n",
    "https://jax.readthedocs.io/en/latest/jax-101/03-vectorization.html\n",
    ") and its [documentation](https://jax.readthedocs.io/en/latest/_autosummary/jax.vmap.html?highlight=vmap)."
   ]
  },
  {
   "cell_type": "markdown",
   "id": "15684cf7",
   "metadata": {},
   "source": [
    "### Parallel evaluation with pmap\n",
    "\n",
    "`jax.vmap` vectorizes a function on a single accelerator. But what if we have multiple GPUs or TPUs available? In PyTorch, we can parallelize a model over multiple GPUs using `nn.DistributedDataParallel`. In JAX, this is yet another function transformation: `jax.pmap`. Similar to `jax.vmap`, we can specify over which axes each input should be parallelized. In a network training, we usually want to parallelize over an extra batch dimension in the data, while the parameters are identical for all devices. For more details on `jax.pmap`, see [Parallel Evaluation in JAX](https://jax.readthedocs.io/en/latest/jax-101/06-parallelism.html)."
   ]
  },
  {
   "cell_type": "markdown",
   "id": "62796a4e",
   "metadata": {},
   "source": [
    "### Working with PyTrees\n",
    "\n",
    "Network parameters in Flax are stored in a PyTree. We have visited them before, but what we haven't discuss yet is JAX's utilities to operate on pytrees! One common application is to obtain a list of all parameters in the network. This corresponds to extracting all leafs from a PyTree, for which JAX provides the function `jax.tree_leaves`:"
   ]
  },
  {
   "cell_type": "code",
   "execution_count": 67,
   "id": "8e4bd2af",
   "metadata": {},
   "outputs": [
    {
     "name": "stdout",
     "output_type": "stream",
     "text": [
      "We have parameters with the following shapes: (8,), (2, 8), (1,), (8, 1)\n",
      "Overall parameter count: 33\n"
     ]
    },
    {
     "name": "stderr",
     "output_type": "stream",
     "text": [
      "/tmp/ipykernel_3225/3648342815.py:1: FutureWarning: jax.tree_leaves is deprecated, and will be removed in a future release. Use jax.tree_util.tree_leaves instead.\n",
      "  parameters = jax.tree_leaves(model_state.params)\n"
     ]
    }
   ],
   "source": [
    "parameters = jax.tree_leaves(model_state.params)\n",
    "print(\n",
    "    \"We have parameters with the following shapes:\",\n",
    "    \", \".join([str(p.shape) for p in parameters]),\n",
    ")\n",
    "print(\"Overall parameter count:\", sum([np.prod(p.shape) for p in parameters]))"
   ]
  },
  {
   "cell_type": "markdown",
   "id": "3349815f",
   "metadata": {},
   "source": [
    "We can also create new PyTrees that are the result of applying a function on all elements in the tree using `jax.tree_map`. For instance, let's obtain a PyTree with all parameter shapes:"
   ]
  },
  {
   "cell_type": "code",
   "execution_count": 68,
   "id": "1721a198",
   "metadata": {},
   "outputs": [
    {
     "data": {
      "text/plain": [
       "FrozenDict({\n",
       "    params: {\n",
       "        linear1: {\n",
       "            bias: (8,),\n",
       "            kernel: (2, 8),\n",
       "        },\n",
       "        linear2: {\n",
       "            bias: (1,),\n",
       "            kernel: (8, 1),\n",
       "        },\n",
       "    },\n",
       "})"
      ]
     },
     "execution_count": 68,
     "metadata": {},
     "output_type": "execute_result"
    }
   ],
   "source": [
    "jax.tree_map(lambda p: p.shape, model_state.params)"
   ]
  },
  {
   "cell_type": "markdown",
   "id": "7576e873",
   "metadata": {},
   "source": [
    "The nodes of PyTrees do not necessarily need to be NumPy or JAX arrays, but can be arbitrary objects. Overall, PyTrees provide a simple, structured representation of data useful in many applications. More details can be found in JAX's Tutorial [Working with PyTrees](https://jax.readthedocs.io/en/latest/jax-101/05.1-pytrees.html)."
   ]
  },
  {
   "cell_type": "markdown",
   "id": "972d1342",
   "metadata": {},
   "source": [
    "## 🔪 The Sharp Bits 🔪\n",
    "\n",
    "Since JAX functions need to be written with certain constraints, there are situations where this can get annoying or difficult. A great overview of those, why they are needed, and most importantly, what to do about them, can be found in the original JAX tutorial [🔪 JAX - The Sharp Bits 🔪](https://jax.readthedocs.io/en/latest/notebooks/Common_Gotchas_in_JAX.html). In this final section of the tutorial, we want to visit a few of those points we have not explicitly discussed yet. Furthermore, we also focus on the combination with Flax, and what can be annoying when training models."
   ]
  },
  {
   "cell_type": "markdown",
   "id": "4fc16606",
   "metadata": {},
   "source": [
    "### Dynamic shapes\n",
    "\n",
    "JAX has the great advantage of providing just-in-time compilation of functions to speed up the computation. For this, it uses its intermediate representation jaxpr, which is specialized to the shapes of the input arguments. However, this also means that a jitted function is specialized to a certain shape, and running the jitted function with a different input shape requires recompiling the function. For instance, consider the following simple function:"
   ]
  },
  {
   "cell_type": "code",
   "execution_count": 69,
   "id": "48c42ead",
   "metadata": {},
   "outputs": [],
   "source": [
    "def my_function(x):\n",
    "    print(\"Running the function with shape\", x.shape)\n",
    "    return x.mean()\n",
    "\n",
    "\n",
    "jitted_function = jax.jit(my_function)"
   ]
  },
  {
   "cell_type": "markdown",
   "id": "4bcf0f45",
   "metadata": {},
   "source": [
    "The print statement is only executed once when the function is compiled, and for all consecutive function calls, this print statement will be ignored since it is not part of the jaxpr representation. Let's run the function now with multiple different input shapes:"
   ]
  },
  {
   "cell_type": "code",
   "execution_count": 70,
   "id": "ff368813",
   "metadata": {},
   "outputs": [
    {
     "name": "stdout",
     "output_type": "stream",
     "text": [
      "Running the function with shape (1,)\n",
      "Running the function with shape (2,)\n",
      "Running the function with shape (3,)\n",
      "Running the function with shape (4,)\n",
      "Running the function with shape (5,)\n",
      "Running the function with shape (6,)\n",
      "Running the function with shape (7,)\n",
      "Running the function with shape (8,)\n",
      "Running the function with shape (9,)\n",
      "Running the function with shape (10,)\n"
     ]
    }
   ],
   "source": [
    "for i in range(10):\n",
    "    jitted_function(\n",
    "        jnp.zeros(\n",
    "            i + 1,\n",
    "        )\n",
    "    )"
   ]
  },
  {
   "cell_type": "markdown",
   "id": "9205769b",
   "metadata": {},
   "source": [
    "As we can see, the function is compiled for every different input we give it. This can become inefficient if we actually work with many different shapes. However, running the function again with one of the previous input shapes will not require another compilation:"
   ]
  },
  {
   "cell_type": "code",
   "execution_count": 71,
   "id": "9f929ce4",
   "metadata": {},
   "outputs": [],
   "source": [
    "# Running the functions a second time will not print out anything since\n",
    "# the functions are already jitted for the respective input shapes.\n",
    "for i in range(10):\n",
    "    jitted_function(\n",
    "        jnp.zeros(\n",
    "            i + 1,\n",
    "        )\n",
    "    )"
   ]
  },
  {
   "cell_type": "markdown",
   "id": "b6bc1b4d",
   "metadata": {},
   "source": [
    "If we have a very limited set of different shapes, we do not see a big performance difference. For instance, in our evaluation, the last batch size is smaller than the previous since we have a limited size of the evaluation dataset. However, for other applications, we might encounter this problem much more often: NLP and time series, and graphs. In these cases, it is recommend to pad the batches to prevent many re-compilations (see Flax's [padding guide](https://flax.readthedocs.io/en/latest/howtos/full_eval.html) for details). We briefly review the two scenarios below.\n",
    "\n",
    "#### NLP and time series\n",
    "\n",
    "In Natural Language Processing, our data consist of sentences which greatly vary in size. Already for batching the elements, we need to apply padding, such that the shape of the batch is determined by the largest sentence in the batch. However, this largest length can vary between batches, especially when we shuffle the dataset before each epoch. In PyTorch, this is not a problem, since the dynamic computation graph allows us to stop the computation whenever we need to. In contrast, JAX would need to recompile the forward pass for every single largest sentence length, which can quickly become very expensive. Padding is needed to reduce the number of compilations, but at the same time introduces unnecessary computation. Hence, we have a tradeoff between number of compilations and extra compute per batch. In the extreme case, PyTorch may even become faster than JAX here.\n",
    "\n",
    "#### Graphs\n",
    "\n",
    "Similar to NLP, graphs can vary in their size. Often, graphs differ in their number of nodes, but especially in the number of edges. Furthermore, when we start batching the graphs, the variation of node sizes and edge count considerably increases. Again, padding is needed to reduce the number of compilations, and we will revisit this topic in Tutorial 7 (TBD)."
   ]
  },
  {
   "cell_type": "markdown",
   "id": "63446f6d",
   "metadata": {},
   "source": [
    "### Debugging in jitted functions\n",
    "\n",
    "During coding, we likely want to debug our model and sometimes print out intermediate values. In JAX, when jitting functions, this is not as straightforward. As we could see from the previous cells, a print statement is only executed once during compilation, and afterwards removed since it is not part of the jaxpr representation. Furthermore, there can be issues when tracking NaNs in your code (see the [sharp bits tutorial](https://jax.readthedocs.io/en/latest/notebooks/Common_Gotchas_in_JAX.html#debugging-nans)), and errors like out-of-bounds indexing are silently handled on accelerators by returning -1 instead of an error (see the corresponding section in the [sharp bits tutorial](https://jax.readthedocs.io/en/latest/notebooks/Common_Gotchas_in_JAX.html#out-of-bounds-indexing)). However, if necessary, one can either run the unjitted version of the forward pass first, and even introduce print statements to the jitted version where needed (see [here](https://github.com/google/jax/issues/196) for a great explanation). Still, it is not as straight-forward as in PyTorch, for example."
   ]
  },
  {
   "cell_type": "markdown",
   "id": "c2eadd68",
   "metadata": {},
   "source": [
    "### Modules with different train and evaluation functions\n",
    "\n",
    "Certain deep learning layers have different behaviors under evaluation than during training. For instance, dropout randomly masks out a number of neurons during training, but leaves the graph untouched during evaluation. In PyTorch, we can easily switch between the two states via `model.train()` and `model.eval()` without having to manually specify it in the dropout module instance. However, in JAX, we do not have global states in the model, and thus need to pass this information to every module in the forward pass that may need it. In our example above, this was not needed, since the forward pass of the simple classifier is identical during training and evaluation. Alternatively, since the parameters are not bound to a specific model during training, one can also create two models: one training model, and one evaluation model. Nonetheless, one still needs to add the information to every module with changing behaviors, which adds a certain overhead compared to PyTorch. We will discuss two common modules with such behaviors below: dropout and BatchNorm."
   ]
  },
  {
   "cell_type": "markdown",
   "id": "756122b5",
   "metadata": {},
   "source": [
    "#### Dropout\n",
    "\n",
    "In Flax, [Dropout](https://flax.readthedocs.io/en/latest/_autosummary/flax.linen.Dropout.html) has an argument `deterministic` which turns off dropout when True, and otherwise applies the random masking as intended during training. This deterministic switch can either be defined in the constructor, or in every forward call. Furthermore, dropout has the special case that it is a random operation during training, meaning that it also needs a PRNG state. Fortunately, we do not have to pass this state in every PRNG state, but instead, can simply pass `rngs={'dropout': dropout_rng}` with `dropout_rng` being the PRNG state. For an example, see our [Tutorial 6](https://uvadlc-notebooks.readthedocs.io/en/latest/tutorial_notebooks/JAX/tutorial6/Transformers_and_MHAttention.html) on Transformers in which we use dropout in several occasions."
   ]
  },
  {
   "cell_type": "markdown",
   "id": "29f3ec61",
   "metadata": {},
   "source": [
    "#### BatchNorm\n",
    "\n",
    "Batch Normalization transforms the input in two different ways. During training, we determine the mean and standard deviation of the input, and normalize the data with it to a zero mean and standard deviation of one. During evaluation, on the other hand, we take a running statistic over the previous several batches, and use those to estimate the mean and standard deviation. This is necessary to keep the evaluation stable and invariant to the specific batches we choose. Still, in the Flax module ([documentation](https://flax.readthedocs.io/en/latest/_autosummary/flax.linen.BatchNorm.html)), we need to give the argument `use_running_average` (bool) to either the constructor or each forward pass. Furthermore, BatchNorm has a specific property we haven't discussed yet and is a bit tricky in JAX: keeping track of the running average. During every forward pass, we want to record the mean and standard deviation of the current batch, and update our current average over the past batches. However, this requires changing an input tensor, and returning this changed tensor again. In Flax, we can do this by defining the batch statistics as a mutable tensor. Check out our [Tutorial 5](https://uvadlc-notebooks.readthedocs.io/en/latest/tutorial_notebooks/JAX/tutorial5/Inception_ResNet_DenseNet.html) to see BatchNorm being used in practice with Flax."
   ]
  },
  {
   "cell_type": "markdown",
   "id": "f7ba15d3",
   "metadata": {},
   "source": [
    "---\n",
    "\n",
    "[![Star our repository](https://img.shields.io/static/v1.svg?logo=star&label=⭐&message=Star%20Our%20Repository&color=yellow)](https://github.com/phlippe/uvadlc_notebooks/)  If you found this tutorial helpful, consider ⭐-ing our repository.    \n",
    "[![Ask questions](https://img.shields.io/static/v1.svg?logo=star&label=❔&message=Ask%20Questions&color=9cf)](https://github.com/phlippe/uvadlc_notebooks/issues)  For any questions, typos, or bugs that you found, please raise an issue on GitHub. \n",
    "\n",
    "---"
   ]
  }
 ],
 "metadata": {
  "kernelspec": {
   "display_name": "Python 3 (ipykernel)",
   "language": "python",
   "name": "python3"
  },
  "language_info": {
   "codemirror_mode": {
    "name": "ipython",
    "version": 3
   },
   "file_extension": ".py",
   "mimetype": "text/x-python",
   "name": "python",
   "nbconvert_exporter": "python",
   "pygments_lexer": "ipython3",
   "version": "3.10.9"
  }
 },
 "nbformat": 4,
 "nbformat_minor": 5
}
